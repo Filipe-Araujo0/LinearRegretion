{
  "cells": [
    {
      "cell_type": "code",
      "execution_count": 22,
      "metadata": {
        "colab": {
          "base_uri": "https://localhost:8080/"
        },
        "id": "hZgrvA07fChA",
        "outputId": "642201e5-f047-4af8-9bcd-c65402548438"
      },
      "outputs": [
        {
          "output_type": "stream",
          "name": "stdout",
          "text": [
            "Drive already mounted at /content/drive; to attempt to forcibly remount, call drive.mount(\"/content/drive\", force_remount=True).\n"
          ]
        }
      ],
      "source": [
        "import pandas as pd\n",
        "import numpy as np\n",
        "from google.colab import drive\n",
        "drive.mount('/content/drive')\n",
        "\n",
        "data = pd.read_csv('/content/drive/MyDrive/kc_house_data.csv')"
      ]
    },
    {
      "cell_type": "code",
      "execution_count": 23,
      "metadata": {
        "colab": {
          "base_uri": "https://localhost:8080/"
        },
        "id": "W9EnkOf9C3ME",
        "outputId": "00fc9dba-1b20-4233-c358-5c8133fc3f7e"
      },
      "outputs": [
        {
          "output_type": "execute_result",
          "data": {
            "text/plain": [
              "(21613, 21)"
            ]
          },
          "metadata": {},
          "execution_count": 23
        }
      ],
      "source": [
        "data.shape"
      ]
    },
    {
      "cell_type": "code",
      "execution_count": 24,
      "metadata": {
        "colab": {
          "base_uri": "https://localhost:8080/"
        },
        "id": "FzUNompYjJEZ",
        "outputId": "578fdd7b-e293-4a59-baa3-133cb838c8ec"
      },
      "outputs": [
        {
          "output_type": "execute_result",
          "data": {
            "text/plain": [
              "id               0\n",
              "date             0\n",
              "price            0\n",
              "bedrooms         0\n",
              "bathrooms        0\n",
              "sqft_living      0\n",
              "sqft_lot         0\n",
              "floors           0\n",
              "waterfront       0\n",
              "view             0\n",
              "condition        0\n",
              "grade            0\n",
              "sqft_above       2\n",
              "sqft_basement    0\n",
              "yr_built         0\n",
              "yr_renovated     0\n",
              "zipcode          0\n",
              "lat              0\n",
              "long             0\n",
              "sqft_living15    0\n",
              "sqft_lot15       0\n",
              "dtype: int64"
            ]
          },
          "metadata": {},
          "execution_count": 24
        }
      ],
      "source": [
        "data.isnull().sum()"
      ]
    },
    {
      "cell_type": "code",
      "execution_count": 25,
      "metadata": {
        "colab": {
          "base_uri": "https://localhost:8080/"
        },
        "id": "ZZw9BS4QjJu_",
        "outputId": "fac8de6b-737e-4104-99c3-89ffaa7c5fef"
      },
      "outputs": [
        {
          "output_type": "execute_result",
          "data": {
            "text/plain": [
              "(array([10, 17]),)"
            ]
          },
          "metadata": {},
          "execution_count": 25
        }
      ],
      "source": [
        "np.where(data['sqft_above'].isnull().values==True)"
      ]
    },
    {
      "cell_type": "code",
      "execution_count": 26,
      "metadata": {
        "id": "-xZuwbxCjOnF"
      },
      "outputs": [],
      "source": [
        "data = data.drop([10, 17])\n",
        "data = data.reset_index(drop=True)"
      ]
    },
    {
      "cell_type": "code",
      "execution_count": 27,
      "metadata": {
        "colab": {
          "base_uri": "https://localhost:8080/"
        },
        "id": "ztUjkBLSkEv0",
        "outputId": "18a9ccf1-8e4d-492d-a373-83d9638b081d"
      },
      "outputs": [
        {
          "output_type": "execute_result",
          "data": {
            "text/plain": [
              "(21611, 21)"
            ]
          },
          "metadata": {},
          "execution_count": 27
        }
      ],
      "source": [
        "data.shape"
      ]
    },
    {
      "cell_type": "code",
      "execution_count": 28,
      "metadata": {
        "id": "JDhtpm9V0jnX"
      },
      "outputs": [],
      "source": [
        "data = data.sample(frac=1, random_state = 42).reset_index(drop=True)\n",
        "dataRaw = data.copy()"
      ]
    },
    {
      "cell_type": "code",
      "execution_count": 29,
      "metadata": {
        "colab": {
          "base_uri": "https://localhost:8080/"
        },
        "id": "LS61p6uTiL32",
        "outputId": "9cd22744-acc1-4df6-ce9e-91e74dd8083b"
      },
      "outputs": [
        {
          "output_type": "execute_result",
          "data": {
            "text/plain": [
              "Index(['id', 'date', 'price', 'bedrooms', 'bathrooms', 'sqft_living',\n",
              "       'sqft_lot', 'floors', 'waterfront', 'view', 'condition', 'grade',\n",
              "       'sqft_above', 'sqft_basement', 'yr_built', 'yr_renovated', 'zipcode',\n",
              "       'lat', 'long', 'sqft_living15', 'sqft_lot15'],\n",
              "      dtype='object')"
            ]
          },
          "metadata": {},
          "execution_count": 29
        }
      ],
      "source": [
        "data.columns"
      ]
    },
    {
      "cell_type": "code",
      "execution_count": 30,
      "metadata": {
        "id": "eqv3zlmiieeG"
      },
      "outputs": [],
      "source": [
        "data = data.drop(['id', 'date'], axis=1)"
      ]
    },
    {
      "cell_type": "code",
      "execution_count": 31,
      "metadata": {
        "colab": {
          "base_uri": "https://localhost:8080/"
        },
        "id": "V6FxrDMHiuBd",
        "outputId": "03f591ca-517b-4e61-d2db-5fbf377448e6"
      },
      "outputs": [
        {
          "output_type": "execute_result",
          "data": {
            "text/plain": [
              "Index(['price', 'bedrooms', 'bathrooms', 'sqft_living', 'sqft_lot', 'floors',\n",
              "       'waterfront', 'view', 'condition', 'grade', 'sqft_above',\n",
              "       'sqft_basement', 'yr_built', 'yr_renovated', 'zipcode', 'lat', 'long',\n",
              "       'sqft_living15', 'sqft_lot15'],\n",
              "      dtype='object')"
            ]
          },
          "metadata": {},
          "execution_count": 31
        }
      ],
      "source": [
        "data.columns"
      ]
    },
    {
      "cell_type": "code",
      "execution_count": 32,
      "metadata": {
        "colab": {
          "base_uri": "https://localhost:8080/",
          "height": 270
        },
        "id": "j-BhP1UyizVJ",
        "outputId": "b0be214d-aeba-4ec3-827e-55b7680fc9dc"
      },
      "outputs": [
        {
          "output_type": "execute_result",
          "data": {
            "text/plain": [
              "      price  bedrooms  bathrooms  sqft_living  sqft_lot  floors  waterfront  \\\n",
              "0  570000.0         4       2.50         2640     11816     2.0           0   \n",
              "1  720001.0         3       2.50         1430      2200     1.5           0   \n",
              "2  267000.0         3       2.00         1390      6005     2.0           0   \n",
              "3  320000.0         3       3.25         1450      1387     2.0           0   \n",
              "4  397000.0         4       1.75         2020      6000     1.0           0   \n",
              "\n",
              "   view  condition  grade  sqft_above  sqft_basement  yr_built  yr_renovated  \\\n",
              "0     0          3      8      2640.0              0      1999             0   \n",
              "1     0          4      7      1430.0              0      1910             0   \n",
              "2     0          3      8      1390.0              0      2005             0   \n",
              "3     0          3      8      1180.0            270      2013             0   \n",
              "4     0          3      7      1620.0            400      1959             0   \n",
              "\n",
              "   zipcode      lat     long  sqft_living15  sqft_lot15  \n",
              "0    98019  47.7330 -121.968           2400       11816  \n",
              "1    98103  47.6601 -122.331           1740        4275  \n",
              "2    98022  47.2117 -121.990           1264        5550  \n",
              "3    98106  47.5556 -122.362           1450        1198  \n",
              "4    98144  47.5770 -122.302           1870        4000  "
            ],
            "text/html": [
              "\n",
              "  <div id=\"df-3dd11603-1c74-46cf-a73c-720acdb348fa\">\n",
              "    <div class=\"colab-df-container\">\n",
              "      <div>\n",
              "<style scoped>\n",
              "    .dataframe tbody tr th:only-of-type {\n",
              "        vertical-align: middle;\n",
              "    }\n",
              "\n",
              "    .dataframe tbody tr th {\n",
              "        vertical-align: top;\n",
              "    }\n",
              "\n",
              "    .dataframe thead th {\n",
              "        text-align: right;\n",
              "    }\n",
              "</style>\n",
              "<table border=\"1\" class=\"dataframe\">\n",
              "  <thead>\n",
              "    <tr style=\"text-align: right;\">\n",
              "      <th></th>\n",
              "      <th>price</th>\n",
              "      <th>bedrooms</th>\n",
              "      <th>bathrooms</th>\n",
              "      <th>sqft_living</th>\n",
              "      <th>sqft_lot</th>\n",
              "      <th>floors</th>\n",
              "      <th>waterfront</th>\n",
              "      <th>view</th>\n",
              "      <th>condition</th>\n",
              "      <th>grade</th>\n",
              "      <th>sqft_above</th>\n",
              "      <th>sqft_basement</th>\n",
              "      <th>yr_built</th>\n",
              "      <th>yr_renovated</th>\n",
              "      <th>zipcode</th>\n",
              "      <th>lat</th>\n",
              "      <th>long</th>\n",
              "      <th>sqft_living15</th>\n",
              "      <th>sqft_lot15</th>\n",
              "    </tr>\n",
              "  </thead>\n",
              "  <tbody>\n",
              "    <tr>\n",
              "      <th>0</th>\n",
              "      <td>570000.0</td>\n",
              "      <td>4</td>\n",
              "      <td>2.50</td>\n",
              "      <td>2640</td>\n",
              "      <td>11816</td>\n",
              "      <td>2.0</td>\n",
              "      <td>0</td>\n",
              "      <td>0</td>\n",
              "      <td>3</td>\n",
              "      <td>8</td>\n",
              "      <td>2640.0</td>\n",
              "      <td>0</td>\n",
              "      <td>1999</td>\n",
              "      <td>0</td>\n",
              "      <td>98019</td>\n",
              "      <td>47.7330</td>\n",
              "      <td>-121.968</td>\n",
              "      <td>2400</td>\n",
              "      <td>11816</td>\n",
              "    </tr>\n",
              "    <tr>\n",
              "      <th>1</th>\n",
              "      <td>720001.0</td>\n",
              "      <td>3</td>\n",
              "      <td>2.50</td>\n",
              "      <td>1430</td>\n",
              "      <td>2200</td>\n",
              "      <td>1.5</td>\n",
              "      <td>0</td>\n",
              "      <td>0</td>\n",
              "      <td>4</td>\n",
              "      <td>7</td>\n",
              "      <td>1430.0</td>\n",
              "      <td>0</td>\n",
              "      <td>1910</td>\n",
              "      <td>0</td>\n",
              "      <td>98103</td>\n",
              "      <td>47.6601</td>\n",
              "      <td>-122.331</td>\n",
              "      <td>1740</td>\n",
              "      <td>4275</td>\n",
              "    </tr>\n",
              "    <tr>\n",
              "      <th>2</th>\n",
              "      <td>267000.0</td>\n",
              "      <td>3</td>\n",
              "      <td>2.00</td>\n",
              "      <td>1390</td>\n",
              "      <td>6005</td>\n",
              "      <td>2.0</td>\n",
              "      <td>0</td>\n",
              "      <td>0</td>\n",
              "      <td>3</td>\n",
              "      <td>8</td>\n",
              "      <td>1390.0</td>\n",
              "      <td>0</td>\n",
              "      <td>2005</td>\n",
              "      <td>0</td>\n",
              "      <td>98022</td>\n",
              "      <td>47.2117</td>\n",
              "      <td>-121.990</td>\n",
              "      <td>1264</td>\n",
              "      <td>5550</td>\n",
              "    </tr>\n",
              "    <tr>\n",
              "      <th>3</th>\n",
              "      <td>320000.0</td>\n",
              "      <td>3</td>\n",
              "      <td>3.25</td>\n",
              "      <td>1450</td>\n",
              "      <td>1387</td>\n",
              "      <td>2.0</td>\n",
              "      <td>0</td>\n",
              "      <td>0</td>\n",
              "      <td>3</td>\n",
              "      <td>8</td>\n",
              "      <td>1180.0</td>\n",
              "      <td>270</td>\n",
              "      <td>2013</td>\n",
              "      <td>0</td>\n",
              "      <td>98106</td>\n",
              "      <td>47.5556</td>\n",
              "      <td>-122.362</td>\n",
              "      <td>1450</td>\n",
              "      <td>1198</td>\n",
              "    </tr>\n",
              "    <tr>\n",
              "      <th>4</th>\n",
              "      <td>397000.0</td>\n",
              "      <td>4</td>\n",
              "      <td>1.75</td>\n",
              "      <td>2020</td>\n",
              "      <td>6000</td>\n",
              "      <td>1.0</td>\n",
              "      <td>0</td>\n",
              "      <td>0</td>\n",
              "      <td>3</td>\n",
              "      <td>7</td>\n",
              "      <td>1620.0</td>\n",
              "      <td>400</td>\n",
              "      <td>1959</td>\n",
              "      <td>0</td>\n",
              "      <td>98144</td>\n",
              "      <td>47.5770</td>\n",
              "      <td>-122.302</td>\n",
              "      <td>1870</td>\n",
              "      <td>4000</td>\n",
              "    </tr>\n",
              "  </tbody>\n",
              "</table>\n",
              "</div>\n",
              "      <button class=\"colab-df-convert\" onclick=\"convertToInteractive('df-3dd11603-1c74-46cf-a73c-720acdb348fa')\"\n",
              "              title=\"Convert this dataframe to an interactive table.\"\n",
              "              style=\"display:none;\">\n",
              "        \n",
              "  <svg xmlns=\"http://www.w3.org/2000/svg\" height=\"24px\"viewBox=\"0 0 24 24\"\n",
              "       width=\"24px\">\n",
              "    <path d=\"M0 0h24v24H0V0z\" fill=\"none\"/>\n",
              "    <path d=\"M18.56 5.44l.94 2.06.94-2.06 2.06-.94-2.06-.94-.94-2.06-.94 2.06-2.06.94zm-11 1L8.5 8.5l.94-2.06 2.06-.94-2.06-.94L8.5 2.5l-.94 2.06-2.06.94zm10 10l.94 2.06.94-2.06 2.06-.94-2.06-.94-.94-2.06-.94 2.06-2.06.94z\"/><path d=\"M17.41 7.96l-1.37-1.37c-.4-.4-.92-.59-1.43-.59-.52 0-1.04.2-1.43.59L10.3 9.45l-7.72 7.72c-.78.78-.78 2.05 0 2.83L4 21.41c.39.39.9.59 1.41.59.51 0 1.02-.2 1.41-.59l7.78-7.78 2.81-2.81c.8-.78.8-2.07 0-2.86zM5.41 20L4 18.59l7.72-7.72 1.47 1.35L5.41 20z\"/>\n",
              "  </svg>\n",
              "      </button>\n",
              "      \n",
              "  <style>\n",
              "    .colab-df-container {\n",
              "      display:flex;\n",
              "      flex-wrap:wrap;\n",
              "      gap: 12px;\n",
              "    }\n",
              "\n",
              "    .colab-df-convert {\n",
              "      background-color: #E8F0FE;\n",
              "      border: none;\n",
              "      border-radius: 50%;\n",
              "      cursor: pointer;\n",
              "      display: none;\n",
              "      fill: #1967D2;\n",
              "      height: 32px;\n",
              "      padding: 0 0 0 0;\n",
              "      width: 32px;\n",
              "    }\n",
              "\n",
              "    .colab-df-convert:hover {\n",
              "      background-color: #E2EBFA;\n",
              "      box-shadow: 0px 1px 2px rgba(60, 64, 67, 0.3), 0px 1px 3px 1px rgba(60, 64, 67, 0.15);\n",
              "      fill: #174EA6;\n",
              "    }\n",
              "\n",
              "    [theme=dark] .colab-df-convert {\n",
              "      background-color: #3B4455;\n",
              "      fill: #D2E3FC;\n",
              "    }\n",
              "\n",
              "    [theme=dark] .colab-df-convert:hover {\n",
              "      background-color: #434B5C;\n",
              "      box-shadow: 0px 1px 3px 1px rgba(0, 0, 0, 0.15);\n",
              "      filter: drop-shadow(0px 1px 2px rgba(0, 0, 0, 0.3));\n",
              "      fill: #FFFFFF;\n",
              "    }\n",
              "  </style>\n",
              "\n",
              "      <script>\n",
              "        const buttonEl =\n",
              "          document.querySelector('#df-3dd11603-1c74-46cf-a73c-720acdb348fa button.colab-df-convert');\n",
              "        buttonEl.style.display =\n",
              "          google.colab.kernel.accessAllowed ? 'block' : 'none';\n",
              "\n",
              "        async function convertToInteractive(key) {\n",
              "          const element = document.querySelector('#df-3dd11603-1c74-46cf-a73c-720acdb348fa');\n",
              "          const dataTable =\n",
              "            await google.colab.kernel.invokeFunction('convertToInteractive',\n",
              "                                                     [key], {});\n",
              "          if (!dataTable) return;\n",
              "\n",
              "          const docLinkHtml = 'Like what you see? Visit the ' +\n",
              "            '<a target=\"_blank\" href=https://colab.research.google.com/notebooks/data_table.ipynb>data table notebook</a>'\n",
              "            + ' to learn more about interactive tables.';\n",
              "          element.innerHTML = '';\n",
              "          dataTable['output_type'] = 'display_data';\n",
              "          await google.colab.output.renderOutput(dataTable, element);\n",
              "          const docLink = document.createElement('div');\n",
              "          docLink.innerHTML = docLinkHtml;\n",
              "          element.appendChild(docLink);\n",
              "        }\n",
              "      </script>\n",
              "    </div>\n",
              "  </div>\n",
              "  "
            ]
          },
          "metadata": {},
          "execution_count": 32
        }
      ],
      "source": [
        "data.head()"
      ]
    },
    {
      "cell_type": "code",
      "execution_count": 33,
      "metadata": {
        "colab": {
          "base_uri": "https://localhost:8080/"
        },
        "id": "8-JchfHY9FsT",
        "outputId": "5b6a159e-0da3-48cd-da52-a88a899803a0"
      },
      "outputs": [
        {
          "output_type": "execute_result",
          "data": {
            "text/plain": [
              "pandas.core.frame.DataFrame"
            ]
          },
          "metadata": {},
          "execution_count": 33
        }
      ],
      "source": [
        "type(data)"
      ]
    },
    {
      "cell_type": "code",
      "execution_count": 34,
      "metadata": {
        "id": "gin5byxIvl4t"
      },
      "outputs": [],
      "source": [
        "X = data.drop('price', axis=1)\n",
        "y = data['price']"
      ]
    },
    {
      "cell_type": "code",
      "execution_count": 35,
      "metadata": {
        "id": "o7WkMStuvW46"
      },
      "outputs": [],
      "source": [
        "data = data.values"
      ]
    },
    {
      "cell_type": "code",
      "execution_count": 36,
      "metadata": {
        "colab": {
          "base_uri": "https://localhost:8080/"
        },
        "id": "sYguTjQivhMf",
        "outputId": "cf2e3593-cf64-401c-ad4d-757ffa6f522f"
      },
      "outputs": [
        {
          "output_type": "execute_result",
          "data": {
            "text/plain": [
              "numpy.ndarray"
            ]
          },
          "metadata": {},
          "execution_count": 36
        }
      ],
      "source": [
        "type(data)"
      ]
    },
    {
      "cell_type": "code",
      "execution_count": 37,
      "metadata": {
        "colab": {
          "base_uri": "https://localhost:8080/"
        },
        "id": "JGTBvp1zzOk4",
        "outputId": "d29a6f97-7687-4cbf-8009-5c9e03a58e05"
      },
      "outputs": [
        {
          "output_type": "stream",
          "name": "stderr",
          "text": [
            "/usr/local/lib/python3.9/dist-packages/numpy/core/fromnumeric.py:3472: FutureWarning: In a future version, DataFrame.mean(axis=None) will return a scalar mean over the entire DataFrame. To retain the old behavior, use 'frame.mean(axis=0)' or just 'frame.mean()'\n",
            "  return mean(axis=axis, dtype=dtype, out=out, **kwargs)\n"
          ]
        }
      ],
      "source": [
        "#normalizando os dados de entrada\n",
        "xdp = np.std(X)\n",
        "xm = np.mean(X)\n",
        "X = (X-xm)/xdp"
      ]
    },
    {
      "cell_type": "code",
      "execution_count": 37,
      "metadata": {
        "id": "QUly0_ex9F4c"
      },
      "outputs": [],
      "source": []
    },
    {
      "cell_type": "code",
      "execution_count": 38,
      "metadata": {
        "colab": {
          "base_uri": "https://localhost:8080/"
        },
        "id": "rrTojdmKA49x",
        "outputId": "efaf4272-8c2c-4387-ebf9-754b6ab2282e"
      },
      "outputs": [
        {
          "output_type": "stream",
          "name": "stdout",
          "text": [
            "Looking in indexes: https://pypi.org/simple, https://us-python.pkg.dev/colab-wheels/public/simple/\n",
            "Requirement already satisfied: torchmetrics in /usr/local/lib/python3.9/dist-packages (0.11.4)\n",
            "Requirement already satisfied: packaging in /usr/local/lib/python3.9/dist-packages (from torchmetrics) (23.0)\n",
            "Requirement already satisfied: torch>=1.8.1 in /usr/local/lib/python3.9/dist-packages (from torchmetrics) (2.0.0+cu118)\n",
            "Requirement already satisfied: numpy>=1.17.2 in /usr/local/lib/python3.9/dist-packages (from torchmetrics) (1.22.4)\n",
            "Requirement already satisfied: jinja2 in /usr/local/lib/python3.9/dist-packages (from torch>=1.8.1->torchmetrics) (3.1.2)\n",
            "Requirement already satisfied: networkx in /usr/local/lib/python3.9/dist-packages (from torch>=1.8.1->torchmetrics) (3.1)\n",
            "Requirement already satisfied: sympy in /usr/local/lib/python3.9/dist-packages (from torch>=1.8.1->torchmetrics) (1.11.1)\n",
            "Requirement already satisfied: triton==2.0.0 in /usr/local/lib/python3.9/dist-packages (from torch>=1.8.1->torchmetrics) (2.0.0)\n",
            "Requirement already satisfied: filelock in /usr/local/lib/python3.9/dist-packages (from torch>=1.8.1->torchmetrics) (3.11.0)\n",
            "Requirement already satisfied: typing-extensions in /usr/local/lib/python3.9/dist-packages (from torch>=1.8.1->torchmetrics) (4.5.0)\n",
            "Requirement already satisfied: cmake in /usr/local/lib/python3.9/dist-packages (from triton==2.0.0->torch>=1.8.1->torchmetrics) (3.25.2)\n",
            "Requirement already satisfied: lit in /usr/local/lib/python3.9/dist-packages (from triton==2.0.0->torch>=1.8.1->torchmetrics) (16.0.1)\n",
            "Requirement already satisfied: MarkupSafe>=2.0 in /usr/local/lib/python3.9/dist-packages (from jinja2->torch>=1.8.1->torchmetrics) (2.1.2)\n",
            "Requirement already satisfied: mpmath>=0.19 in /usr/local/lib/python3.9/dist-packages (from sympy->torch>=1.8.1->torchmetrics) (1.3.0)\n"
          ]
        }
      ],
      "source": [
        "!pip install torchmetrics"
      ]
    },
    {
      "cell_type": "code",
      "execution_count": 39,
      "metadata": {
        "id": "DWKaPXER4Kk3"
      },
      "outputs": [],
      "source": [
        "import torch   \n",
        "from torch import Tensor             \n",
        "import torch.nn as nn                    \n",
        "import torch.optim as optim\n",
        "from torchmetrics import MeanAbsolutePercentageError\n",
        "from sklearn.model_selection import KFold"
      ]
    },
    {
      "cell_type": "code",
      "execution_count": 40,
      "metadata": {
        "colab": {
          "base_uri": "https://localhost:8080/"
        },
        "id": "XxRzhIFW9paz",
        "outputId": "58fa631f-7f2c-4453-b531-8190e0b75c97"
      },
      "outputs": [
        {
          "output_type": "stream",
          "name": "stdout",
          "text": [
            "Fold 0:\n",
            "  Train: index=[ 4323  4324  4325 ... 21608 21609 21610]\n",
            "  Test:  index=[   0    1    2 ... 4320 4321 4322]\n",
            "Fold 1:\n",
            "  Train: index=[    0     1     2 ... 21608 21609 21610]\n",
            "  Test:  index=[4323 4324 4325 ... 8642 8643 8644]\n",
            "Fold 2:\n",
            "  Train: index=[    0     1     2 ... 21608 21609 21610]\n",
            "  Test:  index=[ 8645  8646  8647 ... 12964 12965 12966]\n",
            "Fold 3:\n",
            "  Train: index=[    0     1     2 ... 21608 21609 21610]\n",
            "  Test:  index=[12967 12968 12969 ... 17286 17287 17288]\n",
            "Fold 4:\n",
            "  Train: index=[    0     1     2 ... 17286 17287 17288]\n",
            "  Test:  index=[17289 17290 17291 ... 21608 21609 21610]\n"
          ]
        }
      ],
      "source": [
        "for i, (train_index, test_index) in enumerate(KFold().split(X, y)):\n",
        "    print(f\"Fold {i}:\")\n",
        "    print(f\"  Train: index={train_index}\")\n",
        "    print(f\"  Test:  index={test_index}\")"
      ]
    },
    {
      "cell_type": "code",
      "execution_count": 41,
      "metadata": {
        "colab": {
          "base_uri": "https://localhost:8080/"
        },
        "id": "UGwQBwwtAfyt",
        "outputId": "eb11b8a2-6d17-4db9-8d1a-6c54f4df8983"
      },
      "outputs": [
        {
          "output_type": "stream",
          "name": "stdout",
          "text": [
            "Using cpu device\n",
            "Sequential(\n",
            "  (0): Linear(in_features=18, out_features=18, bias=True)\n",
            "  (1): ReLU()\n",
            "  (2): Linear(in_features=18, out_features=18, bias=True)\n",
            "  (3): ReLU()\n",
            "  (4): Linear(in_features=18, out_features=5, bias=True)\n",
            "  (5): ReLU()\n",
            "  (6): Linear(in_features=5, out_features=1, bias=True)\n",
            ")\n"
          ]
        }
      ],
      "source": [
        "device = (\n",
        "    \"cuda\"\n",
        "    if torch.cuda.is_available()\n",
        "    else \"mps\"\n",
        "    if torch.backends.mps.is_available()\n",
        "    else \"cpu\"\n",
        ")\n",
        "print(f\"Using {device} device\")\n",
        "\n",
        "def reset_weights(m):\n",
        "    if isinstance(m, nn.Conv2d) or isinstance(m, nn.Linear):\n",
        "        m.reset_parameters()\n",
        "\n",
        "model = torch.nn.Sequential(\n",
        "    torch.nn.Linear(18, 18),\n",
        "    nn.ReLU(),\n",
        "    torch.nn.Linear(18, 18),\n",
        "    nn.ReLU(),\n",
        "    torch.nn.Linear(18, 5),\n",
        "    nn.ReLU(),\n",
        "    torch.nn.Linear(5, 1),\n",
        ").to(device)\n",
        "print(model)\n",
        "\n",
        "loss_fn = MeanAbsolutePercentageError().to(device)\n",
        "optimizer = optim.AdamW(model.parameters())\n"
      ]
    },
    {
      "cell_type": "code",
      "execution_count": 42,
      "metadata": {
        "colab": {
          "base_uri": "https://localhost:8080/"
        },
        "id": "79g7LiIpDb5W",
        "outputId": "e8e5eeeb-8872-4dad-b6a8-482f7baf7c76"
      },
      "outputs": [
        {
          "output_type": "stream",
          "name": "stdout",
          "text": [
            "Fold 0, Epoch 0, Loss: 0.9999996423721313\n",
            "Fold 0, Epoch 100, Loss: 0.9999935626983643\n",
            "Fold 0, Epoch 200, Loss: 0.9998530149459839\n",
            "Fold 0, Epoch 300, Loss: 0.9989051222801208\n",
            "Fold 0, Epoch 400, Loss: 0.9957883954048157\n",
            "Fold 0, Epoch 500, Loss: 0.9885172843933105\n",
            "Fold 0, Epoch 600, Loss: 0.9745205640792847\n",
            "Fold 0, Epoch 700, Loss: 0.9507890939712524\n",
            "Fold 0, Epoch 800, Loss: 0.9142712354660034\n",
            "Fold 0, Epoch 900, Loss: 0.8635191917419434\n",
            "Fold 0, Epoch 1000, Loss: 0.8022957444190979\n",
            "Fold 0, Epoch 1100, Loss: 0.7426413893699646\n",
            "Fold 0, Epoch 1200, Loss: 0.6959789395332336\n",
            "Fold 0, Epoch 1300, Loss: 0.6598834991455078\n",
            "Fold 0, Epoch 1400, Loss: 0.6279909610748291\n",
            "Fold 0, Epoch 1500, Loss: 0.5966617465019226\n",
            "Fold 0, Epoch 1600, Loss: 0.5654200315475464\n",
            "Fold 0, Epoch 1700, Loss: 0.537197470664978\n",
            "Fold 0, Epoch 1800, Loss: 0.5156708359718323\n",
            "Fold 0, Epoch 1900, Loss: 0.4989328980445862\n",
            "Fold 0, Epoch 2000, Loss: 0.4845619797706604\n",
            "Fold 0, Epoch 2100, Loss: 0.47211864590644836\n",
            "Fold 0, Epoch 2200, Loss: 0.4610763490200043\n",
            "Fold 0, Epoch 2300, Loss: 0.4509376287460327\n",
            "Fold 0, Epoch 2400, Loss: 0.4412873089313507\n",
            "Fold 0, Epoch 2500, Loss: 0.43188029527664185\n",
            "Fold 0, Epoch 2600, Loss: 0.4223325252532959\n",
            "Fold 0, Epoch 2700, Loss: 0.4124926030635834\n",
            "Fold 0, Epoch 2800, Loss: 0.4022386372089386\n",
            "Fold 0, Epoch 2900, Loss: 0.39154303073883057\n",
            "Fold 0, Epoch 3000, Loss: 0.3805534541606903\n",
            "Fold 0, Epoch 3100, Loss: 0.36914363503456116\n",
            "Fold 0, Epoch 3200, Loss: 0.35725417733192444\n",
            "Fold 0, Epoch 3300, Loss: 0.34500986337661743\n",
            "Fold 0, Epoch 3400, Loss: 0.3325759768486023\n",
            "Fold 0, Epoch 3500, Loss: 0.319987028837204\n",
            "Fold 0, Epoch 3600, Loss: 0.30760321021080017\n",
            "Fold 0, Epoch 3700, Loss: 0.2955770492553711\n",
            "Fold 0, Epoch 3800, Loss: 0.2842833995819092\n",
            "Fold 0, Epoch 3900, Loss: 0.27389150857925415\n",
            "Fold 0, Epoch 4000, Loss: 0.26463812589645386\n",
            "Fold 0, Epoch 4100, Loss: 0.25634050369262695\n",
            "Fold 0, Epoch 4200, Loss: 0.24905546009540558\n",
            "Fold 0, Epoch 4300, Loss: 0.24265392124652863\n",
            "Fold 0, Epoch 4400, Loss: 0.2370387464761734\n",
            "Fold 0, Epoch 4500, Loss: 0.23208726942539215\n",
            "Fold 0, Epoch 4600, Loss: 0.22774329781532288\n",
            "Fold 0, Epoch 4700, Loss: 0.22392843663692474\n",
            "Fold 0, Epoch 4800, Loss: 0.22063028812408447\n",
            "Fold 0, Epoch 4900, Loss: 0.21778447926044464\n",
            "Fold 0, Epoch 5000, Loss: 0.21535824239253998\n",
            "Fold 0, Epoch 5100, Loss: 0.2132357656955719\n",
            "Fold 0, Epoch 5200, Loss: 0.21132288873195648\n",
            "Fold 0, Epoch 5300, Loss: 0.20963218808174133\n",
            "Fold 0, Epoch 5400, Loss: 0.2080904096364975\n",
            "Fold 0, Epoch 5500, Loss: 0.20664231479167938\n",
            "Fold 0, Epoch 5600, Loss: 0.2052576094865799\n",
            "Fold 0, Epoch 5700, Loss: 0.20388728380203247\n",
            "Fold 0, Epoch 5800, Loss: 0.20257700979709625\n",
            "Fold 0, Epoch 5900, Loss: 0.2013181447982788\n",
            "Fold 0, Epoch 6000, Loss: 0.20011109113693237\n",
            "Fold 0, Epoch 6100, Loss: 0.19894210994243622\n",
            "Fold 0, Epoch 6200, Loss: 0.1978279948234558\n",
            "Fold 0, Epoch 6300, Loss: 0.19676648080348969\n",
            "Fold 0, Epoch 6400, Loss: 0.19575589895248413\n",
            "Fold 0, Epoch 6500, Loss: 0.19481989741325378\n",
            "Fold 0, Epoch 6600, Loss: 0.19393453001976013\n",
            "Fold 0, Epoch 6700, Loss: 0.1931111365556717\n",
            "Fold 0, Epoch 6800, Loss: 0.1923511028289795\n",
            "Fold 0, Epoch 6900, Loss: 0.1916424185037613\n",
            "Fold 0, Epoch 7000, Loss: 0.1909731924533844\n",
            "Fold 0, Epoch 7100, Loss: 0.19033366441726685\n",
            "Fold 0, Epoch 7200, Loss: 0.18972845375537872\n",
            "Fold 0, Epoch 7300, Loss: 0.189146488904953\n",
            "Fold 0, Epoch 7400, Loss: 0.18856652081012726\n",
            "Fold 0, Epoch 7500, Loss: 0.1879858374595642\n",
            "Fold 0, Epoch 7600, Loss: 0.18740102648735046\n",
            "Fold 0, Epoch 7700, Loss: 0.18680980801582336\n",
            "Fold 0, Epoch 7800, Loss: 0.18620768189430237\n",
            "Fold 0, Epoch 7900, Loss: 0.1856028288602829\n",
            "Fold 0, Epoch 8000, Loss: 0.18499499559402466\n",
            "Fold 0, Epoch 8100, Loss: 0.18440721929073334\n",
            "Fold 0, Epoch 8200, Loss: 0.18385767936706543\n",
            "Fold 0, Epoch 8300, Loss: 0.18332764506340027\n",
            "Fold 0, Epoch 8400, Loss: 0.18280363082885742\n",
            "Fold 0, Epoch 8500, Loss: 0.18229235708713531\n",
            "Fold 0, Epoch 8600, Loss: 0.1817820966243744\n",
            "Fold 0, Epoch 8700, Loss: 0.1812872439622879\n",
            "Fold 0, Epoch 8800, Loss: 0.18078044056892395\n",
            "Fold 0, Epoch 8900, Loss: 0.1802823394536972\n",
            "Fold 0, Epoch 9000, Loss: 0.1797974854707718\n",
            "Fold 0, Epoch 9100, Loss: 0.17931361496448517\n",
            "Fold 0, Epoch 9200, Loss: 0.1788446009159088\n",
            "Fold 0, Epoch 9300, Loss: 0.1784122884273529\n",
            "Fold 0, Epoch 9400, Loss: 0.1779695451259613\n",
            "Fold 0, Epoch 9500, Loss: 0.17736504971981049\n",
            "Fold 0, Epoch 9600, Loss: 0.17676590383052826\n",
            "Fold 0, Epoch 9700, Loss: 0.17626091837882996\n",
            "Fold 0, Epoch 9800, Loss: 0.1757812201976776\n",
            "Fold 0, Epoch 9900, Loss: 0.17530667781829834\n",
            "Fold 0, Epoch 10000, Loss: 0.1748247891664505\n",
            "Fold 0, Epoch 10100, Loss: 0.17434082925319672\n",
            "Fold 0, Epoch 10200, Loss: 0.17384015023708344\n",
            "Fold 0, Epoch 10300, Loss: 0.17333519458770752\n",
            "Fold 0, Epoch 10400, Loss: 0.17281542718410492\n",
            "Fold 0, Epoch 10500, Loss: 0.1723046749830246\n",
            "Fold 0, Epoch 10600, Loss: 0.17174652218818665\n",
            "Fold 0, Epoch 10700, Loss: 0.17116326093673706\n",
            "Fold 0, Epoch 10800, Loss: 0.17060115933418274\n",
            "Fold 0, Epoch 10900, Loss: 0.17002256214618683\n",
            "Fold 0, Epoch 11000, Loss: 0.1694156378507614\n",
            "Fold 0, Epoch 11100, Loss: 0.16878825426101685\n",
            "Fold 0, Epoch 11200, Loss: 0.1681237369775772\n",
            "Fold 0, Epoch 11300, Loss: 0.1674296259880066\n",
            "Fold 0, Epoch 11400, Loss: 0.166687473654747\n",
            "Fold 0, Epoch 11500, Loss: 0.1658993661403656\n",
            "Fold 0, Epoch 11600, Loss: 0.16510622203350067\n",
            "Fold 0, Epoch 11700, Loss: 0.16429808735847473\n",
            "Fold 0, Epoch 11800, Loss: 0.16345824301242828\n",
            "Fold 0, Epoch 11900, Loss: 0.16257572174072266\n",
            "Fold 0, Epoch 12000, Loss: 0.16168014705181122\n",
            "Fold 0, Epoch 12100, Loss: 0.16078400611877441\n",
            "Fold 0, Epoch 12200, Loss: 0.15988165140151978\n",
            "Fold 0, Epoch 12300, Loss: 0.15897710621356964\n",
            "Fold 0, Epoch 12400, Loss: 0.15807954967021942\n",
            "Fold 0, Epoch 12500, Loss: 0.15718980133533478\n",
            "Fold 0, Epoch 12600, Loss: 0.15630729496479034\n",
            "Fold 0, Epoch 12700, Loss: 0.155466228723526\n",
            "Fold 0, Epoch 12800, Loss: 0.1546575129032135\n",
            "Fold 0, Epoch 12900, Loss: 0.15388689935207367\n",
            "Fold 0, Epoch 13000, Loss: 0.1531246453523636\n",
            "Fold 0, Epoch 13100, Loss: 0.1523551493883133\n",
            "Fold 0, Epoch 13200, Loss: 0.1516004502773285\n",
            "Fold 0, Epoch 13300, Loss: 0.15086489915847778\n",
            "Fold 0, Epoch 13400, Loss: 0.15019522607326508\n",
            "Fold 0, Epoch 13500, Loss: 0.14954248070716858\n",
            "Fold 0, Epoch 13600, Loss: 0.14891652762889862\n",
            "Fold 0, Epoch 13700, Loss: 0.14830341935157776\n",
            "Fold 0, Epoch 13800, Loss: 0.14773184061050415\n",
            "Fold 0, Epoch 13900, Loss: 0.14716018736362457\n",
            "Fold 0, Epoch 14000, Loss: 0.14657288789749146\n",
            "Fold 0, Epoch 14100, Loss: 0.14601890742778778\n",
            "Fold 0, Epoch 14200, Loss: 0.1454862803220749\n",
            "Fold 0, Epoch 14300, Loss: 0.14496636390686035\n",
            "Fold 0, Epoch 14400, Loss: 0.1444527953863144\n",
            "Fold 0, Epoch 14500, Loss: 0.1439143270254135\n",
            "Fold 0, Epoch 14600, Loss: 0.14335200190544128\n",
            "Fold 0, Epoch 14700, Loss: 0.14274124801158905\n",
            "Fold 0, Epoch 14800, Loss: 0.1421722024679184\n",
            "Fold 0, Epoch 14900, Loss: 0.14163820445537567\n",
            "Fold 0, Epoch 15000, Loss: 0.14107546210289001\n",
            "Fold 0, Epoch 15100, Loss: 0.1405625343322754\n",
            "Fold 0, Epoch 15200, Loss: 0.14007018506526947\n",
            "Fold 0, Epoch 15300, Loss: 0.13960741460323334\n",
            "Fold 0, Epoch 15400, Loss: 0.13918739557266235\n",
            "Fold 0, Epoch 15500, Loss: 0.13877178728580475\n",
            "Fold 0, Epoch 15600, Loss: 0.13840262591838837\n",
            "Fold 0, Epoch 15700, Loss: 0.13806074857711792\n",
            "Fold 0, Epoch 15800, Loss: 0.13773445785045624\n",
            "Fold 0, Epoch 15900, Loss: 0.13743211328983307\n",
            "Fold 0, Epoch 16000, Loss: 0.13714800775051117\n",
            "Fold 0, Epoch 16100, Loss: 0.13686712086200714\n",
            "Fold 0, Epoch 16200, Loss: 0.13658685982227325\n",
            "Fold 0, Epoch 16300, Loss: 0.13629773259162903\n",
            "Fold 0, Epoch 16400, Loss: 0.13600382208824158\n",
            "Fold 0, Epoch 16500, Loss: 0.13573765754699707\n",
            "Fold 0, Epoch 16600, Loss: 0.13548550009727478\n",
            "Fold 0, Epoch 16700, Loss: 0.135216623544693\n",
            "Fold 0, Epoch 16800, Loss: 0.13493771851062775\n",
            "Fold 0, Epoch 16900, Loss: 0.13457641005516052\n",
            "Fold 0, Epoch 17000, Loss: 0.13426101207733154\n",
            "Fold 0, Epoch 17100, Loss: 0.1340305656194687\n",
            "Fold 0, Epoch 17200, Loss: 0.13383425772190094\n",
            "Fold 0, Epoch 17300, Loss: 0.13363322615623474\n",
            "Fold 0, Epoch 17400, Loss: 0.1334415078163147\n",
            "Fold 0, Epoch 17500, Loss: 0.13327950239181519\n",
            "Fold 0, Epoch 17600, Loss: 0.1331370770931244\n",
            "Fold 0, Epoch 17700, Loss: 0.13297443091869354\n",
            "Fold 0, Epoch 17800, Loss: 0.13281001150608063\n",
            "Fold 0, Epoch 17900, Loss: 0.13266624510288239\n",
            "Fold 0, Epoch 18000, Loss: 0.13253171741962433\n",
            "Fold 0, Epoch 18100, Loss: 0.13240273296833038\n",
            "Fold 0, Epoch 18200, Loss: 0.13229435682296753\n",
            "Fold 0, Epoch 18300, Loss: 0.13219134509563446\n",
            "Fold 0, Epoch 18400, Loss: 0.1320776790380478\n",
            "Fold 0, Epoch 18500, Loss: 0.13198107481002808\n",
            "Fold 0, Epoch 18600, Loss: 0.13188818097114563\n",
            "Fold 0, Epoch 18700, Loss: 0.13178472220897675\n",
            "Fold 0, Epoch 18800, Loss: 0.13168181478977203\n",
            "Fold 0, Epoch 18900, Loss: 0.13155223429203033\n",
            "Fold 0, Epoch 19000, Loss: 0.13140973448753357\n",
            "Fold 0, Epoch 19100, Loss: 0.1312839835882187\n",
            "Fold 0, Epoch 19200, Loss: 0.13117842376232147\n",
            "Fold 0, Epoch 19300, Loss: 0.13106998801231384\n",
            "Fold 0, Epoch 19400, Loss: 0.13097019493579865\n",
            "Fold 0, Epoch 19500, Loss: 0.13086682558059692\n",
            "Fold 0, Epoch 19600, Loss: 0.1307636946439743\n",
            "Fold 0, Epoch 19700, Loss: 0.13063135743141174\n",
            "Fold 0, Epoch 19800, Loss: 0.13049738109111786\n",
            "Fold 0, Epoch 19900, Loss: 0.13035637140274048\n",
            "Fold 0, Epoch 20000, Loss: 0.13022629916667938\n",
            "Fold 0, Epoch 20100, Loss: 0.13009518384933472\n",
            "Fold 0, Epoch 20200, Loss: 0.12997061014175415\n",
            "Fold 0, Epoch 20300, Loss: 0.12984587252140045\n",
            "Fold 0, Epoch 20400, Loss: 0.12971943616867065\n",
            "Fold 0, Epoch 20500, Loss: 0.1296004056930542\n",
            "Fold 0, Epoch 20600, Loss: 0.12947869300842285\n",
            "Fold 0, Epoch 20700, Loss: 0.12936599552631378\n",
            "Fold 0, Epoch 20800, Loss: 0.12927211821079254\n",
            "Fold 0, Epoch 20900, Loss: 0.12917503714561462\n",
            "Fold 0, Epoch 21000, Loss: 0.12908659875392914\n",
            "Fold 0, Epoch 21100, Loss: 0.128970667719841\n",
            "Fold 0, Epoch 21200, Loss: 0.12885241210460663\n",
            "Fold 0, Epoch 21300, Loss: 0.128707617521286\n",
            "Fold 0, Epoch 21400, Loss: 0.12859594821929932\n",
            "Fold 0, Epoch 21500, Loss: 0.1285082995891571\n",
            "Fold 0, Epoch 21600, Loss: 0.1284172385931015\n",
            "Fold 0, Epoch 21700, Loss: 0.12833955883979797\n",
            "Fold 0, Epoch 21800, Loss: 0.12827253341674805\n",
            "Fold 0, Epoch 21900, Loss: 0.1282104104757309\n",
            "Fold 0, Epoch 22000, Loss: 0.12815728783607483\n",
            "Fold 0, Epoch 22100, Loss: 0.1281033754348755\n",
            "Fold 0, Epoch 22200, Loss: 0.128050297498703\n",
            "Fold 0, Epoch 22300, Loss: 0.12799355387687683\n",
            "Fold 0, Epoch 22400, Loss: 0.12793827056884766\n",
            "Fold 0, Epoch 22500, Loss: 0.12789137661457062\n",
            "Fold 0, Epoch 22600, Loss: 0.12785278260707855\n",
            "Fold 0, Epoch 22700, Loss: 0.1278149038553238\n",
            "Fold 0, Epoch 22800, Loss: 0.12777835130691528\n",
            "Fold 0, Epoch 22900, Loss: 0.12773603200912476\n",
            "Fold 0, Epoch 23000, Loss: 0.12768980860710144\n",
            "Fold 0, Epoch 23100, Loss: 0.1276322454214096\n",
            "Fold 0, Epoch 23200, Loss: 0.12758681178092957\n",
            "Fold 0, Epoch 23300, Loss: 0.12754768133163452\n",
            "Fold 0, Epoch 23400, Loss: 0.1275061070919037\n",
            "Fold 0, Epoch 23500, Loss: 0.12746208906173706\n",
            "Fold 0, Epoch 23600, Loss: 0.12742099165916443\n",
            "Fold 0, Epoch 23700, Loss: 0.12738028168678284\n",
            "Fold 0, Epoch 23800, Loss: 0.12733806669712067\n",
            "Fold 0, Epoch 23900, Loss: 0.12729687988758087\n",
            "Fold 0, Epoch 24000, Loss: 0.12725882232189178\n",
            "Fold 0, Epoch 24100, Loss: 0.1272156685590744\n",
            "Fold 0, Epoch 24200, Loss: 0.12717615067958832\n",
            "Fold 0, Epoch 24300, Loss: 0.12714360654354095\n",
            "Fold 0, Epoch 24400, Loss: 0.1271102875471115\n",
            "Fold 0, Epoch 24500, Loss: 0.12707780301570892\n",
            "Fold 0, Epoch 24600, Loss: 0.12704454362392426\n",
            "Fold 0, Epoch 24700, Loss: 0.1270088255405426\n",
            "Fold 0, Epoch 24800, Loss: 0.12697285413742065\n",
            "Fold 0, Epoch 24900, Loss: 0.12692970037460327\n",
            "Fold 0, Loss: 0.13368485867977142\n",
            "Fold 0 saved\n",
            "Fold 1, Epoch 0, Loss: 0.999999463558197\n",
            "Fold 1, Epoch 100, Loss: 0.9999933242797852\n",
            "Fold 1, Epoch 200, Loss: 0.9999741315841675\n",
            "Fold 1, Epoch 300, Loss: 0.9999058842658997\n",
            "Fold 1, Epoch 400, Loss: 0.9996817708015442\n",
            "Fold 1, Epoch 500, Loss: 0.9982846975326538\n",
            "Fold 1, Epoch 600, Loss: 0.9924120903015137\n",
            "Fold 1, Epoch 700, Loss: 0.9746526479721069\n",
            "Fold 1, Epoch 800, Loss: 0.927490234375\n",
            "Fold 1, Epoch 900, Loss: 0.8377729654312134\n",
            "Fold 1, Epoch 1000, Loss: 0.7588468790054321\n",
            "Fold 1, Epoch 1100, Loss: 0.7146491408348083\n",
            "Fold 1, Epoch 1200, Loss: 0.6764079928398132\n",
            "Fold 1, Epoch 1300, Loss: 0.6338606476783752\n",
            "Fold 1, Epoch 1400, Loss: 0.5825384259223938\n",
            "Fold 1, Epoch 1500, Loss: 0.523127019405365\n",
            "Fold 1, Epoch 1600, Loss: 0.46724390983581543\n",
            "Fold 1, Epoch 1700, Loss: 0.4234801232814789\n",
            "Fold 1, Epoch 1800, Loss: 0.38726380467414856\n",
            "Fold 1, Epoch 1900, Loss: 0.35748225450515747\n",
            "Fold 1, Epoch 2000, Loss: 0.3333404064178467\n",
            "Fold 1, Epoch 2100, Loss: 0.31283339858055115\n",
            "Fold 1, Epoch 2200, Loss: 0.29550912976264954\n",
            "Fold 1, Epoch 2300, Loss: 0.2804681360721588\n",
            "Fold 1, Epoch 2400, Loss: 0.2674046754837036\n",
            "Fold 1, Epoch 2500, Loss: 0.2556148171424866\n",
            "Fold 1, Epoch 2600, Loss: 0.2451222687959671\n",
            "Fold 1, Epoch 2700, Loss: 0.2361745834350586\n",
            "Fold 1, Epoch 2800, Loss: 0.22855114936828613\n",
            "Fold 1, Epoch 2900, Loss: 0.22213862836360931\n",
            "Fold 1, Epoch 3000, Loss: 0.21693740785121918\n",
            "Fold 1, Epoch 3100, Loss: 0.21284015476703644\n",
            "Fold 1, Epoch 3200, Loss: 0.20960189402103424\n",
            "Fold 1, Epoch 3300, Loss: 0.20699304342269897\n",
            "Fold 1, Epoch 3400, Loss: 0.2048051357269287\n",
            "Fold 1, Epoch 3500, Loss: 0.20290692150592804\n",
            "Fold 1, Epoch 3600, Loss: 0.201182559132576\n",
            "Fold 1, Epoch 3700, Loss: 0.19961251318454742\n",
            "Fold 1, Epoch 3800, Loss: 0.1981300413608551\n",
            "Fold 1, Epoch 3900, Loss: 0.19672973453998566\n",
            "Fold 1, Epoch 4000, Loss: 0.1954471915960312\n",
            "Fold 1, Epoch 4100, Loss: 0.19423840939998627\n",
            "Fold 1, Epoch 4200, Loss: 0.19313587248325348\n",
            "Fold 1, Epoch 4300, Loss: 0.19208915531635284\n",
            "Fold 1, Epoch 4400, Loss: 0.191109761595726\n",
            "Fold 1, Epoch 4500, Loss: 0.19018954038619995\n",
            "Fold 1, Epoch 4600, Loss: 0.18932172656059265\n",
            "Fold 1, Epoch 4700, Loss: 0.18852168321609497\n",
            "Fold 1, Epoch 4800, Loss: 0.18773947656154633\n",
            "Fold 1, Epoch 4900, Loss: 0.18700654804706573\n",
            "Fold 1, Epoch 5000, Loss: 0.18630124628543854\n",
            "Fold 1, Epoch 5100, Loss: 0.18562497198581696\n",
            "Fold 1, Epoch 5200, Loss: 0.1849857121706009\n",
            "Fold 1, Epoch 5300, Loss: 0.18439707159996033\n",
            "Fold 1, Epoch 5400, Loss: 0.18387888371944427\n",
            "Fold 1, Epoch 5500, Loss: 0.1833859384059906\n",
            "Fold 1, Epoch 5600, Loss: 0.18293064832687378\n",
            "Fold 1, Epoch 5700, Loss: 0.18251532316207886\n",
            "Fold 1, Epoch 5800, Loss: 0.1821201741695404\n",
            "Fold 1, Epoch 5900, Loss: 0.1817351132631302\n",
            "Fold 1, Epoch 6000, Loss: 0.18137718737125397\n",
            "Fold 1, Epoch 6100, Loss: 0.18101894855499268\n",
            "Fold 1, Epoch 6200, Loss: 0.18066850304603577\n",
            "Fold 1, Epoch 6300, Loss: 0.18032805621623993\n",
            "Fold 1, Epoch 6400, Loss: 0.17999085783958435\n",
            "Fold 1, Epoch 6500, Loss: 0.17966076731681824\n",
            "Fold 1, Epoch 6600, Loss: 0.179353266954422\n",
            "Fold 1, Epoch 6700, Loss: 0.1790744960308075\n",
            "Fold 1, Epoch 6800, Loss: 0.17878969013690948\n",
            "Fold 1, Epoch 6900, Loss: 0.1784944236278534\n",
            "Fold 1, Epoch 7000, Loss: 0.17821666598320007\n",
            "Fold 1, Epoch 7100, Loss: 0.1779593676328659\n",
            "Fold 1, Epoch 7200, Loss: 0.1777089685201645\n",
            "Fold 1, Epoch 7300, Loss: 0.17748083174228668\n",
            "Fold 1, Epoch 7400, Loss: 0.17726708948612213\n",
            "Fold 1, Epoch 7500, Loss: 0.17706821858882904\n",
            "Fold 1, Epoch 7600, Loss: 0.17689408361911774\n",
            "Fold 1, Epoch 7700, Loss: 0.17671652138233185\n",
            "Fold 1, Epoch 7800, Loss: 0.17653095722198486\n",
            "Fold 1, Epoch 7900, Loss: 0.1763368844985962\n",
            "Fold 1, Epoch 8000, Loss: 0.1761453002691269\n",
            "Fold 1, Epoch 8100, Loss: 0.1759624183177948\n",
            "Fold 1, Epoch 8200, Loss: 0.17578786611557007\n",
            "Fold 1, Epoch 8300, Loss: 0.17562773823738098\n",
            "Fold 1, Epoch 8400, Loss: 0.17546910047531128\n",
            "Fold 1, Epoch 8500, Loss: 0.17530862987041473\n",
            "Fold 1, Epoch 8600, Loss: 0.1751529723405838\n",
            "Fold 1, Epoch 8700, Loss: 0.175008162856102\n",
            "Fold 1, Epoch 8800, Loss: 0.174859419465065\n",
            "Fold 1, Epoch 8900, Loss: 0.17471756041049957\n",
            "Fold 1, Epoch 9000, Loss: 0.17457659542560577\n",
            "Fold 1, Epoch 9100, Loss: 0.17443597316741943\n",
            "Fold 1, Epoch 9200, Loss: 0.1742883175611496\n",
            "Fold 1, Epoch 9300, Loss: 0.17413480579853058\n",
            "Fold 1, Epoch 9400, Loss: 0.17395401000976562\n",
            "Fold 1, Epoch 9500, Loss: 0.17382334172725677\n",
            "Fold 1, Epoch 9600, Loss: 0.1737114042043686\n",
            "Fold 1, Epoch 9700, Loss: 0.17359822988510132\n",
            "Fold 1, Epoch 9800, Loss: 0.1734737902879715\n",
            "Fold 1, Epoch 9900, Loss: 0.1733497679233551\n",
            "Fold 1, Epoch 10000, Loss: 0.17323905229568481\n",
            "Fold 1, Epoch 10100, Loss: 0.1731352061033249\n",
            "Fold 1, Epoch 10200, Loss: 0.17303939163684845\n",
            "Fold 1, Epoch 10300, Loss: 0.1729457974433899\n",
            "Fold 1, Epoch 10400, Loss: 0.17285113036632538\n",
            "Fold 1, Epoch 10500, Loss: 0.1727534979581833\n",
            "Fold 1, Epoch 10600, Loss: 0.17266106605529785\n",
            "Fold 1, Epoch 10700, Loss: 0.1725732535123825\n",
            "Fold 1, Epoch 10800, Loss: 0.17247916758060455\n",
            "Fold 1, Epoch 10900, Loss: 0.17238640785217285\n",
            "Fold 1, Epoch 11000, Loss: 0.17230352759361267\n",
            "Fold 1, Epoch 11100, Loss: 0.17222319543361664\n",
            "Fold 1, Epoch 11200, Loss: 0.17213772237300873\n",
            "Fold 1, Epoch 11300, Loss: 0.17204807698726654\n",
            "Fold 1, Epoch 11400, Loss: 0.17195671796798706\n",
            "Fold 1, Epoch 11500, Loss: 0.17186547815799713\n",
            "Fold 1, Epoch 11600, Loss: 0.17176553606987\n",
            "Fold 1, Epoch 11700, Loss: 0.1716720014810562\n",
            "Fold 1, Epoch 11800, Loss: 0.17158325016498566\n",
            "Fold 1, Epoch 11900, Loss: 0.1714717596769333\n",
            "Fold 1, Epoch 12000, Loss: 0.17136870324611664\n",
            "Fold 1, Epoch 12100, Loss: 0.1712673455476761\n",
            "Fold 1, Epoch 12200, Loss: 0.17114917933940887\n",
            "Fold 1, Epoch 12300, Loss: 0.1710408478975296\n",
            "Fold 1, Epoch 12400, Loss: 0.170931875705719\n",
            "Fold 1, Epoch 12500, Loss: 0.17081820964813232\n",
            "Fold 1, Epoch 12600, Loss: 0.17067663371562958\n",
            "Fold 1, Epoch 12700, Loss: 0.170536071062088\n",
            "Fold 1, Epoch 12800, Loss: 0.1704094111919403\n",
            "Fold 1, Epoch 12900, Loss: 0.1702655553817749\n",
            "Fold 1, Epoch 13000, Loss: 0.17009061574935913\n",
            "Fold 1, Epoch 13100, Loss: 0.1699034720659256\n",
            "Fold 1, Epoch 13200, Loss: 0.16966871917247772\n",
            "Fold 1, Epoch 13300, Loss: 0.1694626808166504\n",
            "Fold 1, Epoch 13400, Loss: 0.16929401457309723\n",
            "Fold 1, Epoch 13500, Loss: 0.1691606491804123\n",
            "Fold 1, Epoch 13600, Loss: 0.1690276861190796\n",
            "Fold 1, Epoch 13700, Loss: 0.16890080273151398\n",
            "Fold 1, Epoch 13800, Loss: 0.1687619537115097\n",
            "Fold 1, Epoch 13900, Loss: 0.1686234027147293\n",
            "Fold 1, Epoch 14000, Loss: 0.16851945221424103\n",
            "Fold 1, Epoch 14100, Loss: 0.16843202710151672\n",
            "Fold 1, Epoch 14200, Loss: 0.16833952069282532\n",
            "Fold 1, Epoch 14300, Loss: 0.16826295852661133\n",
            "Fold 1, Epoch 14400, Loss: 0.16819240152835846\n",
            "Fold 1, Epoch 14500, Loss: 0.16812488436698914\n",
            "Fold 1, Epoch 14600, Loss: 0.16804787516593933\n",
            "Fold 1, Epoch 14700, Loss: 0.1679864227771759\n",
            "Fold 1, Epoch 14800, Loss: 0.16790162026882172\n",
            "Fold 1, Epoch 14900, Loss: 0.1678493469953537\n",
            "Fold 1, Epoch 15000, Loss: 0.1677962690591812\n",
            "Fold 1, Epoch 15100, Loss: 0.16775523126125336\n",
            "Fold 1, Epoch 15200, Loss: 0.16771943867206573\n",
            "Fold 1, Epoch 15300, Loss: 0.16767865419387817\n",
            "Fold 1, Epoch 15400, Loss: 0.1676497608423233\n",
            "Fold 1, Epoch 15500, Loss: 0.1676260083913803\n",
            "Fold 1, Epoch 15600, Loss: 0.16760487854480743\n",
            "Fold 1, Epoch 15700, Loss: 0.16757972538471222\n",
            "Fold 1, Epoch 15800, Loss: 0.16754920780658722\n",
            "Fold 1, Epoch 15900, Loss: 0.16751709580421448\n",
            "Fold 1, Epoch 16000, Loss: 0.1674271523952484\n",
            "Fold 1, Epoch 16100, Loss: 0.16728082299232483\n",
            "Fold 1, Epoch 16200, Loss: 0.1672116219997406\n",
            "Fold 1, Epoch 16300, Loss: 0.16711869835853577\n",
            "Fold 1, Epoch 16400, Loss: 0.16702191531658173\n",
            "Fold 1, Epoch 16500, Loss: 0.16694940626621246\n",
            "Fold 1, Epoch 16600, Loss: 0.16689433157444\n",
            "Fold 1, Epoch 16700, Loss: 0.16684560477733612\n",
            "Fold 1, Epoch 16800, Loss: 0.16677974164485931\n",
            "Fold 1, Epoch 16900, Loss: 0.16670715808868408\n",
            "Fold 1, Epoch 17000, Loss: 0.16664253175258636\n",
            "Fold 1, Epoch 17100, Loss: 0.1665901094675064\n",
            "Fold 1, Epoch 17200, Loss: 0.16653046011924744\n",
            "Fold 1, Epoch 17300, Loss: 0.16648148000240326\n",
            "Fold 1, Epoch 17400, Loss: 0.166445791721344\n",
            "Fold 1, Epoch 17500, Loss: 0.16638964414596558\n",
            "Fold 1, Epoch 17600, Loss: 0.16633740067481995\n",
            "Fold 1, Epoch 17700, Loss: 0.16629977524280548\n",
            "Fold 1, Epoch 17800, Loss: 0.16626983880996704\n",
            "Fold 1, Epoch 17900, Loss: 0.16624359786510468\n",
            "Fold 1, Epoch 18000, Loss: 0.16622091829776764\n",
            "Fold 1, Epoch 18100, Loss: 0.16620135307312012\n",
            "Fold 1, Epoch 18200, Loss: 0.16618458926677704\n",
            "Fold 1, Epoch 18300, Loss: 0.1661706566810608\n",
            "Fold 1, Epoch 18400, Loss: 0.16615568101406097\n",
            "Fold 1, Epoch 18500, Loss: 0.16614395380020142\n",
            "Fold 1, Epoch 18600, Loss: 0.16612766683101654\n",
            "Fold 1, Epoch 18700, Loss: 0.16611017286777496\n",
            "Fold 1, Epoch 18800, Loss: 0.16608132421970367\n",
            "Fold 1, Epoch 18900, Loss: 0.1660546511411667\n",
            "Fold 1, Epoch 19000, Loss: 0.1660265028476715\n",
            "Fold 1, Epoch 19100, Loss: 0.16599904000759125\n",
            "Fold 1, Epoch 19200, Loss: 0.16598466038703918\n",
            "Fold 1, Epoch 19300, Loss: 0.16597631573677063\n",
            "Fold 1, Epoch 19400, Loss: 0.16596999764442444\n",
            "Fold 1, Epoch 19500, Loss: 0.16596229374408722\n",
            "Fold 1, Epoch 19600, Loss: 0.16595521569252014\n",
            "Fold 1, Epoch 19700, Loss: 0.1659490317106247\n",
            "Fold 1, Epoch 19800, Loss: 0.16594307124614716\n",
            "Fold 1, Epoch 19900, Loss: 0.1659364402294159\n",
            "Fold 1, Epoch 20000, Loss: 0.16593141853809357\n",
            "Fold 1, Epoch 20100, Loss: 0.16592642664909363\n",
            "Fold 1, Epoch 20200, Loss: 0.16592168807983398\n",
            "Fold 1, Epoch 20300, Loss: 0.165916308760643\n",
            "Fold 1, Epoch 20400, Loss: 0.16590891778469086\n",
            "Fold 1, Epoch 20500, Loss: 0.1659032106399536\n",
            "Fold 1, Epoch 20600, Loss: 0.16589948534965515\n",
            "Fold 1, Epoch 20700, Loss: 0.16589683294296265\n",
            "Fold 1, Epoch 20800, Loss: 0.16589409112930298\n",
            "Fold 1, Epoch 20900, Loss: 0.165891632437706\n",
            "Fold 1, Epoch 21000, Loss: 0.16588860750198364\n",
            "Fold 1, Epoch 21100, Loss: 0.16588492691516876\n",
            "Fold 1, Epoch 21200, Loss: 0.16588327288627625\n",
            "Fold 1, Epoch 21300, Loss: 0.1658802181482315\n",
            "Fold 1, Epoch 21400, Loss: 0.16587631404399872\n",
            "Fold 1, Epoch 21500, Loss: 0.1658724546432495\n",
            "Fold 1, Epoch 21600, Loss: 0.16586913168430328\n",
            "Fold 1, Epoch 21700, Loss: 0.16586633026599884\n",
            "Fold 1, Epoch 21800, Loss: 0.1658622920513153\n",
            "Fold 1, Epoch 21900, Loss: 0.16585461795330048\n",
            "Fold 1, Epoch 22000, Loss: 0.16584254801273346\n",
            "Fold 1, Epoch 22100, Loss: 0.16582567989826202\n",
            "Fold 1, Epoch 22200, Loss: 0.1658194661140442\n",
            "Fold 1, Epoch 22300, Loss: 0.16581560671329498\n",
            "Fold 1, Epoch 22400, Loss: 0.1658119559288025\n",
            "Fold 1, Epoch 22500, Loss: 0.16580811142921448\n",
            "Fold 1, Epoch 22600, Loss: 0.16580331325531006\n",
            "Fold 1, Epoch 22700, Loss: 0.1657920926809311\n",
            "Fold 1, Epoch 22800, Loss: 0.16578204929828644\n",
            "Fold 1, Epoch 22900, Loss: 0.16577081382274628\n",
            "Fold 1, Epoch 23000, Loss: 0.1657661497592926\n",
            "Fold 1, Epoch 23100, Loss: 0.16576166450977325\n",
            "Fold 1, Epoch 23200, Loss: 0.1657579243183136\n",
            "Fold 1, Epoch 23300, Loss: 0.16575320065021515\n",
            "Fold 1, Epoch 23400, Loss: 0.16574876010417938\n",
            "Fold 1, Epoch 23500, Loss: 0.16574116051197052\n",
            "Fold 1, Epoch 23600, Loss: 0.16573648154735565\n",
            "Fold 1, Epoch 23700, Loss: 0.16573216021060944\n",
            "Fold 1, Epoch 23800, Loss: 0.16572807729244232\n",
            "Fold 1, Epoch 23900, Loss: 0.16572566330432892\n",
            "Fold 1, Epoch 24000, Loss: 0.16572275757789612\n",
            "Fold 1, Epoch 24100, Loss: 0.16572050750255585\n",
            "Fold 1, Epoch 24200, Loss: 0.1657167375087738\n",
            "Fold 1, Epoch 24300, Loss: 0.16571401059627533\n",
            "Fold 1, Epoch 24400, Loss: 0.16571208834648132\n",
            "Fold 1, Epoch 24500, Loss: 0.1657109409570694\n",
            "Fold 1, Epoch 24600, Loss: 0.16570903360843658\n",
            "Fold 1, Epoch 24700, Loss: 0.16570749878883362\n",
            "Fold 1, Epoch 24800, Loss: 0.1657058745622635\n",
            "Fold 1, Epoch 24900, Loss: 0.16570444405078888\n",
            "Fold 1, Loss: 0.16850914061069489\n",
            "Fold 1 saved\n",
            "Fold 2, Epoch 0, Loss: 0.9999989867210388\n",
            "Fold 2, Epoch 100, Loss: 0.9999955892562866\n",
            "Fold 2, Epoch 200, Loss: 0.9999883770942688\n",
            "Fold 2, Epoch 300, Loss: 0.9999662041664124\n",
            "Fold 2, Epoch 400, Loss: 0.9998841881752014\n",
            "Fold 2, Epoch 500, Loss: 0.9994572997093201\n",
            "Fold 2, Epoch 600, Loss: 0.9969159364700317\n",
            "Fold 2, Epoch 700, Loss: 0.9879630208015442\n",
            "Fold 2, Epoch 800, Loss: 0.9647072553634644\n",
            "Fold 2, Epoch 900, Loss: 0.9152088165283203\n",
            "Fold 2, Epoch 1000, Loss: 0.8363566994667053\n",
            "Fold 2, Epoch 1100, Loss: 0.7693991661071777\n",
            "Fold 2, Epoch 1200, Loss: 0.7357217669487\n",
            "Fold 2, Epoch 1300, Loss: 0.710847020149231\n",
            "Fold 2, Epoch 1400, Loss: 0.6847919225692749\n",
            "Fold 2, Epoch 1500, Loss: 0.6542959213256836\n",
            "Fold 2, Epoch 1600, Loss: 0.6179353594779968\n",
            "Fold 2, Epoch 1700, Loss: 0.5737870335578918\n",
            "Fold 2, Epoch 1800, Loss: 0.5206149816513062\n",
            "Fold 2, Epoch 1900, Loss: 0.46273714303970337\n",
            "Fold 2, Epoch 2000, Loss: 0.4089103639125824\n",
            "Fold 2, Epoch 2100, Loss: 0.3663620948791504\n",
            "Fold 2, Epoch 2200, Loss: 0.33425718545913696\n",
            "Fold 2, Epoch 2300, Loss: 0.31110912561416626\n",
            "Fold 2, Epoch 2400, Loss: 0.29412439465522766\n",
            "Fold 2, Epoch 2500, Loss: 0.2804681360721588\n",
            "Fold 2, Epoch 2600, Loss: 0.268608421087265\n",
            "Fold 2, Epoch 2700, Loss: 0.2580285668373108\n",
            "Fold 2, Epoch 2800, Loss: 0.24847248196601868\n",
            "Fold 2, Epoch 2900, Loss: 0.24006322026252747\n",
            "Fold 2, Epoch 3000, Loss: 0.23276697099208832\n",
            "Fold 2, Epoch 3100, Loss: 0.2264738529920578\n",
            "Fold 2, Epoch 3200, Loss: 0.22120828926563263\n",
            "Fold 2, Epoch 3300, Loss: 0.216769278049469\n",
            "Fold 2, Epoch 3400, Loss: 0.2131141871213913\n",
            "Fold 2, Epoch 3500, Loss: 0.2100052833557129\n",
            "Fold 2, Epoch 3600, Loss: 0.207395538687706\n",
            "Fold 2, Epoch 3700, Loss: 0.20520509779453278\n",
            "Fold 2, Epoch 3800, Loss: 0.20331020653247833\n",
            "Fold 2, Epoch 3900, Loss: 0.2016245275735855\n",
            "Fold 2, Epoch 4000, Loss: 0.20007851719856262\n",
            "Fold 2, Epoch 4100, Loss: 0.1986536979675293\n",
            "Fold 2, Epoch 4200, Loss: 0.1973731517791748\n",
            "Fold 2, Epoch 4300, Loss: 0.1962246298789978\n",
            "Fold 2, Epoch 4400, Loss: 0.19518212974071503\n",
            "Fold 2, Epoch 4500, Loss: 0.19421185553073883\n",
            "Fold 2, Epoch 4600, Loss: 0.19328254461288452\n",
            "Fold 2, Epoch 4700, Loss: 0.19239561259746552\n",
            "Fold 2, Epoch 4800, Loss: 0.19155997037887573\n",
            "Fold 2, Epoch 4900, Loss: 0.19075408577919006\n",
            "Fold 2, Epoch 5000, Loss: 0.18994425237178802\n",
            "Fold 2, Epoch 5100, Loss: 0.1892012506723404\n",
            "Fold 2, Epoch 5200, Loss: 0.18849459290504456\n",
            "Fold 2, Epoch 5300, Loss: 0.1877959817647934\n",
            "Fold 2, Epoch 5400, Loss: 0.18711479008197784\n",
            "Fold 2, Epoch 5500, Loss: 0.18647806346416473\n",
            "Fold 2, Epoch 5600, Loss: 0.18586298823356628\n",
            "Fold 2, Epoch 5700, Loss: 0.1852603256702423\n",
            "Fold 2, Epoch 5800, Loss: 0.18468023836612701\n",
            "Fold 2, Epoch 5900, Loss: 0.18413016200065613\n",
            "Fold 2, Epoch 6000, Loss: 0.18360328674316406\n",
            "Fold 2, Epoch 6100, Loss: 0.18309250473976135\n",
            "Fold 2, Epoch 6200, Loss: 0.18261292576789856\n",
            "Fold 2, Epoch 6300, Loss: 0.18215590715408325\n",
            "Fold 2, Epoch 6400, Loss: 0.1817365288734436\n",
            "Fold 2, Epoch 6500, Loss: 0.18133887648582458\n",
            "Fold 2, Epoch 6600, Loss: 0.18096092343330383\n",
            "Fold 2, Epoch 6700, Loss: 0.18059377372264862\n",
            "Fold 2, Epoch 6800, Loss: 0.18023349344730377\n",
            "Fold 2, Epoch 6900, Loss: 0.1798752397298813\n",
            "Fold 2, Epoch 7000, Loss: 0.1795131266117096\n",
            "Fold 2, Epoch 7100, Loss: 0.1791510134935379\n",
            "Fold 2, Epoch 7200, Loss: 0.1788155883550644\n",
            "Fold 2, Epoch 7300, Loss: 0.17849476635456085\n",
            "Fold 2, Epoch 7400, Loss: 0.1782090961933136\n",
            "Fold 2, Epoch 7500, Loss: 0.17795151472091675\n",
            "Fold 2, Epoch 7600, Loss: 0.17771564424037933\n",
            "Fold 2, Epoch 7700, Loss: 0.17750021815299988\n",
            "Fold 2, Epoch 7800, Loss: 0.1773034632205963\n",
            "Fold 2, Epoch 7900, Loss: 0.17710448801517487\n",
            "Fold 2, Epoch 8000, Loss: 0.17689871788024902\n",
            "Fold 2, Epoch 8100, Loss: 0.1767088919878006\n",
            "Fold 2, Epoch 8200, Loss: 0.17654608190059662\n",
            "Fold 2, Epoch 8300, Loss: 0.17639915645122528\n",
            "Fold 2, Epoch 8400, Loss: 0.17625173926353455\n",
            "Fold 2, Epoch 8500, Loss: 0.1761096566915512\n",
            "Fold 2, Epoch 8600, Loss: 0.17597833275794983\n",
            "Fold 2, Epoch 8700, Loss: 0.1758495569229126\n",
            "Fold 2, Epoch 8800, Loss: 0.17572544515132904\n",
            "Fold 2, Epoch 8900, Loss: 0.17560629546642303\n",
            "Fold 2, Epoch 9000, Loss: 0.1754951775074005\n",
            "Fold 2, Epoch 9100, Loss: 0.17539095878601074\n",
            "Fold 2, Epoch 9200, Loss: 0.17528420686721802\n",
            "Fold 2, Epoch 9300, Loss: 0.17516711354255676\n",
            "Fold 2, Epoch 9400, Loss: 0.17503558099269867\n",
            "Fold 2, Epoch 9500, Loss: 0.17490917444229126\n",
            "Fold 2, Epoch 9600, Loss: 0.17477700114250183\n",
            "Fold 2, Epoch 9700, Loss: 0.1746339648962021\n",
            "Fold 2, Epoch 9800, Loss: 0.17449283599853516\n",
            "Fold 2, Epoch 9900, Loss: 0.1743740737438202\n",
            "Fold 2, Epoch 10000, Loss: 0.17425423860549927\n",
            "Fold 2, Epoch 10100, Loss: 0.17413736879825592\n",
            "Fold 2, Epoch 10200, Loss: 0.17401398718357086\n",
            "Fold 2, Epoch 10300, Loss: 0.17388379573822021\n",
            "Fold 2, Epoch 10400, Loss: 0.17377518117427826\n",
            "Fold 2, Epoch 10500, Loss: 0.17367513477802277\n",
            "Fold 2, Epoch 10600, Loss: 0.17357558012008667\n",
            "Fold 2, Epoch 10700, Loss: 0.17347580194473267\n",
            "Fold 2, Epoch 10800, Loss: 0.17338144779205322\n",
            "Fold 2, Epoch 10900, Loss: 0.17328983545303345\n",
            "Fold 2, Epoch 11000, Loss: 0.17320112884044647\n",
            "Fold 2, Epoch 11100, Loss: 0.17311857640743256\n",
            "Fold 2, Epoch 11200, Loss: 0.17304028570652008\n",
            "Fold 2, Epoch 11300, Loss: 0.17296470701694489\n",
            "Fold 2, Epoch 11400, Loss: 0.1728893667459488\n",
            "Fold 2, Epoch 11500, Loss: 0.1728198379278183\n",
            "Fold 2, Epoch 11600, Loss: 0.1727464348077774\n",
            "Fold 2, Epoch 11700, Loss: 0.1726655811071396\n",
            "Fold 2, Epoch 11800, Loss: 0.17258326709270477\n",
            "Fold 2, Epoch 11900, Loss: 0.17249219119548798\n",
            "Fold 2, Epoch 12000, Loss: 0.17238985002040863\n",
            "Fold 2, Epoch 12100, Loss: 0.17228667438030243\n",
            "Fold 2, Epoch 12200, Loss: 0.17217609286308289\n",
            "Fold 2, Epoch 12300, Loss: 0.17206093668937683\n",
            "Fold 2, Epoch 12400, Loss: 0.17196524143218994\n",
            "Fold 2, Epoch 12500, Loss: 0.17188696563243866\n",
            "Fold 2, Epoch 12600, Loss: 0.17180179059505463\n",
            "Fold 2, Epoch 12700, Loss: 0.1717233955860138\n",
            "Fold 2, Epoch 12800, Loss: 0.17162908613681793\n",
            "Fold 2, Epoch 12900, Loss: 0.17153777182102203\n",
            "Fold 2, Epoch 13000, Loss: 0.17144164443016052\n",
            "Fold 2, Epoch 13100, Loss: 0.1713077574968338\n",
            "Fold 2, Epoch 13200, Loss: 0.17112967371940613\n",
            "Fold 2, Epoch 13300, Loss: 0.1709253191947937\n",
            "Fold 2, Epoch 13400, Loss: 0.170726016163826\n",
            "Fold 2, Epoch 13500, Loss: 0.17053791880607605\n",
            "Fold 2, Epoch 13600, Loss: 0.17037799954414368\n",
            "Fold 2, Epoch 13700, Loss: 0.1702430248260498\n",
            "Fold 2, Epoch 13800, Loss: 0.17010295391082764\n",
            "Fold 2, Epoch 13900, Loss: 0.16997404396533966\n",
            "Fold 2, Epoch 14000, Loss: 0.16985681653022766\n",
            "Fold 2, Epoch 14100, Loss: 0.1697460114955902\n",
            "Fold 2, Epoch 14200, Loss: 0.16963860392570496\n",
            "Fold 2, Epoch 14300, Loss: 0.16951823234558105\n",
            "Fold 2, Epoch 14400, Loss: 0.1694033294916153\n",
            "Fold 2, Epoch 14500, Loss: 0.16930291056632996\n",
            "Fold 2, Epoch 14600, Loss: 0.16919757425785065\n",
            "Fold 2, Epoch 14700, Loss: 0.16908414661884308\n",
            "Fold 2, Epoch 14800, Loss: 0.16895920038223267\n",
            "Fold 2, Epoch 14900, Loss: 0.16884437203407288\n",
            "Fold 2, Epoch 15000, Loss: 0.1687196046113968\n",
            "Fold 2, Epoch 15100, Loss: 0.16856294870376587\n",
            "Fold 2, Epoch 15200, Loss: 0.1684160679578781\n",
            "Fold 2, Epoch 15300, Loss: 0.16830754280090332\n",
            "Fold 2, Epoch 15400, Loss: 0.16818943619728088\n",
            "Fold 2, Epoch 15500, Loss: 0.16808083653450012\n",
            "Fold 2, Epoch 15600, Loss: 0.16796450316905975\n",
            "Fold 2, Epoch 15700, Loss: 0.16783049702644348\n",
            "Fold 2, Epoch 15800, Loss: 0.16772975027561188\n",
            "Fold 2, Epoch 15900, Loss: 0.16763800382614136\n",
            "Fold 2, Epoch 16000, Loss: 0.16749049723148346\n",
            "Fold 2, Epoch 16100, Loss: 0.16734802722930908\n",
            "Fold 2, Epoch 16200, Loss: 0.16724111139774323\n",
            "Fold 2, Epoch 16300, Loss: 0.16714026033878326\n",
            "Fold 2, Epoch 16400, Loss: 0.16705146431922913\n",
            "Fold 2, Epoch 16500, Loss: 0.16695860028266907\n",
            "Fold 2, Epoch 16600, Loss: 0.166873961687088\n",
            "Fold 2, Epoch 16700, Loss: 0.16681064665317535\n",
            "Fold 2, Epoch 16800, Loss: 0.16675619781017303\n",
            "Fold 2, Epoch 16900, Loss: 0.16670887172222137\n",
            "Fold 2, Epoch 17000, Loss: 0.16666676104068756\n",
            "Fold 2, Epoch 17100, Loss: 0.1666295975446701\n",
            "Fold 2, Epoch 17200, Loss: 0.16659213602542877\n",
            "Fold 2, Epoch 17300, Loss: 0.16655923426151276\n",
            "Fold 2, Epoch 17400, Loss: 0.16652774810791016\n",
            "Fold 2, Epoch 17500, Loss: 0.16650013625621796\n",
            "Fold 2, Epoch 17600, Loss: 0.16646935045719147\n",
            "Fold 2, Epoch 17700, Loss: 0.16643717885017395\n",
            "Fold 2, Epoch 17800, Loss: 0.16640792787075043\n",
            "Fold 2, Epoch 17900, Loss: 0.16637977957725525\n",
            "Fold 2, Epoch 18000, Loss: 0.16634872555732727\n",
            "Fold 2, Epoch 18100, Loss: 0.166324645280838\n",
            "Fold 2, Epoch 18200, Loss: 0.16629572212696075\n",
            "Fold 2, Epoch 18300, Loss: 0.16625705361366272\n",
            "Fold 2, Epoch 18400, Loss: 0.16622225940227509\n",
            "Fold 2, Epoch 18500, Loss: 0.1661888062953949\n",
            "Fold 2, Epoch 18600, Loss: 0.1661485880613327\n",
            "Fold 2, Epoch 18700, Loss: 0.16610397398471832\n",
            "Fold 2, Epoch 18800, Loss: 0.16607186198234558\n",
            "Fold 2, Epoch 18900, Loss: 0.16604821383953094\n",
            "Fold 2, Epoch 19000, Loss: 0.16602617502212524\n",
            "Fold 2, Epoch 19100, Loss: 0.16600868105888367\n",
            "Fold 2, Epoch 19200, Loss: 0.16598808765411377\n",
            "Fold 2, Epoch 19300, Loss: 0.16596029698848724\n",
            "Fold 2, Epoch 19400, Loss: 0.16592276096343994\n",
            "Fold 2, Epoch 19500, Loss: 0.16589514911174774\n",
            "Fold 2, Epoch 19600, Loss: 0.16587461531162262\n",
            "Fold 2, Epoch 19700, Loss: 0.16586102545261383\n",
            "Fold 2, Epoch 19800, Loss: 0.16584865748882294\n",
            "Fold 2, Epoch 19900, Loss: 0.1658356487751007\n",
            "Fold 2, Epoch 20000, Loss: 0.1658228188753128\n",
            "Fold 2, Epoch 20100, Loss: 0.16581232845783234\n",
            "Fold 2, Epoch 20200, Loss: 0.16580291092395782\n",
            "Fold 2, Epoch 20300, Loss: 0.16579270362854004\n",
            "Fold 2, Epoch 20400, Loss: 0.16578343510627747\n",
            "Fold 2, Epoch 20500, Loss: 0.1657760888338089\n",
            "Fold 2, Epoch 20600, Loss: 0.1657678782939911\n",
            "Fold 2, Epoch 20700, Loss: 0.16575364768505096\n",
            "Fold 2, Epoch 20800, Loss: 0.16574245691299438\n",
            "Fold 2, Epoch 20900, Loss: 0.16573305428028107\n",
            "Fold 2, Epoch 21000, Loss: 0.16572515666484833\n",
            "Fold 2, Epoch 21100, Loss: 0.16571737825870514\n",
            "Fold 2, Epoch 21200, Loss: 0.16571123898029327\n",
            "Fold 2, Epoch 21300, Loss: 0.16570349037647247\n",
            "Fold 2, Epoch 21400, Loss: 0.16569845378398895\n",
            "Fold 2, Epoch 21500, Loss: 0.165694460272789\n",
            "Fold 2, Epoch 21600, Loss: 0.165690615773201\n",
            "Fold 2, Epoch 21700, Loss: 0.16568730771541595\n",
            "Fold 2, Epoch 21800, Loss: 0.1656845062971115\n",
            "Fold 2, Epoch 21900, Loss: 0.16568127274513245\n",
            "Fold 2, Epoch 22000, Loss: 0.1656763255596161\n",
            "Fold 2, Epoch 22100, Loss: 0.16567225754261017\n",
            "Fold 2, Epoch 22200, Loss: 0.1656695157289505\n",
            "Fold 2, Epoch 22300, Loss: 0.16566769778728485\n",
            "Fold 2, Epoch 22400, Loss: 0.16566555202007294\n",
            "Fold 2, Epoch 22500, Loss: 0.16566407680511475\n",
            "Fold 2, Epoch 22600, Loss: 0.16566167771816254\n",
            "Fold 2, Epoch 22700, Loss: 0.16565971076488495\n",
            "Fold 2, Epoch 22800, Loss: 0.16565777361392975\n",
            "Fold 2, Epoch 22900, Loss: 0.1656559407711029\n",
            "Fold 2, Epoch 23000, Loss: 0.1656545102596283\n",
            "Fold 2, Epoch 23100, Loss: 0.16565309464931488\n",
            "Fold 2, Epoch 23200, Loss: 0.16565130650997162\n",
            "Fold 2, Epoch 23300, Loss: 0.16564981639385223\n",
            "Fold 2, Epoch 23400, Loss: 0.16564904153347015\n",
            "Fold 2, Epoch 23500, Loss: 0.16564808785915375\n",
            "Fold 2, Epoch 23600, Loss: 0.16564659774303436\n",
            "Fold 2, Epoch 23700, Loss: 0.16564567387104034\n",
            "Fold 2, Epoch 23800, Loss: 0.1656443178653717\n",
            "Fold 2, Epoch 23900, Loss: 0.16564331948757172\n",
            "Fold 2, Epoch 24000, Loss: 0.16564209759235382\n",
            "Fold 2, Epoch 24100, Loss: 0.16564051806926727\n",
            "Fold 2, Epoch 24200, Loss: 0.16563943028450012\n",
            "Fold 2, Epoch 24300, Loss: 0.16563871502876282\n",
            "Fold 2, Epoch 24400, Loss: 0.16563794016838074\n",
            "Fold 2, Epoch 24500, Loss: 0.1656367927789688\n",
            "Fold 2, Epoch 24600, Loss: 0.16563576459884644\n",
            "Fold 2, Epoch 24700, Loss: 0.16563507914543152\n",
            "Fold 2, Epoch 24800, Loss: 0.16563427448272705\n",
            "Fold 2, Epoch 24900, Loss: 0.16563376784324646\n",
            "Fold 2, Loss: 0.1665230691432953\n",
            "Fold 2 saved\n",
            "Fold 3, Epoch 0, Loss: 0.999999463558197\n",
            "Fold 3, Epoch 100, Loss: 0.9999969601631165\n",
            "Fold 3, Epoch 200, Loss: 0.9999908208847046\n",
            "Fold 3, Epoch 300, Loss: 0.999971866607666\n",
            "Fold 3, Epoch 400, Loss: 0.9999043345451355\n",
            "Fold 3, Epoch 500, Loss: 0.9995912909507751\n",
            "Fold 3, Epoch 600, Loss: 0.9976580142974854\n",
            "Fold 3, Epoch 700, Loss: 0.9897525906562805\n",
            "Fold 3, Epoch 800, Loss: 0.9669947028160095\n",
            "Fold 3, Epoch 900, Loss: 0.9183056950569153\n",
            "Fold 3, Epoch 1000, Loss: 0.8477769494056702\n",
            "Fold 3, Epoch 1100, Loss: 0.7877913117408752\n",
            "Fold 3, Epoch 1200, Loss: 0.756904125213623\n",
            "Fold 3, Epoch 1300, Loss: 0.7365821599960327\n",
            "Fold 3, Epoch 1400, Loss: 0.7172808051109314\n",
            "Fold 3, Epoch 1500, Loss: 0.6953861713409424\n",
            "Fold 3, Epoch 1600, Loss: 0.6697534918785095\n",
            "Fold 3, Epoch 1700, Loss: 0.6393924355506897\n",
            "Fold 3, Epoch 1800, Loss: 0.6027569770812988\n",
            "Fold 3, Epoch 1900, Loss: 0.5584121346473694\n",
            "Fold 3, Epoch 2000, Loss: 0.5078095197677612\n",
            "Fold 3, Epoch 2100, Loss: 0.457745760679245\n",
            "Fold 3, Epoch 2200, Loss: 0.41542020440101624\n",
            "Fold 3, Epoch 2300, Loss: 0.3802158534526825\n",
            "Fold 3, Epoch 2400, Loss: 0.35117045044898987\n",
            "Fold 3, Epoch 2500, Loss: 0.32784849405288696\n",
            "Fold 3, Epoch 2600, Loss: 0.3088890016078949\n",
            "Fold 3, Epoch 2700, Loss: 0.2928773760795593\n",
            "Fold 3, Epoch 2800, Loss: 0.27903398871421814\n",
            "Fold 3, Epoch 2900, Loss: 0.26693233847618103\n",
            "Fold 3, Epoch 3000, Loss: 0.25632792711257935\n",
            "Fold 3, Epoch 3100, Loss: 0.24677470326423645\n",
            "Fold 3, Epoch 3200, Loss: 0.23821260035037994\n",
            "Fold 3, Epoch 3300, Loss: 0.23081372678279877\n",
            "Fold 3, Epoch 3400, Loss: 0.22458235919475555\n",
            "Fold 3, Epoch 3500, Loss: 0.219308003783226\n",
            "Fold 3, Epoch 3600, Loss: 0.2149144411087036\n",
            "Fold 3, Epoch 3700, Loss: 0.21134662628173828\n",
            "Fold 3, Epoch 3800, Loss: 0.20841316878795624\n",
            "Fold 3, Epoch 3900, Loss: 0.2058899700641632\n",
            "Fold 3, Epoch 4000, Loss: 0.20371286571025848\n",
            "Fold 3, Epoch 4100, Loss: 0.20173285901546478\n",
            "Fold 3, Epoch 4200, Loss: 0.1999169886112213\n",
            "Fold 3, Epoch 4300, Loss: 0.19828201830387115\n",
            "Fold 3, Epoch 4400, Loss: 0.19681337475776672\n",
            "Fold 3, Epoch 4500, Loss: 0.19548852741718292\n",
            "Fold 3, Epoch 4600, Loss: 0.19425798952579498\n",
            "Fold 3, Epoch 4700, Loss: 0.19311296939849854\n",
            "Fold 3, Epoch 4800, Loss: 0.19202986359596252\n",
            "Fold 3, Epoch 4900, Loss: 0.19101367890834808\n",
            "Fold 3, Epoch 5000, Loss: 0.19003988802433014\n",
            "Fold 3, Epoch 5100, Loss: 0.18911033868789673\n",
            "Fold 3, Epoch 5200, Loss: 0.1882523000240326\n",
            "Fold 3, Epoch 5300, Loss: 0.18744617700576782\n",
            "Fold 3, Epoch 5400, Loss: 0.18667370080947876\n",
            "Fold 3, Epoch 5500, Loss: 0.1859743595123291\n",
            "Fold 3, Epoch 5600, Loss: 0.18532469868659973\n",
            "Fold 3, Epoch 5700, Loss: 0.18468618392944336\n",
            "Fold 3, Epoch 5800, Loss: 0.1840807944536209\n",
            "Fold 3, Epoch 5900, Loss: 0.18350398540496826\n",
            "Fold 3, Epoch 6000, Loss: 0.1829596310853958\n",
            "Fold 3, Epoch 6100, Loss: 0.18245747685432434\n",
            "Fold 3, Epoch 6200, Loss: 0.182001993060112\n",
            "Fold 3, Epoch 6300, Loss: 0.18158788979053497\n",
            "Fold 3, Epoch 6400, Loss: 0.18119186162948608\n",
            "Fold 3, Epoch 6500, Loss: 0.18081524968147278\n",
            "Fold 3, Epoch 6600, Loss: 0.18045593798160553\n",
            "Fold 3, Epoch 6700, Loss: 0.18011197447776794\n",
            "Fold 3, Epoch 6800, Loss: 0.17979294061660767\n",
            "Fold 3, Epoch 6900, Loss: 0.1795031875371933\n",
            "Fold 3, Epoch 7000, Loss: 0.17923103272914886\n",
            "Fold 3, Epoch 7100, Loss: 0.1789693683385849\n",
            "Fold 3, Epoch 7200, Loss: 0.17872357368469238\n",
            "Fold 3, Epoch 7300, Loss: 0.17849604785442352\n",
            "Fold 3, Epoch 7400, Loss: 0.17827056348323822\n",
            "Fold 3, Epoch 7500, Loss: 0.1780478060245514\n",
            "Fold 3, Epoch 7600, Loss: 0.17783595621585846\n",
            "Fold 3, Epoch 7700, Loss: 0.17763106524944305\n",
            "Fold 3, Epoch 7800, Loss: 0.1774272620677948\n",
            "Fold 3, Epoch 7900, Loss: 0.17722788453102112\n",
            "Fold 3, Epoch 8000, Loss: 0.17703184485435486\n",
            "Fold 3, Epoch 8100, Loss: 0.17684383690357208\n",
            "Fold 3, Epoch 8200, Loss: 0.17665666341781616\n",
            "Fold 3, Epoch 8300, Loss: 0.17646054923534393\n",
            "Fold 3, Epoch 8400, Loss: 0.17626097798347473\n",
            "Fold 3, Epoch 8500, Loss: 0.17607590556144714\n",
            "Fold 3, Epoch 8600, Loss: 0.1758967489004135\n",
            "Fold 3, Epoch 8700, Loss: 0.17571040987968445\n",
            "Fold 3, Epoch 8800, Loss: 0.17552299797534943\n",
            "Fold 3, Epoch 8900, Loss: 0.1753307729959488\n",
            "Fold 3, Epoch 9000, Loss: 0.17513279616832733\n",
            "Fold 3, Epoch 9100, Loss: 0.17493936419487\n",
            "Fold 3, Epoch 9200, Loss: 0.17475704848766327\n",
            "Fold 3, Epoch 9300, Loss: 0.17460209131240845\n",
            "Fold 3, Epoch 9400, Loss: 0.17445597052574158\n",
            "Fold 3, Epoch 9500, Loss: 0.1743175983428955\n",
            "Fold 3, Epoch 9600, Loss: 0.17419490218162537\n",
            "Fold 3, Epoch 9700, Loss: 0.17407698929309845\n",
            "Fold 3, Epoch 9800, Loss: 0.17396575212478638\n",
            "Fold 3, Epoch 9900, Loss: 0.17385344207286835\n",
            "Fold 3, Epoch 10000, Loss: 0.17374077439308167\n",
            "Fold 3, Epoch 10100, Loss: 0.1736266016960144\n",
            "Fold 3, Epoch 10200, Loss: 0.17351363599300385\n",
            "Fold 3, Epoch 10300, Loss: 0.17340564727783203\n",
            "Fold 3, Epoch 10400, Loss: 0.1732913851737976\n",
            "Fold 3, Epoch 10500, Loss: 0.17317920923233032\n",
            "Fold 3, Epoch 10600, Loss: 0.17306733131408691\n",
            "Fold 3, Epoch 10700, Loss: 0.17295444011688232\n",
            "Fold 3, Epoch 10800, Loss: 0.17284154891967773\n",
            "Fold 3, Epoch 10900, Loss: 0.1727326661348343\n",
            "Fold 3, Epoch 11000, Loss: 0.17262420058250427\n",
            "Fold 3, Epoch 11100, Loss: 0.1725044995546341\n",
            "Fold 3, Epoch 11200, Loss: 0.17238382995128632\n",
            "Fold 3, Epoch 11300, Loss: 0.17227719724178314\n",
            "Fold 3, Epoch 11400, Loss: 0.1721729040145874\n",
            "Fold 3, Epoch 11500, Loss: 0.17207567393779755\n",
            "Fold 3, Epoch 11600, Loss: 0.1719779521226883\n",
            "Fold 3, Epoch 11700, Loss: 0.17188692092895508\n",
            "Fold 3, Epoch 11800, Loss: 0.1717974841594696\n",
            "Fold 3, Epoch 11900, Loss: 0.17170359194278717\n",
            "Fold 3, Epoch 12000, Loss: 0.1716003566980362\n",
            "Fold 3, Epoch 12100, Loss: 0.17148056626319885\n",
            "Fold 3, Epoch 12200, Loss: 0.1713559627532959\n",
            "Fold 3, Epoch 12300, Loss: 0.17123593389987946\n",
            "Fold 3, Epoch 12400, Loss: 0.17111296951770782\n",
            "Fold 3, Epoch 12500, Loss: 0.17099876701831818\n",
            "Fold 3, Epoch 12600, Loss: 0.1708914339542389\n",
            "Fold 3, Epoch 12700, Loss: 0.17079012095928192\n",
            "Fold 3, Epoch 12800, Loss: 0.170695960521698\n",
            "Fold 3, Epoch 12900, Loss: 0.17059063911437988\n",
            "Fold 3, Epoch 13000, Loss: 0.170486718416214\n",
            "Fold 3, Epoch 13100, Loss: 0.17038489878177643\n",
            "Fold 3, Epoch 13200, Loss: 0.17026971280574799\n",
            "Fold 3, Epoch 13300, Loss: 0.17013588547706604\n",
            "Fold 3, Epoch 13400, Loss: 0.1699467897415161\n",
            "Fold 3, Epoch 13500, Loss: 0.16982817649841309\n",
            "Fold 3, Epoch 13600, Loss: 0.16972723603248596\n",
            "Fold 3, Epoch 13700, Loss: 0.16963039338588715\n",
            "Fold 3, Epoch 13800, Loss: 0.16954967379570007\n",
            "Fold 3, Epoch 13900, Loss: 0.16947215795516968\n",
            "Fold 3, Epoch 14000, Loss: 0.1693410873413086\n",
            "Fold 3, Epoch 14100, Loss: 0.16919666528701782\n",
            "Fold 3, Epoch 14200, Loss: 0.1690678596496582\n",
            "Fold 3, Epoch 14300, Loss: 0.1689487099647522\n",
            "Fold 3, Epoch 14400, Loss: 0.16882354021072388\n",
            "Fold 3, Epoch 14500, Loss: 0.1687069833278656\n",
            "Fold 3, Epoch 14600, Loss: 0.1686023324728012\n",
            "Fold 3, Epoch 14700, Loss: 0.16850361227989197\n",
            "Fold 3, Epoch 14800, Loss: 0.16840966045856476\n",
            "Fold 3, Epoch 14900, Loss: 0.1682802140712738\n",
            "Fold 3, Epoch 15000, Loss: 0.1681346893310547\n",
            "Fold 3, Epoch 15100, Loss: 0.16799798607826233\n",
            "Fold 3, Epoch 15200, Loss: 0.16785050928592682\n",
            "Fold 3, Epoch 15300, Loss: 0.1677149385213852\n",
            "Fold 3, Epoch 15400, Loss: 0.16755397617816925\n",
            "Fold 3, Epoch 15500, Loss: 0.16741645336151123\n",
            "Fold 3, Epoch 15600, Loss: 0.16729412972927094\n",
            "Fold 3, Epoch 15700, Loss: 0.1672016680240631\n",
            "Fold 3, Epoch 15800, Loss: 0.1671348512172699\n",
            "Fold 3, Epoch 15900, Loss: 0.16708078980445862\n",
            "Fold 3, Epoch 16000, Loss: 0.1670268476009369\n",
            "Fold 3, Epoch 16100, Loss: 0.1669808030128479\n",
            "Fold 3, Epoch 16200, Loss: 0.16694359481334686\n",
            "Fold 3, Epoch 16300, Loss: 0.16690637171268463\n",
            "Fold 3, Epoch 16400, Loss: 0.16687403619289398\n",
            "Fold 3, Epoch 16500, Loss: 0.16683147847652435\n",
            "Fold 3, Epoch 16600, Loss: 0.16679595410823822\n",
            "Fold 3, Epoch 16700, Loss: 0.16676025092601776\n",
            "Fold 3, Epoch 16800, Loss: 0.16672299802303314\n",
            "Fold 3, Epoch 16900, Loss: 0.16669566929340363\n",
            "Fold 3, Epoch 17000, Loss: 0.1666707992553711\n",
            "Fold 3, Epoch 17100, Loss: 0.16664621233940125\n",
            "Fold 3, Epoch 17200, Loss: 0.16662947833538055\n",
            "Fold 3, Epoch 17300, Loss: 0.16661188006401062\n",
            "Fold 3, Epoch 17400, Loss: 0.16658905148506165\n",
            "Fold 3, Epoch 17500, Loss: 0.1665690839290619\n",
            "Fold 3, Epoch 17600, Loss: 0.16654901206493378\n",
            "Fold 3, Epoch 17700, Loss: 0.16652384400367737\n",
            "Fold 3, Epoch 17800, Loss: 0.16649828851222992\n",
            "Fold 3, Epoch 17900, Loss: 0.16646309196949005\n",
            "Fold 3, Epoch 18000, Loss: 0.1664152890443802\n",
            "Fold 3, Epoch 18100, Loss: 0.16634920239448547\n",
            "Fold 3, Epoch 18200, Loss: 0.1662878841161728\n",
            "Fold 3, Epoch 18300, Loss: 0.16623535752296448\n",
            "Fold 3, Epoch 18400, Loss: 0.16619567573070526\n",
            "Fold 3, Epoch 18500, Loss: 0.1661660224199295\n",
            "Fold 3, Epoch 18600, Loss: 0.16613174974918365\n",
            "Fold 3, Epoch 18700, Loss: 0.16609741747379303\n",
            "Fold 3, Epoch 18800, Loss: 0.16606363654136658\n",
            "Fold 3, Epoch 18900, Loss: 0.1660412847995758\n",
            "Fold 3, Epoch 19000, Loss: 0.1660027951002121\n",
            "Fold 3, Epoch 19100, Loss: 0.16596469283103943\n",
            "Fold 3, Epoch 19200, Loss: 0.1659255176782608\n",
            "Fold 3, Epoch 19300, Loss: 0.16587954759597778\n",
            "Fold 3, Epoch 19400, Loss: 0.16583605110645294\n",
            "Fold 3, Epoch 19500, Loss: 0.16578172147274017\n",
            "Fold 3, Epoch 19600, Loss: 0.16571977734565735\n",
            "Fold 3, Epoch 19700, Loss: 0.16565872728824615\n",
            "Fold 3, Epoch 19800, Loss: 0.1656259298324585\n",
            "Fold 3, Epoch 19900, Loss: 0.16560271382331848\n",
            "Fold 3, Epoch 20000, Loss: 0.16558067500591278\n",
            "Fold 3, Epoch 20100, Loss: 0.16555754840373993\n",
            "Fold 3, Epoch 20200, Loss: 0.1655369997024536\n",
            "Fold 3, Epoch 20300, Loss: 0.1655154824256897\n",
            "Fold 3, Epoch 20400, Loss: 0.16549912095069885\n",
            "Fold 3, Epoch 20500, Loss: 0.16548646986484528\n",
            "Fold 3, Epoch 20600, Loss: 0.16547533869743347\n",
            "Fold 3, Epoch 20700, Loss: 0.16546335816383362\n",
            "Fold 3, Epoch 20800, Loss: 0.1654478907585144\n",
            "Fold 3, Epoch 20900, Loss: 0.16542959213256836\n",
            "Fold 3, Epoch 21000, Loss: 0.16541586816310883\n",
            "Fold 3, Epoch 21100, Loss: 0.16540347039699554\n",
            "Fold 3, Epoch 21200, Loss: 0.16539284586906433\n",
            "Fold 3, Epoch 21300, Loss: 0.16536536812782288\n",
            "Fold 3, Epoch 21400, Loss: 0.16535046696662903\n",
            "Fold 3, Epoch 21500, Loss: 0.16533729434013367\n",
            "Fold 3, Epoch 21600, Loss: 0.16532514989376068\n",
            "Fold 3, Epoch 21700, Loss: 0.16530756652355194\n",
            "Fold 3, Epoch 21800, Loss: 0.16529154777526855\n",
            "Fold 3, Epoch 21900, Loss: 0.16527488827705383\n",
            "Fold 3, Epoch 22000, Loss: 0.16526317596435547\n",
            "Fold 3, Epoch 22100, Loss: 0.16524791717529297\n",
            "Fold 3, Epoch 22200, Loss: 0.16523098945617676\n",
            "Fold 3, Epoch 22300, Loss: 0.1652112752199173\n",
            "Fold 3, Epoch 22400, Loss: 0.16517381370067596\n",
            "Fold 3, Epoch 22500, Loss: 0.16514113545417786\n",
            "Fold 3, Epoch 22600, Loss: 0.16511252522468567\n",
            "Fold 3, Epoch 22700, Loss: 0.16508781909942627\n",
            "Fold 3, Epoch 22800, Loss: 0.16504916548728943\n",
            "Fold 3, Epoch 22900, Loss: 0.16496993601322174\n",
            "Fold 3, Epoch 23000, Loss: 0.1648297756910324\n",
            "Fold 3, Epoch 23100, Loss: 0.16457611322402954\n",
            "Fold 3, Epoch 23200, Loss: 0.1643965244293213\n",
            "Fold 3, Epoch 23300, Loss: 0.16424894332885742\n",
            "Fold 3, Epoch 23400, Loss: 0.16415801644325256\n",
            "Fold 3, Epoch 23500, Loss: 0.16409847140312195\n",
            "Fold 3, Epoch 23600, Loss: 0.1640321910381317\n",
            "Fold 3, Epoch 23700, Loss: 0.16395322978496552\n",
            "Fold 3, Epoch 23800, Loss: 0.16389654576778412\n",
            "Fold 3, Epoch 23900, Loss: 0.16384562849998474\n",
            "Fold 3, Epoch 24000, Loss: 0.16380472481250763\n",
            "Fold 3, Epoch 24100, Loss: 0.16376487910747528\n",
            "Fold 3, Epoch 24200, Loss: 0.1637263000011444\n",
            "Fold 3, Epoch 24300, Loss: 0.1637028604745865\n",
            "Fold 3, Epoch 24400, Loss: 0.16368113458156586\n",
            "Fold 3, Epoch 24500, Loss: 0.16365893185138702\n",
            "Fold 3, Epoch 24600, Loss: 0.16364043951034546\n",
            "Fold 3, Epoch 24700, Loss: 0.16362664103507996\n",
            "Fold 3, Epoch 24800, Loss: 0.16361360251903534\n",
            "Fold 3, Epoch 24900, Loss: 0.16360320150852203\n",
            "Fold 3, Loss: 0.16659998893737793\n",
            "Fold 3 saved\n",
            "Fold 4, Epoch 0, Loss: 1.000000238418579\n",
            "Fold 4, Epoch 100, Loss: 0.9999957084655762\n",
            "Fold 4, Epoch 200, Loss: 0.9999837279319763\n",
            "Fold 4, Epoch 300, Loss: 0.9999239444732666\n",
            "Fold 4, Epoch 400, Loss: 0.9996039271354675\n",
            "Fold 4, Epoch 500, Loss: 0.997305691242218\n",
            "Fold 4, Epoch 600, Loss: 0.9847441911697388\n",
            "Fold 4, Epoch 700, Loss: 0.943148136138916\n",
            "Fold 4, Epoch 800, Loss: 0.8601515293121338\n",
            "Fold 4, Epoch 900, Loss: 0.7798044085502625\n",
            "Fold 4, Epoch 1000, Loss: 0.7431108355522156\n",
            "Fold 4, Epoch 1100, Loss: 0.7178744077682495\n",
            "Fold 4, Epoch 1200, Loss: 0.6916480660438538\n",
            "Fold 4, Epoch 1300, Loss: 0.6607260704040527\n",
            "Fold 4, Epoch 1400, Loss: 0.6231676936149597\n",
            "Fold 4, Epoch 1500, Loss: 0.5767109394073486\n",
            "Fold 4, Epoch 1600, Loss: 0.5207529664039612\n",
            "Fold 4, Epoch 1700, Loss: 0.4612981379032135\n",
            "Fold 4, Epoch 1800, Loss: 0.40719661116600037\n",
            "Fold 4, Epoch 1900, Loss: 0.363986998796463\n",
            "Fold 4, Epoch 2000, Loss: 0.3312929570674896\n",
            "Fold 4, Epoch 2100, Loss: 0.30724912881851196\n",
            "Fold 4, Epoch 2200, Loss: 0.28875067830085754\n",
            "Fold 4, Epoch 2300, Loss: 0.2735639810562134\n",
            "Fold 4, Epoch 2400, Loss: 0.2602822184562683\n",
            "Fold 4, Epoch 2500, Loss: 0.24852049350738525\n",
            "Fold 4, Epoch 2600, Loss: 0.23849566280841827\n",
            "Fold 4, Epoch 2700, Loss: 0.229954332113266\n",
            "Fold 4, Epoch 2800, Loss: 0.22318293154239655\n",
            "Fold 4, Epoch 2900, Loss: 0.21770960092544556\n",
            "Fold 4, Epoch 3000, Loss: 0.21327976882457733\n",
            "Fold 4, Epoch 3100, Loss: 0.209579735994339\n",
            "Fold 4, Epoch 3200, Loss: 0.20646226406097412\n",
            "Fold 4, Epoch 3300, Loss: 0.20380540192127228\n",
            "Fold 4, Epoch 3400, Loss: 0.20157431066036224\n",
            "Fold 4, Epoch 3500, Loss: 0.19957344233989716\n",
            "Fold 4, Epoch 3600, Loss: 0.19770547747612\n",
            "Fold 4, Epoch 3700, Loss: 0.19606539607048035\n",
            "Fold 4, Epoch 3800, Loss: 0.1946234256029129\n",
            "Fold 4, Epoch 3900, Loss: 0.1933489888906479\n",
            "Fold 4, Epoch 4000, Loss: 0.1922277808189392\n",
            "Fold 4, Epoch 4100, Loss: 0.19123587012290955\n",
            "Fold 4, Epoch 4200, Loss: 0.1903645545244217\n",
            "Fold 4, Epoch 4300, Loss: 0.18955202400684357\n",
            "Fold 4, Epoch 4400, Loss: 0.1887681484222412\n",
            "Fold 4, Epoch 4500, Loss: 0.18803465366363525\n",
            "Fold 4, Epoch 4600, Loss: 0.18735763430595398\n",
            "Fold 4, Epoch 4700, Loss: 0.18671758472919464\n",
            "Fold 4, Epoch 4800, Loss: 0.18611454963684082\n",
            "Fold 4, Epoch 4900, Loss: 0.18555890023708344\n",
            "Fold 4, Epoch 5000, Loss: 0.185035839676857\n",
            "Fold 4, Epoch 5100, Loss: 0.18453988432884216\n",
            "Fold 4, Epoch 5200, Loss: 0.1840638667345047\n",
            "Fold 4, Epoch 5300, Loss: 0.18360203504562378\n",
            "Fold 4, Epoch 5400, Loss: 0.18316183984279633\n",
            "Fold 4, Epoch 5500, Loss: 0.18271513283252716\n",
            "Fold 4, Epoch 5600, Loss: 0.18226680159568787\n",
            "Fold 4, Epoch 5700, Loss: 0.18183468282222748\n",
            "Fold 4, Epoch 5800, Loss: 0.18142203986644745\n",
            "Fold 4, Epoch 5900, Loss: 0.18103088438510895\n",
            "Fold 4, Epoch 6000, Loss: 0.18067331612110138\n",
            "Fold 4, Epoch 6100, Loss: 0.18034255504608154\n",
            "Fold 4, Epoch 6200, Loss: 0.18003405630588531\n",
            "Fold 4, Epoch 6300, Loss: 0.17973896861076355\n",
            "Fold 4, Epoch 6400, Loss: 0.1794409304857254\n",
            "Fold 4, Epoch 6500, Loss: 0.17914041876792908\n",
            "Fold 4, Epoch 6600, Loss: 0.1788448542356491\n",
            "Fold 4, Epoch 6700, Loss: 0.1785723716020584\n",
            "Fold 4, Epoch 6800, Loss: 0.1783180832862854\n",
            "Fold 4, Epoch 6900, Loss: 0.17807897925376892\n",
            "Fold 4, Epoch 7000, Loss: 0.1778576821088791\n",
            "Fold 4, Epoch 7100, Loss: 0.1776377409696579\n",
            "Fold 4, Epoch 7200, Loss: 0.17741549015045166\n",
            "Fold 4, Epoch 7300, Loss: 0.1772066205739975\n",
            "Fold 4, Epoch 7400, Loss: 0.17699989676475525\n",
            "Fold 4, Epoch 7500, Loss: 0.17679624259471893\n",
            "Fold 4, Epoch 7600, Loss: 0.17660541832447052\n",
            "Fold 4, Epoch 7700, Loss: 0.17641741037368774\n",
            "Fold 4, Epoch 7800, Loss: 0.17624226212501526\n",
            "Fold 4, Epoch 7900, Loss: 0.1760537177324295\n",
            "Fold 4, Epoch 8000, Loss: 0.17585796117782593\n",
            "Fold 4, Epoch 8100, Loss: 0.17566801607608795\n",
            "Fold 4, Epoch 8200, Loss: 0.17547275125980377\n",
            "Fold 4, Epoch 8300, Loss: 0.17527006566524506\n",
            "Fold 4, Epoch 8400, Loss: 0.17505568265914917\n",
            "Fold 4, Epoch 8500, Loss: 0.1748589426279068\n",
            "Fold 4, Epoch 8600, Loss: 0.17467574775218964\n",
            "Fold 4, Epoch 8700, Loss: 0.17450207471847534\n",
            "Fold 4, Epoch 8800, Loss: 0.17433732748031616\n",
            "Fold 4, Epoch 8900, Loss: 0.17416386306285858\n",
            "Fold 4, Epoch 9000, Loss: 0.17400439083576202\n",
            "Fold 4, Epoch 9100, Loss: 0.17385050654411316\n",
            "Fold 4, Epoch 9200, Loss: 0.17369526624679565\n",
            "Fold 4, Epoch 9300, Loss: 0.17354746162891388\n",
            "Fold 4, Epoch 9400, Loss: 0.17337769269943237\n",
            "Fold 4, Epoch 9500, Loss: 0.17320913076400757\n",
            "Fold 4, Epoch 9600, Loss: 0.1730414479970932\n",
            "Fold 4, Epoch 9700, Loss: 0.17287126183509827\n",
            "Fold 4, Epoch 9800, Loss: 0.17271244525909424\n",
            "Fold 4, Epoch 9900, Loss: 0.17256280779838562\n",
            "Fold 4, Epoch 10000, Loss: 0.1724289506673813\n",
            "Fold 4, Epoch 10100, Loss: 0.17229275405406952\n",
            "Fold 4, Epoch 10200, Loss: 0.17215485870838165\n",
            "Fold 4, Epoch 10300, Loss: 0.17202405631542206\n",
            "Fold 4, Epoch 10400, Loss: 0.17188015580177307\n",
            "Fold 4, Epoch 10500, Loss: 0.1717148870229721\n",
            "Fold 4, Epoch 10600, Loss: 0.17159172892570496\n",
            "Fold 4, Epoch 10700, Loss: 0.17146378755569458\n",
            "Fold 4, Epoch 10800, Loss: 0.1713353395462036\n",
            "Fold 4, Epoch 10900, Loss: 0.17120303213596344\n",
            "Fold 4, Epoch 11000, Loss: 0.17106051743030548\n",
            "Fold 4, Epoch 11100, Loss: 0.17092286050319672\n",
            "Fold 4, Epoch 11200, Loss: 0.17078661918640137\n",
            "Fold 4, Epoch 11300, Loss: 0.17066195607185364\n",
            "Fold 4, Epoch 11400, Loss: 0.17054198682308197\n",
            "Fold 4, Epoch 11500, Loss: 0.1704336255788803\n",
            "Fold 4, Epoch 11600, Loss: 0.17032265663146973\n",
            "Fold 4, Epoch 11700, Loss: 0.17021659016609192\n",
            "Fold 4, Epoch 11800, Loss: 0.17009010910987854\n",
            "Fold 4, Epoch 11900, Loss: 0.16996391117572784\n",
            "Fold 4, Epoch 12000, Loss: 0.16985078155994415\n",
            "Fold 4, Epoch 12100, Loss: 0.16973941028118134\n",
            "Fold 4, Epoch 12200, Loss: 0.1696169078350067\n",
            "Fold 4, Epoch 12300, Loss: 0.16947698593139648\n",
            "Fold 4, Epoch 12400, Loss: 0.16935056447982788\n",
            "Fold 4, Epoch 12500, Loss: 0.16921795904636383\n",
            "Fold 4, Epoch 12600, Loss: 0.16908589005470276\n",
            "Fold 4, Epoch 12700, Loss: 0.16893887519836426\n",
            "Fold 4, Epoch 12800, Loss: 0.16879451274871826\n",
            "Fold 4, Epoch 12900, Loss: 0.16865067183971405\n",
            "Fold 4, Epoch 13000, Loss: 0.1685139387845993\n",
            "Fold 4, Epoch 13100, Loss: 0.168346107006073\n",
            "Fold 4, Epoch 13200, Loss: 0.168231800198555\n",
            "Fold 4, Epoch 13300, Loss: 0.1681378185749054\n",
            "Fold 4, Epoch 13400, Loss: 0.1680498570203781\n",
            "Fold 4, Epoch 13500, Loss: 0.1679580807685852\n",
            "Fold 4, Epoch 13600, Loss: 0.16788014769554138\n",
            "Fold 4, Epoch 13700, Loss: 0.167794331908226\n",
            "Fold 4, Epoch 13800, Loss: 0.1677086502313614\n",
            "Fold 4, Epoch 13900, Loss: 0.16764384508132935\n",
            "Fold 4, Epoch 14000, Loss: 0.16758579015731812\n",
            "Fold 4, Epoch 14100, Loss: 0.16753725707530975\n",
            "Fold 4, Epoch 14200, Loss: 0.16748593747615814\n",
            "Fold 4, Epoch 14300, Loss: 0.16744163632392883\n",
            "Fold 4, Epoch 14400, Loss: 0.16739584505558014\n",
            "Fold 4, Epoch 14500, Loss: 0.1673489362001419\n",
            "Fold 4, Epoch 14600, Loss: 0.16731102764606476\n",
            "Fold 4, Epoch 14700, Loss: 0.16726946830749512\n",
            "Fold 4, Epoch 14800, Loss: 0.1672133505344391\n",
            "Fold 4, Epoch 14900, Loss: 0.16714338958263397\n",
            "Fold 4, Epoch 15000, Loss: 0.16707932949066162\n",
            "Fold 4, Epoch 15100, Loss: 0.16699373722076416\n",
            "Fold 4, Epoch 15200, Loss: 0.16690349578857422\n",
            "Fold 4, Epoch 15300, Loss: 0.16682133078575134\n",
            "Fold 4, Epoch 15400, Loss: 0.16672220826148987\n",
            "Fold 4, Epoch 15500, Loss: 0.1666269153356552\n",
            "Fold 4, Epoch 15600, Loss: 0.16653935611248016\n",
            "Fold 4, Epoch 15700, Loss: 0.16645842790603638\n",
            "Fold 4, Epoch 15800, Loss: 0.16637088358402252\n",
            "Fold 4, Epoch 15900, Loss: 0.16629324853420258\n",
            "Fold 4, Epoch 16000, Loss: 0.16619384288787842\n",
            "Fold 4, Epoch 16100, Loss: 0.1661437749862671\n",
            "Fold 4, Epoch 16200, Loss: 0.16608896851539612\n",
            "Fold 4, Epoch 16300, Loss: 0.16602587699890137\n",
            "Fold 4, Epoch 16400, Loss: 0.16594401001930237\n",
            "Fold 4, Epoch 16500, Loss: 0.16587616503238678\n",
            "Fold 4, Epoch 16600, Loss: 0.16583269834518433\n",
            "Fold 4, Epoch 16700, Loss: 0.16578884422779083\n",
            "Fold 4, Epoch 16800, Loss: 0.16574159264564514\n",
            "Fold 4, Epoch 16900, Loss: 0.16569072008132935\n",
            "Fold 4, Epoch 17000, Loss: 0.16564179956912994\n",
            "Fold 4, Epoch 17100, Loss: 0.16559813916683197\n",
            "Fold 4, Epoch 17200, Loss: 0.1655472218990326\n",
            "Fold 4, Epoch 17300, Loss: 0.16549992561340332\n",
            "Fold 4, Epoch 17400, Loss: 0.16545559465885162\n",
            "Fold 4, Epoch 17500, Loss: 0.16540808975696564\n",
            "Fold 4, Epoch 17600, Loss: 0.16536672413349152\n",
            "Fold 4, Epoch 17700, Loss: 0.1653229296207428\n",
            "Fold 4, Epoch 17800, Loss: 0.16528630256652832\n",
            "Fold 4, Epoch 17900, Loss: 0.16525988280773163\n",
            "Fold 4, Epoch 18000, Loss: 0.1652315855026245\n",
            "Fold 4, Epoch 18100, Loss: 0.16519857943058014\n",
            "Fold 4, Epoch 18200, Loss: 0.16515088081359863\n",
            "Fold 4, Epoch 18300, Loss: 0.1651182323694229\n",
            "Fold 4, Epoch 18400, Loss: 0.16506427526474\n",
            "Fold 4, Epoch 18500, Loss: 0.16501906514167786\n",
            "Fold 4, Epoch 18600, Loss: 0.16495057940483093\n",
            "Fold 4, Epoch 18700, Loss: 0.1648484468460083\n",
            "Fold 4, Epoch 18800, Loss: 0.16473238170146942\n",
            "Fold 4, Epoch 18900, Loss: 0.1646515280008316\n",
            "Fold 4, Epoch 19000, Loss: 0.16458900272846222\n",
            "Fold 4, Epoch 19100, Loss: 0.16454117000102997\n",
            "Fold 4, Epoch 19200, Loss: 0.1645035743713379\n",
            "Fold 4, Epoch 19300, Loss: 0.16446718573570251\n",
            "Fold 4, Epoch 19400, Loss: 0.1644333004951477\n",
            "Fold 4, Epoch 19500, Loss: 0.16439522802829742\n",
            "Fold 4, Epoch 19600, Loss: 0.1643598973751068\n",
            "Fold 4, Epoch 19700, Loss: 0.16433316469192505\n",
            "Fold 4, Epoch 19800, Loss: 0.1643068790435791\n",
            "Fold 4, Epoch 19900, Loss: 0.16427940130233765\n",
            "Fold 4, Epoch 20000, Loss: 0.16425864398479462\n",
            "Fold 4, Epoch 20100, Loss: 0.16423399746418\n",
            "Fold 4, Epoch 20200, Loss: 0.16420355439186096\n",
            "Fold 4, Epoch 20300, Loss: 0.16417580842971802\n",
            "Fold 4, Epoch 20400, Loss: 0.1641414761543274\n",
            "Fold 4, Epoch 20500, Loss: 0.16411155462265015\n",
            "Fold 4, Epoch 20600, Loss: 0.16408643126487732\n",
            "Fold 4, Epoch 20700, Loss: 0.1640705019235611\n",
            "Fold 4, Epoch 20800, Loss: 0.16405566036701202\n",
            "Fold 4, Epoch 20900, Loss: 0.16403107345104218\n",
            "Fold 4, Epoch 21000, Loss: 0.1640147566795349\n",
            "Fold 4, Epoch 21100, Loss: 0.16399480402469635\n",
            "Fold 4, Epoch 21200, Loss: 0.16397634148597717\n",
            "Fold 4, Epoch 21300, Loss: 0.16395854949951172\n",
            "Fold 4, Epoch 21400, Loss: 0.16394302248954773\n",
            "Fold 4, Epoch 21500, Loss: 0.1639176458120346\n",
            "Fold 4, Epoch 21600, Loss: 0.16389721632003784\n",
            "Fold 4, Epoch 21700, Loss: 0.16388309001922607\n",
            "Fold 4, Epoch 21800, Loss: 0.16387179493904114\n",
            "Fold 4, Epoch 21900, Loss: 0.16386336088180542\n",
            "Fold 4, Epoch 22000, Loss: 0.1638556569814682\n",
            "Fold 4, Epoch 22100, Loss: 0.16384896636009216\n",
            "Fold 4, Epoch 22200, Loss: 0.1638413667678833\n",
            "Fold 4, Epoch 22300, Loss: 0.1638287454843521\n",
            "Fold 4, Epoch 22400, Loss: 0.163818821310997\n",
            "Fold 4, Epoch 22500, Loss: 0.16380849480628967\n",
            "Fold 4, Epoch 22600, Loss: 0.16379863023757935\n",
            "Fold 4, Epoch 22700, Loss: 0.16378861665725708\n",
            "Fold 4, Epoch 22800, Loss: 0.16377174854278564\n",
            "Fold 4, Epoch 22900, Loss: 0.1637614220380783\n",
            "Fold 4, Epoch 23000, Loss: 0.1637555956840515\n",
            "Fold 4, Epoch 23100, Loss: 0.16374769806861877\n",
            "Fold 4, Epoch 23200, Loss: 0.16373755037784576\n",
            "Fold 4, Epoch 23300, Loss: 0.1637258231639862\n",
            "Fold 4, Epoch 23400, Loss: 0.16367128491401672\n",
            "Fold 4, Epoch 23500, Loss: 0.1636061817407608\n",
            "Fold 4, Epoch 23600, Loss: 0.163499653339386\n",
            "Fold 4, Epoch 23700, Loss: 0.1633702516555786\n",
            "Fold 4, Epoch 23800, Loss: 0.16324417293071747\n",
            "Fold 4, Epoch 23900, Loss: 0.16314475238323212\n",
            "Fold 4, Epoch 24000, Loss: 0.1630820780992508\n",
            "Fold 4, Epoch 24100, Loss: 0.16302631795406342\n",
            "Fold 4, Epoch 24200, Loss: 0.16297495365142822\n",
            "Fold 4, Epoch 24300, Loss: 0.1629432886838913\n",
            "Fold 4, Epoch 24400, Loss: 0.1629229485988617\n",
            "Fold 4, Epoch 24500, Loss: 0.1629047840833664\n",
            "Fold 4, Epoch 24600, Loss: 0.16289010643959045\n",
            "Fold 4, Epoch 24700, Loss: 0.16287410259246826\n",
            "Fold 4, Epoch 24800, Loss: 0.16285938024520874\n",
            "Fold 4, Epoch 24900, Loss: 0.16284695267677307\n",
            "Fold 4, Loss: 0.17047147452831268\n",
            "Fold 4 saved\n"
          ]
        }
      ],
      "source": [
        "model.apply(reset_weights)\n",
        "# Loop pelos folds\n",
        "for fold, (train_index, val_index) in enumerate(KFold().split(X, y)):\n",
        "    # Separar os dados em treino e teste\n",
        "    X_train, y_train = X.loc[train_index,:].values, y.loc[train_index].values\n",
        "    X_test, y_test = X.loc[val_index,:].values, y.loc[val_index].values\n",
        "\n",
        "    X_train = torch.from_numpy(X_train).to(device)\n",
        "    y_train = torch.from_numpy(y_train).to(device)\n",
        "    X_test = torch.from_numpy(X_test).to(device)\n",
        "    y_test = torch.from_numpy(y_test).to(device)\n",
        "\n",
        "    # Treinar o modelo\n",
        "    for epoch in range(25000):\n",
        "        # Forward pass\n",
        "        X_train = X_train.float()\n",
        "        y_pred = model(X_train)\n",
        "        # Calcular a perda\n",
        "        loss = loss_fn(y_pred.squeeze(), y_train)\n",
        "\n",
        "        # Backward pass e atualização dos pesos\n",
        "        optimizer.zero_grad()\n",
        "        loss.backward()\n",
        "        optimizer.step()\n",
        "\n",
        "        # Imprimir a perda a cada 100 épocas\n",
        "        if epoch % 100 == 0:\n",
        "            print('Fold {}, Epoch {}, Loss: {}'.format(fold, epoch, loss.item()))\n",
        "\n",
        "    #Testando\n",
        "    X_test = X_test.float()\n",
        "    print('Fold {}, Loss: {}'.format(fold, loss_fn(model(X_test).squeeze() ,y_test)))\n",
        "    #Salvando o modelo\n",
        "    torch.save(model.state_dict(), '/content/drive/MyDrive/IA Trabalho 2/FILIPE_DA_SILVA_ARAUJO_RNA_FOLD_{}.pth'.format(fold))\n",
        "    torch.save(model.state_dict(), '/content/FILIPE_DA_SILVA_ARAUJO_RNA_FOLD_{}.pth'.format(fold))\n",
        "    print('Fold {} saved'.format(fold))\n",
        "\n",
        "    #Reiniciando o modelo para o próximo Fold\n",
        "    model.apply(reset_weights)"
      ]
    },
    {
      "cell_type": "code",
      "execution_count": 43,
      "metadata": {
        "id": "pHVtqBWtr4hd"
      },
      "outputs": [],
      "source": [
        "predicted_prices = []\n",
        "for fold, (train_index, val_index) in enumerate(KFold().split(X, y)):\n",
        "    X_test, y_test = X.loc[val_index,:].values, y.loc[val_index].values\n",
        "    X_test = torch.from_numpy(X_test).to(device)\n",
        "    y_test = torch.from_numpy(y_test).to(device)\n",
        "\n",
        "    model.load_state_dict(torch.load(\"/content/drive/MyDrive/IA Trabalho 2/FILIPE_DA_SILVA_ARAUJO_RNA_FOLD_{}.pth\".format(fold)))\n",
        "\n",
        "    X_test = X_test.float()\n",
        "    model.eval()\n",
        "    with torch.no_grad():\n",
        "        pred = model(X_test)\n",
        "\n",
        "    pred = pred.detach().cpu().numpy().squeeze()\n",
        "    predicted_prices.append(pred)"
      ]
    },
    {
      "cell_type": "code",
      "execution_count": 44,
      "metadata": {
        "id": "tZJdFRKd-9W8"
      },
      "outputs": [],
      "source": [
        "predicted_prices = pd.DataFrame(predicted_prices)"
      ]
    },
    {
      "cell_type": "code",
      "execution_count": 45,
      "metadata": {
        "id": "gRvSK5Qh_dRL"
      },
      "outputs": [],
      "source": [
        "predicted_prices = pd.concat([predicted_prices.loc[0], predicted_prices.loc[1], predicted_prices.loc[2], predicted_prices.loc[3], predicted_prices.loc[4]], axis=0)"
      ]
    },
    {
      "cell_type": "code",
      "execution_count": 46,
      "metadata": {
        "colab": {
          "base_uri": "https://localhost:8080/"
        },
        "id": "W0fpB9nsBGsb",
        "outputId": "b3dd9747-75a6-4f5a-923f-5e37d7e0c421"
      },
      "outputs": [
        {
          "output_type": "execute_result",
          "data": {
            "text/plain": [
              "0       481163.93750\n",
              "1       612985.37500\n",
              "2       238744.90625\n",
              "3       400618.46875\n",
              "4       460096.81250\n",
              "            ...     \n",
              "4318    539989.00000\n",
              "4319    502355.03125\n",
              "4320    463161.03125\n",
              "4321    320288.31250\n",
              "4322             NaN\n",
              "Length: 21615, dtype: float64"
            ]
          },
          "metadata": {},
          "execution_count": 46
        }
      ],
      "source": [
        "predicted_prices"
      ]
    },
    {
      "cell_type": "code",
      "execution_count": 47,
      "metadata": {
        "id": "QPIwvOp-3UyR"
      },
      "outputs": [],
      "source": [
        "predicted_prices = predicted_prices.squeeze()"
      ]
    },
    {
      "cell_type": "code",
      "execution_count": 48,
      "metadata": {
        "colab": {
          "base_uri": "https://localhost:8080/"
        },
        "id": "O538RRKW-nhj",
        "outputId": "e823b19c-9939-4b92-ee4b-698870a7c5b6"
      },
      "outputs": [
        {
          "output_type": "execute_result",
          "data": {
            "text/plain": [
              "0       481163.93750\n",
              "1       612985.37500\n",
              "2       238744.90625\n",
              "3       400618.46875\n",
              "4       460096.81250\n",
              "            ...     \n",
              "4318    539989.00000\n",
              "4319    502355.03125\n",
              "4320    463161.03125\n",
              "4321    320288.31250\n",
              "4322             NaN\n",
              "Length: 21615, dtype: float64"
            ]
          },
          "metadata": {},
          "execution_count": 48
        }
      ],
      "source": [
        "predicted_prices"
      ]
    },
    {
      "cell_type": "code",
      "execution_count": 49,
      "metadata": {
        "colab": {
          "base_uri": "https://localhost:8080/"
        },
        "id": "twnk7n573DE-",
        "outputId": "ee172778-bda9-40fe-8e82-1ae47cb7f874"
      },
      "outputs": [
        {
          "output_type": "execute_result",
          "data": {
            "text/plain": [
              "0        481163.93750\n",
              "1        612985.37500\n",
              "2        238744.90625\n",
              "3        400618.46875\n",
              "4        460096.81250\n",
              "             ...     \n",
              "21610    539989.00000\n",
              "21611    502355.03125\n",
              "21612    463161.03125\n",
              "21613    320288.31250\n",
              "21614             NaN\n",
              "Length: 21615, dtype: float64"
            ]
          },
          "metadata": {},
          "execution_count": 49
        }
      ],
      "source": [
        "predicted_prices.reset_index(drop=True)"
      ]
    },
    {
      "cell_type": "code",
      "execution_count": 50,
      "metadata": {
        "colab": {
          "base_uri": "https://localhost:8080/"
        },
        "id": "jx8QIDxoCTng",
        "outputId": "35a02317-359d-4321-dffe-ced242779959"
      },
      "outputs": [
        {
          "output_type": "execute_result",
          "data": {
            "text/plain": [
              "4"
            ]
          },
          "metadata": {},
          "execution_count": 50
        }
      ],
      "source": [
        "predicted_prices.isnull().sum()"
      ]
    },
    {
      "cell_type": "code",
      "execution_count": 51,
      "metadata": {
        "colab": {
          "base_uri": "https://localhost:8080/"
        },
        "id": "93--o_H0DI-c",
        "outputId": "299f29de-7a0c-4af5-b436-e7c711967d34"
      },
      "outputs": [
        {
          "output_type": "execute_result",
          "data": {
            "text/plain": [
              "(array([ 8645, 12968, 17291, 21614]),)"
            ]
          },
          "metadata": {},
          "execution_count": 51
        }
      ],
      "source": [
        "np.where(predicted_prices.isnull().values==True)"
      ]
    },
    {
      "cell_type": "code",
      "execution_count": 52,
      "metadata": {
        "colab": {
          "base_uri": "https://localhost:8080/"
        },
        "id": "gqvIaohHGEtt",
        "outputId": "d313a9f9-6198-487e-c358-2eee18e1ebcc"
      },
      "outputs": [
        {
          "output_type": "execute_result",
          "data": {
            "text/plain": [
              "pandas.core.series.Series"
            ]
          },
          "metadata": {},
          "execution_count": 52
        }
      ],
      "source": [
        "type(predicted_prices)"
      ]
    },
    {
      "cell_type": "code",
      "execution_count": 53,
      "metadata": {
        "id": "DIUl7Q0ACTqp"
      },
      "outputs": [],
      "source": [
        "predicted_prices = predicted_prices.values.tolist()"
      ]
    },
    {
      "cell_type": "code",
      "execution_count": 54,
      "metadata": {
        "colab": {
          "base_uri": "https://localhost:8080/"
        },
        "id": "S9FFAGSXGZnX",
        "outputId": "948c2f1a-aeb6-4903-8eff-5760c843f46e"
      },
      "outputs": [
        {
          "output_type": "execute_result",
          "data": {
            "text/plain": [
              "list"
            ]
          },
          "metadata": {},
          "execution_count": 54
        }
      ],
      "source": [
        "type(predicted_prices)"
      ]
    },
    {
      "cell_type": "code",
      "execution_count": 55,
      "metadata": {
        "id": "yfsuxW98CTwT"
      },
      "outputs": [],
      "source": [
        "del predicted_prices[8645]\n",
        "del predicted_prices[12968]\n",
        "del predicted_prices[12968]\n",
        "del predicted_prices[12968]"
      ]
    },
    {
      "cell_type": "code",
      "execution_count": 56,
      "metadata": {
        "colab": {
          "base_uri": "https://localhost:8080/"
        },
        "id": "dwFh6cKoIz6e",
        "outputId": "60fbe0ca-5d43-4435-f885-6cee78cbf3d9"
      },
      "outputs": [
        {
          "output_type": "stream",
          "name": "stdout",
          "text": [
            "21611\n"
          ]
        }
      ],
      "source": [
        "print(len(predicted_prices))"
      ]
    },
    {
      "cell_type": "code",
      "execution_count": 57,
      "metadata": {
        "colab": {
          "base_uri": "https://localhost:8080/",
          "height": 406
        },
        "id": "CmuhYjPGDKXq",
        "outputId": "ec62efae-45ab-4eb5-cab2-6bac510f967a"
      },
      "outputs": [
        {
          "output_type": "display_data",
          "data": {
            "text/plain": [
              "<Figure size 640x480 with 1 Axes>"
            ],
            "image/png": "[encoded data removed]"
          },
          "metadata": {}
        }
      ],
      "source": [
        "import matplotlib.pyplot as plt\n",
        "plt.scatter(y, predicted_prices, color='black', )\n",
        "plt.plot(np.arange(np.min(y), np.max(y)), np.arange(np.min(y), np.max(y)), color=\"red\", linewidth=3)\n",
        "\n",
        "plt.xticks(())\n",
        "plt.yticks(())\n",
        "\n",
        "plt.show()"
      ]
    },
    {
      "cell_type": "code",
      "execution_count": 57,
      "metadata": {
        "id": "todAunknD3ci"
      },
      "outputs": [],
      "source": []
    },
    {
      "cell_type": "code",
      "execution_count": 57,
      "metadata": {
        "id": "pETug_GhD3ep"
      },
      "outputs": [],
      "source": []
    },
    {
      "cell_type": "code",
      "execution_count": 57,
      "metadata": {
        "id": "om7pI0LgFC_G"
      },
      "outputs": [],
      "source": []
    },
    {
      "cell_type": "code",
      "execution_count": 58,
      "metadata": {
        "id": "KpK7DHc5Lwo8"
      },
      "outputs": [],
      "source": [
        "heat = abs(np.divide(predicted_prices-y, y))\n",
        "heatM = []"
      ]
    },
    {
      "cell_type": "code",
      "execution_count": 59,
      "metadata": {
        "id": "fcQnn2EbWgJp"
      },
      "outputs": [],
      "source": [
        "import folium\n",
        "m = folium.Map(location=[47.605687, -122.328773], zoom_start=8)"
      ]
    },
    {
      "cell_type": "code",
      "execution_count": 60,
      "metadata": {
        "id": "IYLiXm82vyxG"
      },
      "outputs": [],
      "source": [
        "pophtml = \"\"\"\n",
        "<b>Price:</b> {}<br>\n",
        "<b>Predicted Price:</b> {}<br>\n",
        "<b>Bedrooms:</b> {}<br>\n",
        "<b>Bathrooms:</b> {}<br>\n",
        "<b>Sqft living:</b> {}<br>\n",
        "<b>Sqft lot:</b> {}<br>\n",
        "<b>Floors:</b> {}<br>\n",
        "<b>Waterfront:</b> {}<br>\n",
        "<b>View:</b> {}<br>\n",
        "<b>Condition:</b> {}<br>\n",
        "<b>Grade:</b> {}<br>\n",
        "<b>Sqft above:</b> {}<br>\n",
        "<b>Sqft basement:</b> {}<br>\n",
        "<b>Year built:</b> {}<br>\n",
        "<b>Year renovated:</b> {}<br>\n",
        "<b>Zipcode:</b> {}<br>\n",
        "<b>Latitude:</b> {}<br>\n",
        "<b>Longitude:</b> {}<br>\n",
        "<b>Sqft living15:</b> {}<br>\n",
        "<b>Sqft lot15:</b> {}\n",
        "\"\"\"\n",
        "\n",
        "popup_html = []\n",
        "for i in range(21611):\n",
        "  popup_html.append(pophtml.format(dataRaw.loc[i, 'price'], predicted_prices[i], dataRaw.loc[i, 'bedrooms'], dataRaw.loc[i, 'bathrooms'], dataRaw.loc[i, 'sqft_living'], dataRaw.loc[i, 'sqft_lot'], dataRaw.loc[i, 'floors'], dataRaw.loc[i, 'waterfront'], dataRaw.loc[i, 'view'], \n",
        "                                dataRaw.loc[i, 'condition'], dataRaw.loc[i, 'grade'], dataRaw.loc[i, 'sqft_above'], dataRaw.loc[i, 'sqft_basement'], dataRaw.loc[i, 'yr_built'], dataRaw.loc[i, 'yr_renovated'], dataRaw.loc[i, 'zipcode'], \n",
        "                                dataRaw.loc[i, 'lat'], dataRaw.loc[i, 'long'], dataRaw.loc[i, 'sqft_living15'], dataRaw.loc[i, 'sqft_lot15']))\n",
        "  \n",
        "  hp = [dataRaw.loc[i, 'lat'], dataRaw.loc[i, 'long'], heat[i]]\n",
        "  heatM.append(hp)"
      ]
    },
    {
      "cell_type": "code",
      "execution_count": 61,
      "metadata": {
        "id": "iLxPqdwQGR-n"
      },
      "outputs": [],
      "source": [
        "heatM = pd.DataFrame(heatM)"
      ]
    },
    {
      "cell_type": "code",
      "execution_count": 62,
      "metadata": {
        "colab": {
          "base_uri": "https://localhost:8080/"
        },
        "id": "VXgUOFmpGuof",
        "outputId": "f38267ac-b712-4ef2-a754-3071cd4c4f99"
      },
      "outputs": [
        {
          "output_type": "execute_result",
          "data": {
            "text/plain": [
              "(array([12967, 17287, 21610]), array([2, 2, 2]))"
            ]
          },
          "metadata": {},
          "execution_count": 62
        }
      ],
      "source": [
        "np.where(heatM.isnull().values==True)"
      ]
    },
    {
      "cell_type": "code",
      "execution_count": 63,
      "metadata": {
        "id": "TDZGvgqWHgYM"
      },
      "outputs": [],
      "source": [
        "heatM = heatM.drop(np.where(heatM.isnull().values==True)[0])\n",
        "heatM = heatM.drop(np.where(heatM.isnull().values==True)[1])"
      ]
    },
    {
      "cell_type": "code",
      "execution_count": 64,
      "metadata": {
        "id": "KmBOLRMQbmxa"
      },
      "outputs": [],
      "source": [
        "from folium.plugins import MarkerCluster\n",
        "cluster_marcadores = MarkerCluster().add_to(m)\n",
        "\n",
        "for i in range(21611):\n",
        "    folium.Marker(location=[dataRaw.loc[i, 'lat'], dataRaw.loc[i, 'long']], popup=popup_html[i]).add_to(cluster_marcadores)"
      ]
    },
    {
      "cell_type": "code",
      "execution_count": 65,
      "metadata": {
        "colab": {
          "base_uri": "https://localhost:8080/"
        },
        "id": "hrCyRsfgF_i1",
        "outputId": "3a2bb82a-5371-4b46-b2b1-f5ece190da0b"
      },
      "outputs": [
        {
          "output_type": "execute_result",
          "data": {
            "text/plain": [
              "<folium.plugins.heat_map.HeatMap at 0x7f0d95186b50>"
            ]
          },
          "metadata": {},
          "execution_count": 65
        }
      ],
      "source": [
        "from folium.plugins import HeatMap\n",
        "HeatMap(heatM, min_opacity=0, blur = 40,gradient = {0.2: 'red', 0.4: 'lime', 0.6: 'blue'}).add_to(m)"
      ]
    },
    {
      "cell_type": "code",
      "execution_count": 66,
      "metadata": {
        "id": "1YJvzf9bXnOC"
      },
      "outputs": [],
      "source": [
        "m.save('/content/map.html')\n",
        "m.save('/content/drive/MyDrive/IA Trabalho 2/map.html')"
      ]
    }
  ],
  "metadata": {
    "accelerator": "GPU",
    "colab": {
      "provenance": []
    },
    "gpuClass": "standard",
    "kernelspec": {
      "display_name": "Python 3",
      "name": "python3"
    },
    "language_info": {
      "name": "python"
    }
  },
  "nbformat": 4,
  "nbformat_minor": 0
}