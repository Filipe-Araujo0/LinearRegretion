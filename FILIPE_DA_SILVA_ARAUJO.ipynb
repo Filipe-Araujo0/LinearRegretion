{
  "cells": [
    {
      "cell_type": "code",
      "execution_count": null,
      "metadata": {
        "colab": {
          "base_uri": "https://localhost:8080/"
        },
        "id": "hZgrvA07fChA",
        "outputId": "d388f41d-a251-40a3-f7d8-3bf5816e0113"
      },
      "outputs": [
        {
          "output_type": "stream",
          "name": "stdout",
          "text": [
            "Drive already mounted at /content/drive; to attempt to forcibly remount, call drive.mount(\"/content/drive\", force_remount=True).\n"
          ]
        }
      ],
      "source": [
        "import pandas as pd\n",
        "import numpy as np\n",
        "from google.colab import drive\n",
        "drive.mount('/content/drive')\n",
        "\n",
        "data = pd.read_csv('/content/drive/MyDrive/kc_house_data.csv')"
      ]
    },
    {
      "cell_type": "code",
      "execution_count": null,
      "metadata": {
        "id": "W9EnkOf9C3ME",
        "colab": {
          "base_uri": "https://localhost:8080/"
        },
        "outputId": "1fb9fcad-5463-4c0a-aa37-2cc38157cf3c"
      },
      "outputs": [
        {
          "output_type": "execute_result",
          "data": {
            "text/plain": [
              "(21613, 21)"
            ]
          },
          "metadata": {},
          "execution_count": 2
        },
        {
          "output_type": "execute_result",
          "data": {
            "text/plain": [
              "(21611, 19)"
            ]
          },
          "metadata": {},
          "execution_count": 46
        }
      ],
      "source": [
        "data.shape"
      ]
    },
    {
      "cell_type": "code",
      "execution_count": null,
      "metadata": {
        "id": "FzUNompYjJEZ",
        "colab": {
          "base_uri": "https://localhost:8080/",
          "height": 546
        },
        "outputId": "46cf2aba-a321-4f55-a67e-b68977450f10"
      },
      "outputs": [
        {
          "output_type": "execute_result",
          "data": {
            "text/plain": [
              "id               0\n",
              "date             0\n",
              "price            0\n",
              "bedrooms         0\n",
              "bathrooms        0\n",
              "sqft_living      0\n",
              "sqft_lot         0\n",
              "floors           0\n",
              "waterfront       0\n",
              "view             0\n",
              "condition        0\n",
              "grade            0\n",
              "sqft_above       2\n",
              "sqft_basement    0\n",
              "yr_built         0\n",
              "yr_renovated     0\n",
              "zipcode          0\n",
              "lat              0\n",
              "long             0\n",
              "sqft_living15    0\n",
              "sqft_lot15       0\n",
              "dtype: int64"
            ]
          },
          "metadata": {},
          "execution_count": 3
        },
        {
          "output_type": "error",
          "ename": "AttributeError",
          "evalue": "ignored",
          "traceback": [
            "\u001b[0;31m---------------------------------------------------------------------------\u001b[0m",
            "\u001b[0;31mAttributeError\u001b[0m                            Traceback (most recent call last)",
            "\u001b[0;32m<ipython-input-47-2962204f287d>\u001b[0m in \u001b[0;36m<cell line: 1>\u001b[0;34m()\u001b[0m\n\u001b[0;32m----> 1\u001b[0;31m \u001b[0mdata\u001b[0m\u001b[0;34m.\u001b[0m\u001b[0misnull\u001b[0m\u001b[0;34m(\u001b[0m\u001b[0;34m)\u001b[0m\u001b[0;34m.\u001b[0m\u001b[0msum\u001b[0m\u001b[0;34m(\u001b[0m\u001b[0;34m)\u001b[0m\u001b[0;34m\u001b[0m\u001b[0;34m\u001b[0m\u001b[0m\n\u001b[0m",
            "\u001b[0;31mAttributeError\u001b[0m: 'numpy.ndarray' object has no attribute 'isnull'"
          ]
        }
      ],
      "source": [
        "data.isnull().sum()"
      ]
    },
    {
      "cell_type": "code",
      "execution_count": null,
      "metadata": {
        "id": "ZZw9BS4QjJu_",
        "colab": {
          "base_uri": "https://localhost:8080/"
        },
        "outputId": "03d1e0fb-7eb8-48e2-ddd8-6084785396b8"
      },
      "outputs": [
        {
          "output_type": "execute_result",
          "data": {
            "text/plain": [
              "(array([10, 17]),)"
            ]
          },
          "metadata": {},
          "execution_count": 4
        }
      ],
      "source": [
        "np.where(data['sqft_above'].isnull().values==True)"
      ]
    },
    {
      "cell_type": "code",
      "execution_count": null,
      "metadata": {
        "id": "-xZuwbxCjOnF"
      },
      "outputs": [],
      "source": [
        "data = data.drop([10, 17])\n",
        "data = data.reset_index(drop=True)"
      ]
    },
    {
      "cell_type": "code",
      "execution_count": null,
      "metadata": {
        "id": "ztUjkBLSkEv0",
        "colab": {
          "base_uri": "https://localhost:8080/"
        },
        "outputId": "a763c83c-7d35-4c47-c829-f3cd3fd3df22"
      },
      "outputs": [
        {
          "output_type": "execute_result",
          "data": {
            "text/plain": [
              "(21611, 21)"
            ]
          },
          "metadata": {},
          "execution_count": 6
        }
      ],
      "source": [
        "data.shape"
      ]
    },
    {
      "cell_type": "code",
      "execution_count": null,
      "metadata": {
        "id": "JDhtpm9V0jnX"
      },
      "outputs": [],
      "source": [
        "data = data.sample(frac=1, random_state = 42).reset_index(drop=True)\n",
        "dataRaw = data.copy()"
      ]
    },
    {
      "cell_type": "code",
      "execution_count": null,
      "metadata": {
        "id": "LS61p6uTiL32",
        "colab": {
          "base_uri": "https://localhost:8080/"
        },
        "outputId": "b99afd39-788c-4687-b683-381959856361"
      },
      "outputs": [
        {
          "output_type": "execute_result",
          "data": {
            "text/plain": [
              "Index(['id', 'date', 'price', 'bedrooms', 'bathrooms', 'sqft_living',\n",
              "       'sqft_lot', 'floors', 'waterfront', 'view', 'condition', 'grade',\n",
              "       'sqft_above', 'sqft_basement', 'yr_built', 'yr_renovated', 'zipcode',\n",
              "       'lat', 'long', 'sqft_living15', 'sqft_lot15'],\n",
              "      dtype='object')"
            ]
          },
          "metadata": {},
          "execution_count": 8
        }
      ],
      "source": [
        "data.columns"
      ]
    },
    {
      "cell_type": "code",
      "execution_count": null,
      "metadata": {
        "id": "eqv3zlmiieeG"
      },
      "outputs": [],
      "source": [
        "data = data.drop(['id', 'date'], axis=1)"
      ]
    },
    {
      "cell_type": "code",
      "execution_count": null,
      "metadata": {
        "id": "V6FxrDMHiuBd",
        "colab": {
          "base_uri": "https://localhost:8080/"
        },
        "outputId": "6f773db1-e745-400c-a8c8-7a7db72776f5"
      },
      "outputs": [
        {
          "output_type": "execute_result",
          "data": {
            "text/plain": [
              "Index(['price', 'bedrooms', 'bathrooms', 'sqft_living', 'sqft_lot', 'floors',\n",
              "       'waterfront', 'view', 'condition', 'grade', 'sqft_above',\n",
              "       'sqft_basement', 'yr_built', 'yr_renovated', 'zipcode', 'lat', 'long',\n",
              "       'sqft_living15', 'sqft_lot15'],\n",
              "      dtype='object')"
            ]
          },
          "metadata": {},
          "execution_count": 10
        }
      ],
      "source": [
        "data.columns"
      ]
    },
    {
      "cell_type": "code",
      "execution_count": null,
      "metadata": {
        "id": "j-BhP1UyizVJ",
        "colab": {
          "base_uri": "https://localhost:8080/",
          "height": 270
        },
        "outputId": "1b19d821-7754-4495-ab9a-dad1c52c60c2"
      },
      "outputs": [
        {
          "output_type": "execute_result",
          "data": {
            "text/plain": [
              "      price  bedrooms  bathrooms  sqft_living  sqft_lot  floors  waterfront  \\\n",
              "0  570000.0         4       2.50         2640     11816     2.0           0   \n",
              "1  720001.0         3       2.50         1430      2200     1.5           0   \n",
              "2  267000.0         3       2.00         1390      6005     2.0           0   \n",
              "3  320000.0         3       3.25         1450      1387     2.0           0   \n",
              "4  397000.0         4       1.75         2020      6000     1.0           0   \n",
              "\n",
              "   view  condition  grade  sqft_above  sqft_basement  yr_built  yr_renovated  \\\n",
              "0     0          3      8      2640.0              0      1999             0   \n",
              "1     0          4      7      1430.0              0      1910             0   \n",
              "2     0          3      8      1390.0              0      2005             0   \n",
              "3     0          3      8      1180.0            270      2013             0   \n",
              "4     0          3      7      1620.0            400      1959             0   \n",
              "\n",
              "   zipcode      lat     long  sqft_living15  sqft_lot15  \n",
              "0    98019  47.7330 -121.968           2400       11816  \n",
              "1    98103  47.6601 -122.331           1740        4275  \n",
              "2    98022  47.2117 -121.990           1264        5550  \n",
              "3    98106  47.5556 -122.362           1450        1198  \n",
              "4    98144  47.5770 -122.302           1870        4000  "
            ],
            "text/html": [
              "\n",
              "  <div id=\"df-177fa374-3c80-4a18-98d0-f50fe4a5ad56\">\n",
              "    <div class=\"colab-df-container\">\n",
              "      <div>\n",
              "<style scoped>\n",
              "    .dataframe tbody tr th:only-of-type {\n",
              "        vertical-align: middle;\n",
              "    }\n",
              "\n",
              "    .dataframe tbody tr th {\n",
              "        vertical-align: top;\n",
              "    }\n",
              "\n",
              "    .dataframe thead th {\n",
              "        text-align: right;\n",
              "    }\n",
              "</style>\n",
              "<table border=\"1\" class=\"dataframe\">\n",
              "  <thead>\n",
              "    <tr style=\"text-align: right;\">\n",
              "      <th></th>\n",
              "      <th>price</th>\n",
              "      <th>bedrooms</th>\n",
              "      <th>bathrooms</th>\n",
              "      <th>sqft_living</th>\n",
              "      <th>sqft_lot</th>\n",
              "      <th>floors</th>\n",
              "      <th>waterfront</th>\n",
              "      <th>view</th>\n",
              "      <th>condition</th>\n",
              "      <th>grade</th>\n",
              "      <th>sqft_above</th>\n",
              "      <th>sqft_basement</th>\n",
              "      <th>yr_built</th>\n",
              "      <th>yr_renovated</th>\n",
              "      <th>zipcode</th>\n",
              "      <th>lat</th>\n",
              "      <th>long</th>\n",
              "      <th>sqft_living15</th>\n",
              "      <th>sqft_lot15</th>\n",
              "    </tr>\n",
              "  </thead>\n",
              "  <tbody>\n",
              "    <tr>\n",
              "      <th>0</th>\n",
              "      <td>570000.0</td>\n",
              "      <td>4</td>\n",
              "      <td>2.50</td>\n",
              "      <td>2640</td>\n",
              "      <td>11816</td>\n",
              "      <td>2.0</td>\n",
              "      <td>0</td>\n",
              "      <td>0</td>\n",
              "      <td>3</td>\n",
              "      <td>8</td>\n",
              "      <td>2640.0</td>\n",
              "      <td>0</td>\n",
              "      <td>1999</td>\n",
              "      <td>0</td>\n",
              "      <td>98019</td>\n",
              "      <td>47.7330</td>\n",
              "      <td>-121.968</td>\n",
              "      <td>2400</td>\n",
              "      <td>11816</td>\n",
              "    </tr>\n",
              "    <tr>\n",
              "      <th>1</th>\n",
              "      <td>720001.0</td>\n",
              "      <td>3</td>\n",
              "      <td>2.50</td>\n",
              "      <td>1430</td>\n",
              "      <td>2200</td>\n",
              "      <td>1.5</td>\n",
              "      <td>0</td>\n",
              "      <td>0</td>\n",
              "      <td>4</td>\n",
              "      <td>7</td>\n",
              "      <td>1430.0</td>\n",
              "      <td>0</td>\n",
              "      <td>1910</td>\n",
              "      <td>0</td>\n",
              "      <td>98103</td>\n",
              "      <td>47.6601</td>\n",
              "      <td>-122.331</td>\n",
              "      <td>1740</td>\n",
              "      <td>4275</td>\n",
              "    </tr>\n",
              "    <tr>\n",
              "      <th>2</th>\n",
              "      <td>267000.0</td>\n",
              "      <td>3</td>\n",
              "      <td>2.00</td>\n",
              "      <td>1390</td>\n",
              "      <td>6005</td>\n",
              "      <td>2.0</td>\n",
              "      <td>0</td>\n",
              "      <td>0</td>\n",
              "      <td>3</td>\n",
              "      <td>8</td>\n",
              "      <td>1390.0</td>\n",
              "      <td>0</td>\n",
              "      <td>2005</td>\n",
              "      <td>0</td>\n",
              "      <td>98022</td>\n",
              "      <td>47.2117</td>\n",
              "      <td>-121.990</td>\n",
              "      <td>1264</td>\n",
              "      <td>5550</td>\n",
              "    </tr>\n",
              "    <tr>\n",
              "      <th>3</th>\n",
              "      <td>320000.0</td>\n",
              "      <td>3</td>\n",
              "      <td>3.25</td>\n",
              "      <td>1450</td>\n",
              "      <td>1387</td>\n",
              "      <td>2.0</td>\n",
              "      <td>0</td>\n",
              "      <td>0</td>\n",
              "      <td>3</td>\n",
              "      <td>8</td>\n",
              "      <td>1180.0</td>\n",
              "      <td>270</td>\n",
              "      <td>2013</td>\n",
              "      <td>0</td>\n",
              "      <td>98106</td>\n",
              "      <td>47.5556</td>\n",
              "      <td>-122.362</td>\n",
              "      <td>1450</td>\n",
              "      <td>1198</td>\n",
              "    </tr>\n",
              "    <tr>\n",
              "      <th>4</th>\n",
              "      <td>397000.0</td>\n",
              "      <td>4</td>\n",
              "      <td>1.75</td>\n",
              "      <td>2020</td>\n",
              "      <td>6000</td>\n",
              "      <td>1.0</td>\n",
              "      <td>0</td>\n",
              "      <td>0</td>\n",
              "      <td>3</td>\n",
              "      <td>7</td>\n",
              "      <td>1620.0</td>\n",
              "      <td>400</td>\n",
              "      <td>1959</td>\n",
              "      <td>0</td>\n",
              "      <td>98144</td>\n",
              "      <td>47.5770</td>\n",
              "      <td>-122.302</td>\n",
              "      <td>1870</td>\n",
              "      <td>4000</td>\n",
              "    </tr>\n",
              "  </tbody>\n",
              "</table>\n",
              "</div>\n",
              "      <button class=\"colab-df-convert\" onclick=\"convertToInteractive('df-177fa374-3c80-4a18-98d0-f50fe4a5ad56')\"\n",
              "              title=\"Convert this dataframe to an interactive table.\"\n",
              "              style=\"display:none;\">\n",
              "        \n",
              "  <svg xmlns=\"http://www.w3.org/2000/svg\" height=\"24px\"viewBox=\"0 0 24 24\"\n",
              "       width=\"24px\">\n",
              "    <path d=\"M0 0h24v24H0V0z\" fill=\"none\"/>\n",
              "    <path d=\"M18.56 5.44l.94 2.06.94-2.06 2.06-.94-2.06-.94-.94-2.06-.94 2.06-2.06.94zm-11 1L8.5 8.5l.94-2.06 2.06-.94-2.06-.94L8.5 2.5l-.94 2.06-2.06.94zm10 10l.94 2.06.94-2.06 2.06-.94-2.06-.94-.94-2.06-.94 2.06-2.06.94z\"/><path d=\"M17.41 7.96l-1.37-1.37c-.4-.4-.92-.59-1.43-.59-.52 0-1.04.2-1.43.59L10.3 9.45l-7.72 7.72c-.78.78-.78 2.05 0 2.83L4 21.41c.39.39.9.59 1.41.59.51 0 1.02-.2 1.41-.59l7.78-7.78 2.81-2.81c.8-.78.8-2.07 0-2.86zM5.41 20L4 18.59l7.72-7.72 1.47 1.35L5.41 20z\"/>\n",
              "  </svg>\n",
              "      </button>\n",
              "      \n",
              "  <style>\n",
              "    .colab-df-container {\n",
              "      display:flex;\n",
              "      flex-wrap:wrap;\n",
              "      gap: 12px;\n",
              "    }\n",
              "\n",
              "    .colab-df-convert {\n",
              "      background-color: #E8F0FE;\n",
              "      border: none;\n",
              "      border-radius: 50%;\n",
              "      cursor: pointer;\n",
              "      display: none;\n",
              "      fill: #1967D2;\n",
              "      height: 32px;\n",
              "      padding: 0 0 0 0;\n",
              "      width: 32px;\n",
              "    }\n",
              "\n",
              "    .colab-df-convert:hover {\n",
              "      background-color: #E2EBFA;\n",
              "      box-shadow: 0px 1px 2px rgba(60, 64, 67, 0.3), 0px 1px 3px 1px rgba(60, 64, 67, 0.15);\n",
              "      fill: #174EA6;\n",
              "    }\n",
              "\n",
              "    [theme=dark] .colab-df-convert {\n",
              "      background-color: #3B4455;\n",
              "      fill: #D2E3FC;\n",
              "    }\n",
              "\n",
              "    [theme=dark] .colab-df-convert:hover {\n",
              "      background-color: #434B5C;\n",
              "      box-shadow: 0px 1px 3px 1px rgba(0, 0, 0, 0.15);\n",
              "      filter: drop-shadow(0px 1px 2px rgba(0, 0, 0, 0.3));\n",
              "      fill: #FFFFFF;\n",
              "    }\n",
              "  </style>\n",
              "\n",
              "      <script>\n",
              "        const buttonEl =\n",
              "          document.querySelector('#df-177fa374-3c80-4a18-98d0-f50fe4a5ad56 button.colab-df-convert');\n",
              "        buttonEl.style.display =\n",
              "          google.colab.kernel.accessAllowed ? 'block' : 'none';\n",
              "\n",
              "        async function convertToInteractive(key) {\n",
              "          const element = document.querySelector('#df-177fa374-3c80-4a18-98d0-f50fe4a5ad56');\n",
              "          const dataTable =\n",
              "            await google.colab.kernel.invokeFunction('convertToInteractive',\n",
              "                                                     [key], {});\n",
              "          if (!dataTable) return;\n",
              "\n",
              "          const docLinkHtml = 'Like what you see? Visit the ' +\n",
              "            '<a target=\"_blank\" href=https://colab.research.google.com/notebooks/data_table.ipynb>data table notebook</a>'\n",
              "            + ' to learn more about interactive tables.';\n",
              "          element.innerHTML = '';\n",
              "          dataTable['output_type'] = 'display_data';\n",
              "          await google.colab.output.renderOutput(dataTable, element);\n",
              "          const docLink = document.createElement('div');\n",
              "          docLink.innerHTML = docLinkHtml;\n",
              "          element.appendChild(docLink);\n",
              "        }\n",
              "      </script>\n",
              "    </div>\n",
              "  </div>\n",
              "  "
            ]
          },
          "metadata": {},
          "execution_count": 11
        }
      ],
      "source": [
        "data.head()"
      ]
    },
    {
      "cell_type": "code",
      "execution_count": null,
      "metadata": {
        "id": "8-JchfHY9FsT",
        "colab": {
          "base_uri": "https://localhost:8080/"
        },
        "outputId": "589fe605-564d-4f3f-bb43-ed21026f770b"
      },
      "outputs": [
        {
          "output_type": "execute_result",
          "data": {
            "text/plain": [
              "pandas.core.frame.DataFrame"
            ]
          },
          "metadata": {},
          "execution_count": 12
        }
      ],
      "source": [
        "type(data)"
      ]
    },
    {
      "cell_type": "code",
      "execution_count": null,
      "metadata": {
        "id": "gin5byxIvl4t"
      },
      "outputs": [],
      "source": [
        "X = data.drop('price', axis=1)\n",
        "y = data['price']"
      ]
    },
    {
      "cell_type": "code",
      "execution_count": null,
      "metadata": {
        "id": "o7WkMStuvW46"
      },
      "outputs": [],
      "source": [
        "data = data.values"
      ]
    },
    {
      "cell_type": "code",
      "execution_count": null,
      "metadata": {
        "id": "sYguTjQivhMf",
        "colab": {
          "base_uri": "https://localhost:8080/"
        },
        "outputId": "c6ad66a6-340a-426d-cc6e-58ba025db4dc"
      },
      "outputs": [
        {
          "output_type": "execute_result",
          "data": {
            "text/plain": [
              "numpy.ndarray"
            ]
          },
          "metadata": {},
          "execution_count": 15
        }
      ],
      "source": [
        "type(data)"
      ]
    },
    {
      "cell_type": "code",
      "execution_count": null,
      "metadata": {
        "id": "JGTBvp1zzOk4",
        "colab": {
          "base_uri": "https://localhost:8080/"
        },
        "outputId": "195286f0-bfd2-4547-d5b6-c46203b96c3f"
      },
      "outputs": [
        {
          "output_type": "stream",
          "name": "stderr",
          "text": [
            "/usr/local/lib/python3.9/dist-packages/numpy/core/fromnumeric.py:3472: FutureWarning: In a future version, DataFrame.mean(axis=None) will return a scalar mean over the entire DataFrame. To retain the old behavior, use 'frame.mean(axis=0)' or just 'frame.mean()'\n",
            "  return mean(axis=axis, dtype=dtype, out=out, **kwargs)\n"
          ]
        }
      ],
      "source": [
        "#normalizando os dados de entrada\n",
        "xdp = np.std(X)\n",
        "xm = np.mean(X)\n",
        "X = (X-xm)/xdp"
      ]
    },
    {
      "cell_type": "code",
      "execution_count": null,
      "metadata": {
        "id": "QUly0_ex9F4c"
      },
      "outputs": [],
      "source": []
    },
    {
      "cell_type": "code",
      "execution_count": null,
      "metadata": {
        "id": "rrTojdmKA49x",
        "colab": {
          "base_uri": "https://localhost:8080/"
        },
        "outputId": "00e00a64-0f95-4196-c5ba-c61ec3f8c93a"
      },
      "outputs": [
        {
          "output_type": "stream",
          "name": "stdout",
          "text": [
            "Looking in indexes: https://pypi.org/simple, https://us-python.pkg.dev/colab-wheels/public/simple/\n",
            "Requirement already satisfied: torchmetrics in /usr/local/lib/python3.9/dist-packages (0.11.4)\n",
            "Requirement already satisfied: packaging in /usr/local/lib/python3.9/dist-packages (from torchmetrics) (23.0)\n",
            "Requirement already satisfied: numpy>=1.17.2 in /usr/local/lib/python3.9/dist-packages (from torchmetrics) (1.22.4)\n",
            "Requirement already satisfied: torch>=1.8.1 in /usr/local/lib/python3.9/dist-packages (from torchmetrics) (2.0.0+cu118)\n",
            "Requirement already satisfied: triton==2.0.0 in /usr/local/lib/python3.9/dist-packages (from torch>=1.8.1->torchmetrics) (2.0.0)\n",
            "Requirement already satisfied: sympy in /usr/local/lib/python3.9/dist-packages (from torch>=1.8.1->torchmetrics) (1.11.1)\n",
            "Requirement already satisfied: filelock in /usr/local/lib/python3.9/dist-packages (from torch>=1.8.1->torchmetrics) (3.11.0)\n",
            "Requirement already satisfied: typing-extensions in /usr/local/lib/python3.9/dist-packages (from torch>=1.8.1->torchmetrics) (4.5.0)\n",
            "Requirement already satisfied: networkx in /usr/local/lib/python3.9/dist-packages (from torch>=1.8.1->torchmetrics) (3.1)\n",
            "Requirement already satisfied: jinja2 in /usr/local/lib/python3.9/dist-packages (from torch>=1.8.1->torchmetrics) (3.1.2)\n",
            "Requirement already satisfied: lit in /usr/local/lib/python3.9/dist-packages (from triton==2.0.0->torch>=1.8.1->torchmetrics) (16.0.1)\n",
            "Requirement already satisfied: cmake in /usr/local/lib/python3.9/dist-packages (from triton==2.0.0->torch>=1.8.1->torchmetrics) (3.25.2)\n",
            "Requirement already satisfied: MarkupSafe>=2.0 in /usr/local/lib/python3.9/dist-packages (from jinja2->torch>=1.8.1->torchmetrics) (2.1.2)\n",
            "Requirement already satisfied: mpmath>=0.19 in /usr/local/lib/python3.9/dist-packages (from sympy->torch>=1.8.1->torchmetrics) (1.3.0)\n"
          ]
        }
      ],
      "source": [
        "!pip install torchmetrics"
      ]
    },
    {
      "cell_type": "code",
      "execution_count": null,
      "metadata": {
        "id": "DWKaPXER4Kk3"
      },
      "outputs": [],
      "source": [
        "import torch   \n",
        "from torch import Tensor             \n",
        "import torch.nn as nn                    \n",
        "import torch.optim as optim\n",
        "from torchmetrics import MeanAbsolutePercentageError\n",
        "from sklearn.model_selection import KFold"
      ]
    },
    {
      "cell_type": "code",
      "execution_count": null,
      "metadata": {
        "id": "XxRzhIFW9paz",
        "colab": {
          "base_uri": "https://localhost:8080/"
        },
        "outputId": "f7b1bda5-05ec-4d05-b4cd-d90ccb849969"
      },
      "outputs": [
        {
          "output_type": "stream",
          "name": "stdout",
          "text": [
            "Fold 0:\n",
            "  Train: index=[ 4323  4324  4325 ... 21608 21609 21610]\n",
            "  Test:  index=[   0    1    2 ... 4320 4321 4322]\n",
            "Fold 1:\n",
            "  Train: index=[    0     1     2 ... 21608 21609 21610]\n",
            "  Test:  index=[4323 4324 4325 ... 8642 8643 8644]\n",
            "Fold 2:\n",
            "  Train: index=[    0     1     2 ... 21608 21609 21610]\n",
            "  Test:  index=[ 8645  8646  8647 ... 12964 12965 12966]\n",
            "Fold 3:\n",
            "  Train: index=[    0     1     2 ... 21608 21609 21610]\n",
            "  Test:  index=[12967 12968 12969 ... 17286 17287 17288]\n",
            "Fold 4:\n",
            "  Train: index=[    0     1     2 ... 17286 17287 17288]\n",
            "  Test:  index=[17289 17290 17291 ... 21608 21609 21610]\n"
          ]
        }
      ],
      "source": [
        "for i, (train_index, test_index) in enumerate(KFold().split(X, y)):\n",
        "    print(f\"Fold {i}:\")\n",
        "    print(f\"  Train: index={train_index}\")\n",
        "    print(f\"  Test:  index={test_index}\")"
      ]
    },
    {
      "cell_type": "code",
      "execution_count": null,
      "metadata": {
        "id": "UGwQBwwtAfyt",
        "colab": {
          "base_uri": "https://localhost:8080/"
        },
        "outputId": "d13c23be-0f46-463f-ff9f-a35eca17791b"
      },
      "outputs": [
        {
          "output_type": "stream",
          "name": "stdout",
          "text": [
            "Using cuda device\n",
            "Sequential(\n",
            "  (0): Linear(in_features=18, out_features=18, bias=True)\n",
            "  (1): ReLU()\n",
            "  (2): Linear(in_features=18, out_features=18, bias=True)\n",
            "  (3): ReLU()\n",
            "  (4): Linear(in_features=18, out_features=10, bias=True)\n",
            "  (5): ReLU()\n",
            "  (6): Linear(in_features=10, out_features=5, bias=True)\n",
            "  (7): ReLU()\n",
            "  (8): Linear(in_features=5, out_features=1, bias=True)\n",
            ")\n"
          ]
        }
      ],
      "source": [
        "device = (\n",
        "    \"cuda\"\n",
        "    if torch.cuda.is_available()\n",
        "    else \"mps\"\n",
        "    if torch.backends.mps.is_available()\n",
        "    else \"cpu\"\n",
        ")\n",
        "print(f\"Using {device} device\")\n",
        "\n",
        "def reset_weights(m):\n",
        "    if isinstance(m, nn.Conv2d) or isinstance(m, nn.Linear):\n",
        "        m.reset_parameters()\n",
        "\n",
        "model = torch.nn.Sequential(\n",
        "    torch.nn.Linear(18, 18),\n",
        "    nn.ReLU(),\n",
        "    torch.nn.Linear(18, 18),\n",
        "    nn.ReLU(),\n",
        "    torch.nn.Linear(18, 10),\n",
        "    nn.ReLU(),\n",
        "    torch.nn.Linear(10, 5),\n",
        "    nn.ReLU(),\n",
        "    torch.nn.Linear(5, 1),\n",
        ").to(device)\n",
        "print(model)\n",
        "\n",
        "loss_fn = MeanAbsolutePercentageError().to(device)\n",
        "optimizer = optim.AdamW(model.parameters())\n"
      ]
    },
    {
      "cell_type": "code",
      "execution_count": null,
      "metadata": {
        "id": "79g7LiIpDb5W",
        "colab": {
          "base_uri": "https://localhost:8080/"
        },
        "outputId": "d3d3bfae-5d03-4291-8f84-d4513280ee32"
      },
      "outputs": [
        {
          "output_type": "stream",
          "name": "stdout",
          "text": [
            "Fold 0, Epoch 0, Loss: 1.000001072883606\n",
            "Fold 0, Epoch 100, Loss: 1.0000008344650269\n",
            "Fold 0, Epoch 200, Loss: 1.0000004768371582\n",
            "Fold 0, Epoch 300, Loss: 0.9999993443489075\n",
            "Fold 0, Epoch 400, Loss: 0.9996474981307983\n",
            "Fold 0, Epoch 500, Loss: 0.9909447431564331\n",
            "Fold 0, Epoch 600, Loss: 0.9439828991889954\n",
            "Fold 0, Epoch 700, Loss: 0.8197596073150635\n",
            "Fold 0, Epoch 800, Loss: 0.7222419381141663\n",
            "Fold 0, Epoch 900, Loss: 0.6827275156974792\n",
            "Fold 0, Epoch 1000, Loss: 0.6417009234428406\n",
            "Fold 0, Epoch 1100, Loss: 0.58783358335495\n",
            "Fold 0, Epoch 1200, Loss: 0.5209431648254395\n",
            "Fold 0, Epoch 1300, Loss: 0.46543383598327637\n",
            "Fold 0, Epoch 1400, Loss: 0.42531415820121765\n",
            "Fold 0, Epoch 1500, Loss: 0.3941601812839508\n",
            "Fold 0, Epoch 1600, Loss: 0.366058349609375\n",
            "Fold 0, Epoch 1700, Loss: 0.3399919271469116\n",
            "Fold 0, Epoch 1800, Loss: 0.31511083245277405\n",
            "Fold 0, Epoch 1900, Loss: 0.29206109046936035\n",
            "Fold 0, Epoch 2000, Loss: 0.2720019817352295\n",
            "Fold 0, Epoch 2100, Loss: 0.2557361125946045\n",
            "Fold 0, Epoch 2200, Loss: 0.24313901364803314\n",
            "Fold 0, Epoch 2300, Loss: 0.23344364762306213\n",
            "Fold 0, Epoch 2400, Loss: 0.22564083337783813\n",
            "Fold 0, Epoch 2500, Loss: 0.21961413323879242\n",
            "Fold 0, Epoch 2600, Loss: 0.21509134769439697\n",
            "Fold 0, Epoch 2700, Loss: 0.2114979326725006\n",
            "Fold 0, Epoch 2800, Loss: 0.2084435224533081\n",
            "Fold 0, Epoch 2900, Loss: 0.2057606428861618\n",
            "Fold 0, Epoch 3000, Loss: 0.2033405601978302\n",
            "Fold 0, Epoch 3100, Loss: 0.2011336237192154\n",
            "Fold 0, Epoch 3200, Loss: 0.19919414818286896\n",
            "Fold 0, Epoch 3300, Loss: 0.1975092589855194\n",
            "Fold 0, Epoch 3400, Loss: 0.19600029289722443\n",
            "Fold 0, Epoch 3500, Loss: 0.194626122713089\n",
            "Fold 0, Epoch 3600, Loss: 0.19332535564899445\n",
            "Fold 0, Epoch 3700, Loss: 0.1920923888683319\n",
            "Fold 0, Epoch 3800, Loss: 0.19092530012130737\n",
            "Fold 0, Epoch 3900, Loss: 0.18980491161346436\n",
            "Fold 0, Epoch 4000, Loss: 0.1887492537498474\n",
            "Fold 0, Epoch 4100, Loss: 0.1877824068069458\n",
            "Fold 0, Epoch 4200, Loss: 0.18687216937541962\n",
            "Fold 0, Epoch 4300, Loss: 0.1859845221042633\n",
            "Fold 0, Epoch 4400, Loss: 0.18514563143253326\n",
            "Fold 0, Epoch 4500, Loss: 0.1843385398387909\n",
            "Fold 0, Epoch 4600, Loss: 0.18359492719173431\n",
            "Fold 0, Epoch 4700, Loss: 0.18288932740688324\n",
            "Fold 0, Epoch 4800, Loss: 0.18218207359313965\n",
            "Fold 0, Epoch 4900, Loss: 0.18146614730358124\n",
            "Fold 0, Epoch 5000, Loss: 0.18078501522541046\n",
            "Fold 0, Epoch 5100, Loss: 0.18010807037353516\n",
            "Fold 0, Epoch 5200, Loss: 0.17942741513252258\n",
            "Fold 0, Epoch 5300, Loss: 0.1787663698196411\n",
            "Fold 0, Epoch 5400, Loss: 0.17811985313892365\n",
            "Fold 0, Epoch 5500, Loss: 0.17747357487678528\n",
            "Fold 0, Epoch 5600, Loss: 0.17686975002288818\n",
            "Fold 0, Epoch 5700, Loss: 0.17632193863391876\n",
            "Fold 0, Epoch 5800, Loss: 0.1758221685886383\n",
            "Fold 0, Epoch 5900, Loss: 0.17536723613739014\n",
            "Fold 0, Epoch 6000, Loss: 0.17492829263210297\n",
            "Fold 0, Epoch 6100, Loss: 0.17451509833335876\n",
            "Fold 0, Epoch 6200, Loss: 0.17410777509212494\n",
            "Fold 0, Epoch 6300, Loss: 0.17373913526535034\n",
            "Fold 0, Epoch 6400, Loss: 0.17339198291301727\n",
            "Fold 0, Epoch 6500, Loss: 0.17305772006511688\n",
            "Fold 0, Epoch 6600, Loss: 0.17270098626613617\n",
            "Fold 0, Epoch 6700, Loss: 0.17237570881843567\n",
            "Fold 0, Epoch 6800, Loss: 0.17204399406909943\n",
            "Fold 0, Epoch 6900, Loss: 0.17167532444000244\n",
            "Fold 0, Epoch 7000, Loss: 0.17129670083522797\n",
            "Fold 0, Epoch 7100, Loss: 0.1708870828151703\n",
            "Fold 0, Epoch 7200, Loss: 0.17047564685344696\n",
            "Fold 0, Epoch 7300, Loss: 0.17002172768115997\n",
            "Fold 0, Epoch 7400, Loss: 0.1695520132780075\n",
            "Fold 0, Epoch 7500, Loss: 0.1691095530986786\n",
            "Fold 0, Epoch 7600, Loss: 0.16866633296012878\n",
            "Fold 0, Epoch 7700, Loss: 0.168227881193161\n",
            "Fold 0, Epoch 7800, Loss: 0.1677798330783844\n",
            "Fold 0, Epoch 7900, Loss: 0.16727349162101746\n",
            "Fold 0, Epoch 8000, Loss: 0.1667298525571823\n",
            "Fold 0, Epoch 8100, Loss: 0.16597846150398254\n",
            "Fold 0, Epoch 8200, Loss: 0.16456733644008636\n",
            "Fold 0, Epoch 8300, Loss: 0.162897989153862\n",
            "Fold 0, Epoch 8400, Loss: 0.1613236516714096\n",
            "Fold 0, Epoch 8500, Loss: 0.15974071621894836\n",
            "Fold 0, Epoch 8600, Loss: 0.15772414207458496\n",
            "Fold 0, Epoch 8700, Loss: 0.15500064194202423\n",
            "Fold 0, Epoch 8800, Loss: 0.15160304307937622\n",
            "Fold 0, Epoch 8900, Loss: 0.14876750111579895\n",
            "Fold 0, Epoch 9000, Loss: 0.1465446650981903\n",
            "Fold 0, Epoch 9100, Loss: 0.14456366002559662\n",
            "Fold 0, Epoch 9200, Loss: 0.14291676878929138\n",
            "Fold 0, Epoch 9300, Loss: 0.14139479398727417\n",
            "Fold 0, Epoch 9400, Loss: 0.14000435173511505\n",
            "Fold 0, Epoch 9500, Loss: 0.1387132853269577\n",
            "Fold 0, Epoch 9600, Loss: 0.1375783383846283\n",
            "Fold 0, Epoch 9700, Loss: 0.13663643598556519\n",
            "Fold 0, Epoch 9800, Loss: 0.13574722409248352\n",
            "Fold 0, Epoch 9900, Loss: 0.13496145606040955\n",
            "Fold 0, Epoch 10000, Loss: 0.1343332976102829\n",
            "Fold 0, Epoch 10100, Loss: 0.13376344740390778\n",
            "Fold 0, Epoch 10200, Loss: 0.13327409327030182\n",
            "Fold 0, Epoch 10300, Loss: 0.13276803493499756\n",
            "Fold 0, Epoch 10400, Loss: 0.13230378925800323\n",
            "Fold 0, Epoch 10500, Loss: 0.13188861310482025\n",
            "Fold 0, Epoch 10600, Loss: 0.13151200115680695\n",
            "Fold 0, Epoch 10700, Loss: 0.13110566139221191\n",
            "Fold 0, Epoch 10800, Loss: 0.13072258234024048\n",
            "Fold 0, Epoch 10900, Loss: 0.13042959570884705\n",
            "Fold 0, Epoch 11000, Loss: 0.13017964363098145\n",
            "Fold 0, Epoch 11100, Loss: 0.12997063994407654\n",
            "Fold 0, Epoch 11200, Loss: 0.12971709668636322\n",
            "Fold 0, Epoch 11300, Loss: 0.12946557998657227\n",
            "Fold 0, Epoch 11400, Loss: 0.12919797003269196\n",
            "Fold 0, Epoch 11500, Loss: 0.1288762241601944\n",
            "Fold 0, Epoch 11600, Loss: 0.12847889959812164\n",
            "Fold 0, Epoch 11700, Loss: 0.1282273828983307\n",
            "Fold 0, Epoch 11800, Loss: 0.12800127267837524\n",
            "Fold 0, Epoch 11900, Loss: 0.1277923583984375\n",
            "Fold 0, Epoch 12000, Loss: 0.1276177167892456\n",
            "Fold 0, Epoch 12100, Loss: 0.12747131288051605\n",
            "Fold 0, Epoch 12200, Loss: 0.12733329832553864\n",
            "Fold 0, Epoch 12300, Loss: 0.12718187272548676\n",
            "Fold 0, Epoch 12400, Loss: 0.12700191140174866\n",
            "Fold 0, Epoch 12500, Loss: 0.12682846188545227\n",
            "Fold 0, Epoch 12600, Loss: 0.1266838014125824\n",
            "Fold 0, Epoch 12700, Loss: 0.12654854357242584\n",
            "Fold 0, Epoch 12800, Loss: 0.1264093518257141\n",
            "Fold 0, Epoch 12900, Loss: 0.1262884885072708\n",
            "Fold 0, Epoch 13000, Loss: 0.12616343796253204\n",
            "Fold 0, Epoch 13100, Loss: 0.12603071331977844\n",
            "Fold 0, Epoch 13200, Loss: 0.12589113414287567\n",
            "Fold 0, Epoch 13300, Loss: 0.12577305734157562\n",
            "Fold 0, Epoch 13400, Loss: 0.12564502656459808\n",
            "Fold 0, Epoch 13500, Loss: 0.12546783685684204\n",
            "Fold 0, Epoch 13600, Loss: 0.12532339990139008\n",
            "Fold 0, Epoch 13700, Loss: 0.12521617114543915\n",
            "Fold 0, Epoch 13800, Loss: 0.12511897087097168\n",
            "Fold 0, Epoch 13900, Loss: 0.12504936754703522\n",
            "Fold 0, Epoch 14000, Loss: 0.12497346848249435\n",
            "Fold 0, Epoch 14100, Loss: 0.12488822638988495\n",
            "Fold 0, Epoch 14200, Loss: 0.12478891760110855\n",
            "Fold 0, Epoch 14300, Loss: 0.12467924505472183\n",
            "Fold 0, Epoch 14400, Loss: 0.12456770986318588\n",
            "Fold 0, Epoch 14500, Loss: 0.12446236610412598\n",
            "Fold 0, Epoch 14600, Loss: 0.12436623126268387\n",
            "Fold 0, Epoch 14700, Loss: 0.12428504973649979\n",
            "Fold 0, Epoch 14800, Loss: 0.1242063045501709\n",
            "Fold 0, Epoch 14900, Loss: 0.12411221861839294\n",
            "Fold 0, Epoch 15000, Loss: 0.12403921037912369\n",
            "Fold 0, Epoch 15100, Loss: 0.12397287040948868\n",
            "Fold 0, Epoch 15200, Loss: 0.12391267716884613\n",
            "Fold 0, Epoch 15300, Loss: 0.12385588139295578\n",
            "Fold 0, Epoch 15400, Loss: 0.1238032653927803\n",
            "Fold 0, Epoch 15500, Loss: 0.1237400695681572\n",
            "Fold 0, Epoch 15600, Loss: 0.12368667125701904\n",
            "Fold 0, Epoch 15700, Loss: 0.12363461405038834\n",
            "Fold 0, Epoch 15800, Loss: 0.12357544898986816\n",
            "Fold 0, Epoch 15900, Loss: 0.12351173162460327\n",
            "Fold 0, Epoch 16000, Loss: 0.1234593465924263\n",
            "Fold 0, Epoch 16100, Loss: 0.12340620905160904\n",
            "Fold 0, Epoch 16200, Loss: 0.12334299832582474\n",
            "Fold 0, Epoch 16300, Loss: 0.12327992916107178\n",
            "Fold 0, Epoch 16400, Loss: 0.12322625517845154\n",
            "Fold 0, Epoch 16500, Loss: 0.12318062782287598\n",
            "Fold 0, Epoch 16600, Loss: 0.1231376901268959\n",
            "Fold 0, Epoch 16700, Loss: 0.12309516966342926\n",
            "Fold 0, Epoch 16800, Loss: 0.12304659187793732\n",
            "Fold 0, Epoch 16900, Loss: 0.123001329600811\n",
            "Fold 0, Epoch 17000, Loss: 0.12295807898044586\n",
            "Fold 0, Epoch 17100, Loss: 0.12292198091745377\n",
            "Fold 0, Epoch 17200, Loss: 0.12288756668567657\n",
            "Fold 0, Epoch 17300, Loss: 0.12285572290420532\n",
            "Fold 0, Epoch 17400, Loss: 0.12281879037618637\n",
            "Fold 0, Epoch 17500, Loss: 0.12278551608324051\n",
            "Fold 0, Epoch 17600, Loss: 0.12275446206331253\n",
            "Fold 0, Epoch 17700, Loss: 0.12272567301988602\n",
            "Fold 0, Epoch 17800, Loss: 0.12268906831741333\n",
            "Fold 0, Epoch 17900, Loss: 0.12265847623348236\n",
            "Fold 0, Epoch 18000, Loss: 0.12262585759162903\n",
            "Fold 0, Epoch 18100, Loss: 0.12259110063314438\n",
            "Fold 0, Epoch 18200, Loss: 0.12255859375\n",
            "Fold 0, Epoch 18300, Loss: 0.12252183258533478\n",
            "Fold 0, Epoch 18400, Loss: 0.1224888488650322\n",
            "Fold 0, Epoch 18500, Loss: 0.12245573103427887\n",
            "Fold 0, Epoch 18600, Loss: 0.12242228537797928\n",
            "Fold 0, Epoch 18700, Loss: 0.12239089608192444\n",
            "Fold 0, Epoch 18800, Loss: 0.12236053496599197\n",
            "Fold 0, Epoch 18900, Loss: 0.1223301962018013\n",
            "Fold 0, Epoch 19000, Loss: 0.12229786068201065\n",
            "Fold 0, Epoch 19100, Loss: 0.12226759642362595\n",
            "Fold 0, Epoch 19200, Loss: 0.12224094569683075\n",
            "Fold 0, Epoch 19300, Loss: 0.12221616506576538\n",
            "Fold 0, Epoch 19400, Loss: 0.12219173461198807\n",
            "Fold 0, Epoch 19500, Loss: 0.12217032164335251\n",
            "Fold 0, Epoch 19600, Loss: 0.12214641273021698\n",
            "Fold 0, Epoch 19700, Loss: 0.12212653458118439\n",
            "Fold 0, Epoch 19800, Loss: 0.1221068874001503\n",
            "Fold 0, Epoch 19900, Loss: 0.12208700180053711\n",
            "Fold 0, Epoch 20000, Loss: 0.12206610292196274\n",
            "Fold 0, Epoch 20100, Loss: 0.1220468133687973\n",
            "Fold 0, Epoch 20200, Loss: 0.12202561646699905\n",
            "Fold 0, Epoch 20300, Loss: 0.12200199067592621\n",
            "Fold 0, Epoch 20400, Loss: 0.12197589129209518\n",
            "Fold 0, Epoch 20500, Loss: 0.12195234000682831\n",
            "Fold 0, Epoch 20600, Loss: 0.12193609774112701\n",
            "Fold 0, Epoch 20700, Loss: 0.12191122770309448\n",
            "Fold 0, Epoch 20800, Loss: 0.1218869686126709\n",
            "Fold 0, Epoch 20900, Loss: 0.1218583956360817\n",
            "Fold 0, Epoch 21000, Loss: 0.12183529138565063\n",
            "Fold 0, Epoch 21100, Loss: 0.121815524995327\n",
            "Fold 0, Epoch 21200, Loss: 0.12179660052061081\n",
            "Fold 0, Epoch 21300, Loss: 0.12177901715040207\n",
            "Fold 0, Epoch 21400, Loss: 0.12176142632961273\n",
            "Fold 0, Epoch 21500, Loss: 0.12174703180789948\n",
            "Fold 0, Epoch 21600, Loss: 0.12172645330429077\n",
            "Fold 0, Epoch 21700, Loss: 0.12170945107936859\n",
            "Fold 0, Epoch 21800, Loss: 0.1216915026307106\n",
            "Fold 0, Epoch 21900, Loss: 0.121672622859478\n",
            "Fold 0, Epoch 22000, Loss: 0.12165919691324234\n",
            "Fold 0, Epoch 22100, Loss: 0.12164148688316345\n",
            "Fold 0, Epoch 22200, Loss: 0.12162652611732483\n",
            "Fold 0, Epoch 22300, Loss: 0.121610626578331\n",
            "Fold 0, Epoch 22400, Loss: 0.12159477174282074\n",
            "Fold 0, Epoch 22500, Loss: 0.12157882750034332\n",
            "Fold 0, Epoch 22600, Loss: 0.1215631514787674\n",
            "Fold 0, Epoch 22700, Loss: 0.12155058234930038\n",
            "Fold 0, Epoch 22800, Loss: 0.12153332680463791\n",
            "Fold 0, Epoch 22900, Loss: 0.12151692807674408\n",
            "Fold 0, Epoch 23000, Loss: 0.12150172144174576\n",
            "Fold 0, Epoch 23100, Loss: 0.12148556113243103\n",
            "Fold 0, Epoch 23200, Loss: 0.12147056311368942\n",
            "Fold 0, Epoch 23300, Loss: 0.12145595252513885\n",
            "Fold 0, Epoch 23400, Loss: 0.12143997848033905\n",
            "Fold 0, Epoch 23500, Loss: 0.12142589688301086\n",
            "Fold 0, Epoch 23600, Loss: 0.12141215801239014\n",
            "Fold 0, Epoch 23700, Loss: 0.12139886617660522\n",
            "Fold 0, Epoch 23800, Loss: 0.12138523906469345\n",
            "Fold 0, Epoch 23900, Loss: 0.12137112021446228\n",
            "Fold 0, Epoch 24000, Loss: 0.12135735154151917\n",
            "Fold 0, Epoch 24100, Loss: 0.12134118378162384\n",
            "Fold 0, Epoch 24200, Loss: 0.12132573127746582\n",
            "Fold 0, Epoch 24300, Loss: 0.1213126853108406\n",
            "Fold 0, Epoch 24400, Loss: 0.12129820883274078\n",
            "Fold 0, Epoch 24500, Loss: 0.1212879866361618\n",
            "Fold 0, Epoch 24600, Loss: 0.12127809971570969\n",
            "Fold 0, Epoch 24700, Loss: 0.12126538902521133\n",
            "Fold 0, Epoch 24800, Loss: 0.1212552934885025\n",
            "Fold 0, Epoch 24900, Loss: 0.12124406546354294\n",
            "Fold 0, Loss: 0.12793923914432526\n",
            "Fold 0 saved\n",
            "Fold 1, Epoch 0, Loss: 0.9999995231628418\n",
            "Fold 1, Epoch 100, Loss: 0.9999971985816956\n",
            "Fold 1, Epoch 200, Loss: 0.9999927878379822\n",
            "Fold 1, Epoch 300, Loss: 0.9999821782112122\n",
            "Fold 1, Epoch 400, Loss: 0.9999487996101379\n",
            "Fold 1, Epoch 500, Loss: 0.9998627305030823\n",
            "Fold 1, Epoch 600, Loss: 0.9996131658554077\n",
            "Fold 1, Epoch 700, Loss: 0.9986656308174133\n",
            "Fold 1, Epoch 800, Loss: 0.9881615042686462\n",
            "Fold 1, Epoch 900, Loss: 0.8257678747177124\n",
            "Fold 1, Epoch 1000, Loss: 0.6088894009590149\n",
            "Fold 1, Epoch 1100, Loss: 0.4091813266277313\n",
            "Fold 1, Epoch 1200, Loss: 0.30828580260276794\n",
            "Fold 1, Epoch 1300, Loss: 0.2556341290473938\n",
            "Fold 1, Epoch 1400, Loss: 0.22713230550289154\n",
            "Fold 1, Epoch 1500, Loss: 0.2119554579257965\n",
            "Fold 1, Epoch 1600, Loss: 0.2038971334695816\n",
            "Fold 1, Epoch 1700, Loss: 0.1989642232656479\n",
            "Fold 1, Epoch 1800, Loss: 0.19564811885356903\n",
            "Fold 1, Epoch 1900, Loss: 0.1930815577507019\n",
            "Fold 1, Epoch 2000, Loss: 0.19109418988227844\n",
            "Fold 1, Epoch 2100, Loss: 0.1893693506717682\n",
            "Fold 1, Epoch 2200, Loss: 0.18786783516407013\n",
            "Fold 1, Epoch 2300, Loss: 0.18662942945957184\n",
            "Fold 1, Epoch 2400, Loss: 0.18555884063243866\n",
            "Fold 1, Epoch 2500, Loss: 0.18454183638095856\n",
            "Fold 1, Epoch 2600, Loss: 0.1835947334766388\n",
            "Fold 1, Epoch 2700, Loss: 0.18264886736869812\n",
            "Fold 1, Epoch 2800, Loss: 0.18179844319820404\n",
            "Fold 1, Epoch 2900, Loss: 0.18106859922409058\n",
            "Fold 1, Epoch 3000, Loss: 0.18040715157985687\n",
            "Fold 1, Epoch 3100, Loss: 0.1797579526901245\n",
            "Fold 1, Epoch 3200, Loss: 0.179133802652359\n",
            "Fold 1, Epoch 3300, Loss: 0.1785203516483307\n",
            "Fold 1, Epoch 3400, Loss: 0.1779346913099289\n",
            "Fold 1, Epoch 3500, Loss: 0.17736099660396576\n",
            "Fold 1, Epoch 3600, Loss: 0.17675486207008362\n",
            "Fold 1, Epoch 3700, Loss: 0.17613516747951508\n",
            "Fold 1, Epoch 3800, Loss: 0.17550809681415558\n",
            "Fold 1, Epoch 3900, Loss: 0.17486147582530975\n",
            "Fold 1, Epoch 4000, Loss: 0.17416980862617493\n",
            "Fold 1, Epoch 4100, Loss: 0.17340879142284393\n",
            "Fold 1, Epoch 4200, Loss: 0.17258796095848083\n",
            "Fold 1, Epoch 4300, Loss: 0.17164036631584167\n",
            "Fold 1, Epoch 4400, Loss: 0.17056433856487274\n",
            "Fold 1, Epoch 4500, Loss: 0.16941241919994354\n",
            "Fold 1, Epoch 4600, Loss: 0.16798488795757294\n",
            "Fold 1, Epoch 4700, Loss: 0.16613827645778656\n",
            "Fold 1, Epoch 4800, Loss: 0.16414842009544373\n",
            "Fold 1, Epoch 4900, Loss: 0.1620153784751892\n",
            "Fold 1, Epoch 5000, Loss: 0.1597943902015686\n",
            "Fold 1, Epoch 5100, Loss: 0.15755456686019897\n",
            "Fold 1, Epoch 5200, Loss: 0.15545889735221863\n",
            "Fold 1, Epoch 5300, Loss: 0.15336669981479645\n",
            "Fold 1, Epoch 5400, Loss: 0.15131086111068726\n",
            "Fold 1, Epoch 5500, Loss: 0.1496248096227646\n",
            "Fold 1, Epoch 5600, Loss: 0.14824548363685608\n",
            "Fold 1, Epoch 5700, Loss: 0.14675062894821167\n",
            "Fold 1, Epoch 5800, Loss: 0.14555814862251282\n",
            "Fold 1, Epoch 5900, Loss: 0.14462153613567352\n",
            "Fold 1, Epoch 6000, Loss: 0.14385488629341125\n",
            "Fold 1, Epoch 6100, Loss: 0.1431737244129181\n",
            "Fold 1, Epoch 6200, Loss: 0.14244146645069122\n",
            "Fold 1, Epoch 6300, Loss: 0.14162227511405945\n",
            "Fold 1, Epoch 6400, Loss: 0.14077968895435333\n",
            "Fold 1, Epoch 6500, Loss: 0.13981351256370544\n",
            "Fold 1, Epoch 6600, Loss: 0.13893365859985352\n",
            "Fold 1, Epoch 6700, Loss: 0.13818566501140594\n",
            "Fold 1, Epoch 6800, Loss: 0.13755205273628235\n",
            "Fold 1, Epoch 6900, Loss: 0.13693201541900635\n",
            "Fold 1, Epoch 7000, Loss: 0.13631662726402283\n",
            "Fold 1, Epoch 7100, Loss: 0.13575111329555511\n",
            "Fold 1, Epoch 7200, Loss: 0.13518720865249634\n",
            "Fold 1, Epoch 7300, Loss: 0.13467629253864288\n",
            "Fold 1, Epoch 7400, Loss: 0.13426573574543\n",
            "Fold 1, Epoch 7500, Loss: 0.13384686410427094\n",
            "Fold 1, Epoch 7600, Loss: 0.13343165814876556\n",
            "Fold 1, Epoch 7700, Loss: 0.1327781081199646\n",
            "Fold 1, Epoch 7800, Loss: 0.13214020431041718\n",
            "Fold 1, Epoch 7900, Loss: 0.13161003589630127\n",
            "Fold 1, Epoch 8000, Loss: 0.13114206492900848\n",
            "Fold 1, Epoch 8100, Loss: 0.13074104487895966\n",
            "Fold 1, Epoch 8200, Loss: 0.1303987205028534\n",
            "Fold 1, Epoch 8300, Loss: 0.1299709528684616\n",
            "Fold 1, Epoch 8400, Loss: 0.12961773574352264\n",
            "Fold 1, Epoch 8500, Loss: 0.12935684621334076\n",
            "Fold 1, Epoch 8600, Loss: 0.12890753149986267\n",
            "Fold 1, Epoch 8700, Loss: 0.1286221593618393\n",
            "Fold 1, Epoch 8800, Loss: 0.128395214676857\n",
            "Fold 1, Epoch 8900, Loss: 0.1281447857618332\n",
            "Fold 1, Epoch 9000, Loss: 0.12790267169475555\n",
            "Fold 1, Epoch 9100, Loss: 0.12772595882415771\n",
            "Fold 1, Epoch 9200, Loss: 0.12756764888763428\n",
            "Fold 1, Epoch 9300, Loss: 0.12743119895458221\n",
            "Fold 1, Epoch 9400, Loss: 0.12730734050273895\n",
            "Fold 1, Epoch 9500, Loss: 0.12718236446380615\n",
            "Fold 1, Epoch 9600, Loss: 0.1270695924758911\n",
            "Fold 1, Epoch 9700, Loss: 0.12697136402130127\n",
            "Fold 1, Epoch 9800, Loss: 0.12685291469097137\n",
            "Fold 1, Epoch 9900, Loss: 0.12676338851451874\n",
            "Fold 1, Epoch 10000, Loss: 0.12666092813014984\n",
            "Fold 1, Epoch 10100, Loss: 0.12652432918548584\n",
            "Fold 1, Epoch 10200, Loss: 0.126420795917511\n",
            "Fold 1, Epoch 10300, Loss: 0.1263480931520462\n",
            "Fold 1, Epoch 10400, Loss: 0.1262757033109665\n",
            "Fold 1, Epoch 10500, Loss: 0.1262141615152359\n",
            "Fold 1, Epoch 10600, Loss: 0.12615592777729034\n",
            "Fold 1, Epoch 10700, Loss: 0.12609486281871796\n",
            "Fold 1, Epoch 10800, Loss: 0.12603279948234558\n",
            "Fold 1, Epoch 10900, Loss: 0.12598563730716705\n",
            "Fold 1, Epoch 11000, Loss: 0.12594465911388397\n",
            "Fold 1, Epoch 11100, Loss: 0.12590453028678894\n",
            "Fold 1, Epoch 11200, Loss: 0.12586238980293274\n",
            "Fold 1, Epoch 11300, Loss: 0.12581826746463776\n",
            "Fold 1, Epoch 11400, Loss: 0.12578226625919342\n",
            "Fold 1, Epoch 11500, Loss: 0.12575238943099976\n",
            "Fold 1, Epoch 11600, Loss: 0.12572523951530457\n",
            "Fold 1, Epoch 11700, Loss: 0.12570205330848694\n",
            "Fold 1, Epoch 11800, Loss: 0.12567844986915588\n",
            "Fold 1, Epoch 11900, Loss: 0.1256565898656845\n",
            "Fold 1, Epoch 12000, Loss: 0.12563353776931763\n",
            "Fold 1, Epoch 12100, Loss: 0.1256096363067627\n",
            "Fold 1, Epoch 12200, Loss: 0.1255815029144287\n",
            "Fold 1, Epoch 12300, Loss: 0.12555301189422607\n",
            "Fold 1, Epoch 12400, Loss: 0.1255294233560562\n",
            "Fold 1, Epoch 12500, Loss: 0.12550505995750427\n",
            "Fold 1, Epoch 12600, Loss: 0.1254849135875702\n",
            "Fold 1, Epoch 12700, Loss: 0.12546224892139435\n",
            "Fold 1, Epoch 12800, Loss: 0.12544362246990204\n",
            "Fold 1, Epoch 12900, Loss: 0.1254270374774933\n",
            "Fold 1, Epoch 13000, Loss: 0.125406876206398\n",
            "Fold 1, Epoch 13100, Loss: 0.12539023160934448\n",
            "Fold 1, Epoch 13200, Loss: 0.12537150084972382\n",
            "Fold 1, Epoch 13300, Loss: 0.1253526657819748\n",
            "Fold 1, Epoch 13400, Loss: 0.12533985078334808\n",
            "Fold 1, Epoch 13500, Loss: 0.1253260225057602\n",
            "Fold 1, Epoch 13600, Loss: 0.12531150877475739\n",
            "Fold 1, Epoch 13700, Loss: 0.12529782950878143\n",
            "Fold 1, Epoch 13800, Loss: 0.12528638541698456\n",
            "Fold 1, Epoch 13900, Loss: 0.12527289986610413\n",
            "Fold 1, Epoch 14000, Loss: 0.1252594292163849\n",
            "Fold 1, Epoch 14100, Loss: 0.12524768710136414\n",
            "Fold 1, Epoch 14200, Loss: 0.12523776292800903\n",
            "Fold 1, Epoch 14300, Loss: 0.1252295821905136\n",
            "Fold 1, Epoch 14400, Loss: 0.12521904706954956\n",
            "Fold 1, Epoch 14500, Loss: 0.1252058893442154\n",
            "Fold 1, Epoch 14600, Loss: 0.12519320845603943\n",
            "Fold 1, Epoch 14700, Loss: 0.12517939507961273\n",
            "Fold 1, Epoch 14800, Loss: 0.12516780197620392\n",
            "Fold 1, Epoch 14900, Loss: 0.12515699863433838\n",
            "Fold 1, Epoch 15000, Loss: 0.12514711916446686\n",
            "Fold 1, Epoch 15100, Loss: 0.12513384222984314\n",
            "Fold 1, Epoch 15200, Loss: 0.12512221932411194\n",
            "Fold 1, Epoch 15300, Loss: 0.1251118779182434\n",
            "Fold 1, Epoch 15400, Loss: 0.12510357797145844\n",
            "Fold 1, Epoch 15500, Loss: 0.12509536743164062\n",
            "Fold 1, Epoch 15600, Loss: 0.12508566677570343\n",
            "Fold 1, Epoch 15700, Loss: 0.12507328391075134\n",
            "Fold 1, Epoch 15800, Loss: 0.12506458163261414\n",
            "Fold 1, Epoch 15900, Loss: 0.12505871057510376\n",
            "Fold 1, Epoch 16000, Loss: 0.12504832446575165\n",
            "Fold 1, Epoch 16100, Loss: 0.12504002451896667\n",
            "Fold 1, Epoch 16200, Loss: 0.12502603232860565\n",
            "Fold 1, Epoch 16300, Loss: 0.1250176727771759\n",
            "Fold 1, Epoch 16400, Loss: 0.1250091940164566\n",
            "Fold 1, Epoch 16500, Loss: 0.12500342726707458\n",
            "Fold 1, Epoch 16600, Loss: 0.12499741464853287\n",
            "Fold 1, Epoch 16700, Loss: 0.12499197572469711\n",
            "Fold 1, Epoch 16800, Loss: 0.12498761713504791\n",
            "Fold 1, Epoch 16900, Loss: 0.12498258799314499\n",
            "Fold 1, Epoch 17000, Loss: 0.12497826665639877\n",
            "Fold 1, Epoch 17100, Loss: 0.12497518956661224\n",
            "Fold 1, Epoch 17200, Loss: 0.12496990710496902\n",
            "Fold 1, Epoch 17300, Loss: 0.12496492266654968\n",
            "Fold 1, Epoch 17400, Loss: 0.1249602735042572\n",
            "Fold 1, Epoch 17500, Loss: 0.12495522201061249\n",
            "Fold 1, Epoch 17600, Loss: 0.12495129555463791\n",
            "Fold 1, Epoch 17700, Loss: 0.12494642287492752\n",
            "Fold 1, Epoch 17800, Loss: 0.1249423548579216\n",
            "Fold 1, Epoch 17900, Loss: 0.12493772804737091\n",
            "Fold 1, Epoch 18000, Loss: 0.12493334710597992\n",
            "Fold 1, Epoch 18100, Loss: 0.12492804229259491\n",
            "Fold 1, Epoch 18200, Loss: 0.12492354959249496\n",
            "Fold 1, Epoch 18300, Loss: 0.12491743266582489\n",
            "Fold 1, Epoch 18400, Loss: 0.12490932643413544\n",
            "Fold 1, Epoch 18500, Loss: 0.12490130960941315\n",
            "Fold 1, Epoch 18600, Loss: 0.12488964200019836\n",
            "Fold 1, Epoch 18700, Loss: 0.12487511336803436\n",
            "Fold 1, Epoch 18800, Loss: 0.12485939264297485\n",
            "Fold 1, Epoch 18900, Loss: 0.12483440339565277\n",
            "Fold 1, Epoch 19000, Loss: 0.12481405586004257\n",
            "Fold 1, Epoch 19100, Loss: 0.12479040026664734\n",
            "Fold 1, Epoch 19200, Loss: 0.12476903200149536\n",
            "Fold 1, Epoch 19300, Loss: 0.12474923580884933\n",
            "Fold 1, Epoch 19400, Loss: 0.12471967935562134\n",
            "Fold 1, Epoch 19500, Loss: 0.12469644099473953\n",
            "Fold 1, Epoch 19600, Loss: 0.12467695027589798\n",
            "Fold 1, Epoch 19700, Loss: 0.12465927004814148\n",
            "Fold 1, Epoch 19800, Loss: 0.12464163452386856\n",
            "Fold 1, Epoch 19900, Loss: 0.12462791800498962\n",
            "Fold 1, Epoch 20000, Loss: 0.12461397051811218\n",
            "Fold 1, Epoch 20100, Loss: 0.12460264563560486\n",
            "Fold 1, Epoch 20200, Loss: 0.12458911538124084\n",
            "Fold 1, Epoch 20300, Loss: 0.12457872182130814\n",
            "Fold 1, Epoch 20400, Loss: 0.12456671893596649\n",
            "Fold 1, Epoch 20500, Loss: 0.12455669790506363\n",
            "Fold 1, Epoch 20600, Loss: 0.12454371899366379\n",
            "Fold 1, Epoch 20700, Loss: 0.12453164160251617\n",
            "Fold 1, Epoch 20800, Loss: 0.12451864033937454\n",
            "Fold 1, Epoch 20900, Loss: 0.12450294941663742\n",
            "Fold 1, Epoch 21000, Loss: 0.12449042499065399\n",
            "Fold 1, Epoch 21100, Loss: 0.12447997182607651\n",
            "Fold 1, Epoch 21200, Loss: 0.12446607649326324\n",
            "Fold 1, Epoch 21300, Loss: 0.12445475161075592\n",
            "Fold 1, Epoch 21400, Loss: 0.12444474548101425\n",
            "Fold 1, Epoch 21500, Loss: 0.12443315982818604\n",
            "Fold 1, Epoch 21600, Loss: 0.12442197650671005\n",
            "Fold 1, Epoch 21700, Loss: 0.1244097650051117\n",
            "Fold 1, Epoch 21800, Loss: 0.12438639253377914\n",
            "Fold 1, Epoch 21900, Loss: 0.12435290962457657\n",
            "Fold 1, Epoch 22000, Loss: 0.12432779371738434\n",
            "Fold 1, Epoch 22100, Loss: 0.12430910766124725\n",
            "Fold 1, Epoch 22200, Loss: 0.12429109215736389\n",
            "Fold 1, Epoch 22300, Loss: 0.12427300214767456\n",
            "Fold 1, Epoch 22400, Loss: 0.12425369769334793\n",
            "Fold 1, Epoch 22500, Loss: 0.1242433711886406\n",
            "Fold 1, Epoch 22600, Loss: 0.12423240393400192\n",
            "Fold 1, Epoch 22700, Loss: 0.1242208257317543\n",
            "Fold 1, Epoch 22800, Loss: 0.12420880794525146\n",
            "Fold 1, Epoch 22900, Loss: 0.12419912964105606\n",
            "Fold 1, Epoch 23000, Loss: 0.12419053167104721\n",
            "Fold 1, Epoch 23100, Loss: 0.12418294697999954\n",
            "Fold 1, Epoch 23200, Loss: 0.1241757795214653\n",
            "Fold 1, Epoch 23300, Loss: 0.12416950613260269\n",
            "Fold 1, Epoch 23400, Loss: 0.12415917217731476\n",
            "Fold 1, Epoch 23500, Loss: 0.12414999306201935\n",
            "Fold 1, Epoch 23600, Loss: 0.12413652241230011\n",
            "Fold 1, Epoch 23700, Loss: 0.12412789463996887\n",
            "Fold 1, Epoch 23800, Loss: 0.12411630153656006\n",
            "Fold 1, Epoch 23900, Loss: 0.12410914152860641\n",
            "Fold 1, Epoch 24000, Loss: 0.12410233169794083\n",
            "Fold 1, Epoch 24100, Loss: 0.1240951418876648\n",
            "Fold 1, Epoch 24200, Loss: 0.12409151345491409\n",
            "Fold 1, Epoch 24300, Loss: 0.1240830272436142\n",
            "Fold 1, Epoch 24400, Loss: 0.12407640367746353\n",
            "Fold 1, Epoch 24500, Loss: 0.12407061457633972\n",
            "Fold 1, Epoch 24600, Loss: 0.12406154721975327\n",
            "Fold 1, Epoch 24700, Loss: 0.12405598908662796\n",
            "Fold 1, Epoch 24800, Loss: 0.12404772639274597\n",
            "Fold 1, Epoch 24900, Loss: 0.12404248863458633\n",
            "Fold 1, Loss: 0.1286158412694931\n",
            "Fold 1 saved\n",
            "Fold 2, Epoch 0, Loss: 0.9999995231628418\n",
            "Fold 2, Epoch 100, Loss: 0.9999983310699463\n",
            "Fold 2, Epoch 200, Loss: 0.999997615814209\n",
            "Fold 2, Epoch 300, Loss: 0.999997079372406\n",
            "Fold 2, Epoch 400, Loss: 0.9999966025352478\n",
            "Fold 2, Epoch 500, Loss: 0.9999961853027344\n",
            "Fold 2, Epoch 600, Loss: 0.9999957084655762\n",
            "Fold 2, Epoch 700, Loss: 0.999995231628418\n",
            "Fold 2, Epoch 800, Loss: 0.9999949336051941\n",
            "Fold 2, Epoch 900, Loss: 0.9999945759773254\n",
            "Fold 2, Epoch 1000, Loss: 0.9999940991401672\n",
            "Fold 2, Epoch 1100, Loss: 0.9999938011169434\n",
            "Fold 2, Epoch 1200, Loss: 0.9999934434890747\n",
            "Fold 2, Epoch 1300, Loss: 0.9999929666519165\n",
            "Fold 2, Epoch 1400, Loss: 0.9999924302101135\n",
            "Fold 2, Epoch 1500, Loss: 0.9999916553497314\n",
            "Fold 2, Epoch 1600, Loss: 0.9999906420707703\n",
            "Fold 2, Epoch 1700, Loss: 0.9999892711639404\n",
            "Fold 2, Epoch 1800, Loss: 0.9999874830245972\n",
            "Fold 2, Epoch 1900, Loss: 0.9999847412109375\n",
            "Fold 2, Epoch 2000, Loss: 0.9999803304672241\n",
            "Fold 2, Epoch 2100, Loss: 0.9999721050262451\n",
            "Fold 2, Epoch 2200, Loss: 0.9999541640281677\n",
            "Fold 2, Epoch 2300, Loss: 0.9999060034751892\n",
            "Fold 2, Epoch 2400, Loss: 0.9997422099113464\n",
            "Fold 2, Epoch 2500, Loss: 0.9988334774971008\n",
            "Fold 2, Epoch 2600, Loss: 0.9894903302192688\n",
            "Fold 2, Epoch 2700, Loss: 0.9332080483436584\n",
            "Fold 2, Epoch 2800, Loss: 0.7827541828155518\n",
            "Fold 2, Epoch 2900, Loss: 0.700019896030426\n",
            "Fold 2, Epoch 3000, Loss: 0.6263591647148132\n",
            "Fold 2, Epoch 3100, Loss: 0.5196419358253479\n",
            "Fold 2, Epoch 3200, Loss: 0.4275398850440979\n",
            "Fold 2, Epoch 3300, Loss: 0.36782416701316833\n",
            "Fold 2, Epoch 3400, Loss: 0.3277711570262909\n",
            "Fold 2, Epoch 3500, Loss: 0.2977120876312256\n",
            "Fold 2, Epoch 3600, Loss: 0.27339354157447815\n",
            "Fold 2, Epoch 3700, Loss: 0.2527531385421753\n",
            "Fold 2, Epoch 3800, Loss: 0.23568105697631836\n",
            "Fold 2, Epoch 3900, Loss: 0.22275197505950928\n",
            "Fold 2, Epoch 4000, Loss: 0.21402078866958618\n",
            "Fold 2, Epoch 4100, Loss: 0.20848490297794342\n",
            "Fold 2, Epoch 4200, Loss: 0.20482295751571655\n",
            "Fold 2, Epoch 4300, Loss: 0.20218659937381744\n",
            "Fold 2, Epoch 4400, Loss: 0.2000637948513031\n",
            "Fold 2, Epoch 4500, Loss: 0.19821161031723022\n",
            "Fold 2, Epoch 4600, Loss: 0.19657494127750397\n",
            "Fold 2, Epoch 4700, Loss: 0.19505256414413452\n",
            "Fold 2, Epoch 4800, Loss: 0.19366195797920227\n",
            "Fold 2, Epoch 4900, Loss: 0.1923884004354477\n",
            "Fold 2, Epoch 5000, Loss: 0.19124318659305573\n",
            "Fold 2, Epoch 5100, Loss: 0.19014430046081543\n",
            "Fold 2, Epoch 5200, Loss: 0.1890593022108078\n",
            "Fold 2, Epoch 5300, Loss: 0.18800565600395203\n",
            "Fold 2, Epoch 5400, Loss: 0.18694959580898285\n",
            "Fold 2, Epoch 5500, Loss: 0.18592044711112976\n",
            "Fold 2, Epoch 5600, Loss: 0.18494901061058044\n",
            "Fold 2, Epoch 5700, Loss: 0.1840217411518097\n",
            "Fold 2, Epoch 5800, Loss: 0.18320830166339874\n",
            "Fold 2, Epoch 5900, Loss: 0.18248043954372406\n",
            "Fold 2, Epoch 6000, Loss: 0.18179762363433838\n",
            "Fold 2, Epoch 6100, Loss: 0.181197851896286\n",
            "Fold 2, Epoch 6200, Loss: 0.18064215779304504\n",
            "Fold 2, Epoch 6300, Loss: 0.18012136220932007\n",
            "Fold 2, Epoch 6400, Loss: 0.17969390749931335\n",
            "Fold 2, Epoch 6500, Loss: 0.1793036162853241\n",
            "Fold 2, Epoch 6600, Loss: 0.17893631756305695\n",
            "Fold 2, Epoch 6700, Loss: 0.17857250571250916\n",
            "Fold 2, Epoch 6800, Loss: 0.17823301255702972\n",
            "Fold 2, Epoch 6900, Loss: 0.17788301408290863\n",
            "Fold 2, Epoch 7000, Loss: 0.17751599848270416\n",
            "Fold 2, Epoch 7100, Loss: 0.17717204988002777\n",
            "Fold 2, Epoch 7200, Loss: 0.17687827348709106\n",
            "Fold 2, Epoch 7300, Loss: 0.17661580443382263\n",
            "Fold 2, Epoch 7400, Loss: 0.17637567222118378\n",
            "Fold 2, Epoch 7500, Loss: 0.1761571615934372\n",
            "Fold 2, Epoch 7600, Loss: 0.17596818506717682\n",
            "Fold 2, Epoch 7700, Loss: 0.17580445110797882\n",
            "Fold 2, Epoch 7800, Loss: 0.17565332353115082\n",
            "Fold 2, Epoch 7900, Loss: 0.17551422119140625\n",
            "Fold 2, Epoch 8000, Loss: 0.17537732422351837\n",
            "Fold 2, Epoch 8100, Loss: 0.17524205148220062\n",
            "Fold 2, Epoch 8200, Loss: 0.17509204149246216\n",
            "Fold 2, Epoch 8300, Loss: 0.17493410408496857\n",
            "Fold 2, Epoch 8400, Loss: 0.1747617870569229\n",
            "Fold 2, Epoch 8500, Loss: 0.17459936439990997\n",
            "Fold 2, Epoch 8600, Loss: 0.17444632947444916\n",
            "Fold 2, Epoch 8700, Loss: 0.1742970198392868\n",
            "Fold 2, Epoch 8800, Loss: 0.17415624856948853\n",
            "Fold 2, Epoch 8900, Loss: 0.17402523756027222\n",
            "Fold 2, Epoch 9000, Loss: 0.17389057576656342\n",
            "Fold 2, Epoch 9100, Loss: 0.17376460134983063\n",
            "Fold 2, Epoch 9200, Loss: 0.17363964021205902\n",
            "Fold 2, Epoch 9300, Loss: 0.17351393401622772\n",
            "Fold 2, Epoch 9400, Loss: 0.17338822782039642\n",
            "Fold 2, Epoch 9500, Loss: 0.1732691079378128\n",
            "Fold 2, Epoch 9600, Loss: 0.17314939200878143\n",
            "Fold 2, Epoch 9700, Loss: 0.17302720248699188\n",
            "Fold 2, Epoch 9800, Loss: 0.17291158437728882\n",
            "Fold 2, Epoch 9900, Loss: 0.17278693616390228\n",
            "Fold 2, Epoch 10000, Loss: 0.17265558242797852\n",
            "Fold 2, Epoch 10100, Loss: 0.17252227663993835\n",
            "Fold 2, Epoch 10200, Loss: 0.17237608134746552\n",
            "Fold 2, Epoch 10300, Loss: 0.17222794890403748\n",
            "Fold 2, Epoch 10400, Loss: 0.17208825051784515\n",
            "Fold 2, Epoch 10500, Loss: 0.17195232212543488\n",
            "Fold 2, Epoch 10600, Loss: 0.1718212515115738\n",
            "Fold 2, Epoch 10700, Loss: 0.17168748378753662\n",
            "Fold 2, Epoch 10800, Loss: 0.17153796553611755\n",
            "Fold 2, Epoch 10900, Loss: 0.1713733673095703\n",
            "Fold 2, Epoch 11000, Loss: 0.1712024211883545\n",
            "Fold 2, Epoch 11100, Loss: 0.1710442304611206\n",
            "Fold 2, Epoch 11200, Loss: 0.17089684307575226\n",
            "Fold 2, Epoch 11300, Loss: 0.1707436442375183\n",
            "Fold 2, Epoch 11400, Loss: 0.170588418841362\n",
            "Fold 2, Epoch 11500, Loss: 0.17042593657970428\n",
            "Fold 2, Epoch 11600, Loss: 0.17023320496082306\n",
            "Fold 2, Epoch 11700, Loss: 0.17005424201488495\n",
            "Fold 2, Epoch 11800, Loss: 0.16986504197120667\n",
            "Fold 2, Epoch 11900, Loss: 0.16966085135936737\n",
            "Fold 2, Epoch 12000, Loss: 0.1694575846195221\n",
            "Fold 2, Epoch 12100, Loss: 0.16929779946804047\n",
            "Fold 2, Epoch 12200, Loss: 0.16916003823280334\n",
            "Fold 2, Epoch 12300, Loss: 0.16904690861701965\n",
            "Fold 2, Epoch 12400, Loss: 0.16894565522670746\n",
            "Fold 2, Epoch 12500, Loss: 0.16885213553905487\n",
            "Fold 2, Epoch 12600, Loss: 0.16876298189163208\n",
            "Fold 2, Epoch 12700, Loss: 0.16867873072624207\n",
            "Fold 2, Epoch 12800, Loss: 0.16859868168830872\n",
            "Fold 2, Epoch 12900, Loss: 0.1684938371181488\n",
            "Fold 2, Epoch 13000, Loss: 0.1683775633573532\n",
            "Fold 2, Epoch 13100, Loss: 0.16823875904083252\n",
            "Fold 2, Epoch 13200, Loss: 0.1681230068206787\n",
            "Fold 2, Epoch 13300, Loss: 0.16801168024539948\n",
            "Fold 2, Epoch 13400, Loss: 0.1679137498140335\n",
            "Fold 2, Epoch 13500, Loss: 0.1678253710269928\n",
            "Fold 2, Epoch 13600, Loss: 0.1677156686782837\n",
            "Fold 2, Epoch 13700, Loss: 0.16761058568954468\n",
            "Fold 2, Epoch 13800, Loss: 0.16749967634677887\n",
            "Fold 2, Epoch 13900, Loss: 0.1674080491065979\n",
            "Fold 2, Epoch 14000, Loss: 0.16730359196662903\n",
            "Fold 2, Epoch 14100, Loss: 0.16722753643989563\n",
            "Fold 2, Epoch 14200, Loss: 0.16716331243515015\n",
            "Fold 2, Epoch 14300, Loss: 0.16710977256298065\n",
            "Fold 2, Epoch 14400, Loss: 0.1670638620853424\n",
            "Fold 2, Epoch 14500, Loss: 0.16701802611351013\n",
            "Fold 2, Epoch 14600, Loss: 0.16696059703826904\n",
            "Fold 2, Epoch 14700, Loss: 0.16690771281719208\n",
            "Fold 2, Epoch 14800, Loss: 0.1668376922607422\n",
            "Fold 2, Epoch 14900, Loss: 0.1667463779449463\n",
            "Fold 2, Epoch 15000, Loss: 0.16666844487190247\n",
            "Fold 2, Epoch 15100, Loss: 0.16660164296627045\n",
            "Fold 2, Epoch 15200, Loss: 0.16654229164123535\n",
            "Fold 2, Epoch 15300, Loss: 0.16648156940937042\n",
            "Fold 2, Epoch 15400, Loss: 0.1664292812347412\n",
            "Fold 2, Epoch 15500, Loss: 0.16637572646141052\n",
            "Fold 2, Epoch 15600, Loss: 0.16631802916526794\n",
            "Fold 2, Epoch 15700, Loss: 0.16626669466495514\n",
            "Fold 2, Epoch 15800, Loss: 0.1662159264087677\n",
            "Fold 2, Epoch 15900, Loss: 0.1661609709262848\n",
            "Fold 2, Epoch 16000, Loss: 0.16610971093177795\n",
            "Fold 2, Epoch 16100, Loss: 0.16605038940906525\n",
            "Fold 2, Epoch 16200, Loss: 0.1659979224205017\n",
            "Fold 2, Epoch 16300, Loss: 0.16594856977462769\n",
            "Fold 2, Epoch 16400, Loss: 0.16590073704719543\n",
            "Fold 2, Epoch 16500, Loss: 0.16584666073322296\n",
            "Fold 2, Epoch 16600, Loss: 0.1657748967409134\n",
            "Fold 2, Epoch 16700, Loss: 0.16571736335754395\n",
            "Fold 2, Epoch 16800, Loss: 0.16565704345703125\n",
            "Fold 2, Epoch 16900, Loss: 0.16559237241744995\n",
            "Fold 2, Epoch 17000, Loss: 0.16553381085395813\n",
            "Fold 2, Epoch 17100, Loss: 0.1654704362154007\n",
            "Fold 2, Epoch 17200, Loss: 0.16538086533546448\n",
            "Fold 2, Epoch 17300, Loss: 0.16527986526489258\n",
            "Fold 2, Epoch 17400, Loss: 0.16516324877738953\n",
            "Fold 2, Epoch 17500, Loss: 0.16500572860240936\n",
            "Fold 2, Epoch 17600, Loss: 0.16485372185707092\n",
            "Fold 2, Epoch 17700, Loss: 0.16470424830913544\n",
            "Fold 2, Epoch 17800, Loss: 0.16454625129699707\n",
            "Fold 2, Epoch 17900, Loss: 0.16440004110336304\n",
            "Fold 2, Epoch 18000, Loss: 0.16425293684005737\n",
            "Fold 2, Epoch 18100, Loss: 0.16410306096076965\n",
            "Fold 2, Epoch 18200, Loss: 0.16393466293811798\n",
            "Fold 2, Epoch 18300, Loss: 0.1637466996908188\n",
            "Fold 2, Epoch 18400, Loss: 0.16354891657829285\n",
            "Fold 2, Epoch 18500, Loss: 0.16333092749118805\n",
            "Fold 2, Epoch 18600, Loss: 0.16308142244815826\n",
            "Fold 2, Epoch 18700, Loss: 0.1628132164478302\n",
            "Fold 2, Epoch 18800, Loss: 0.16243107616901398\n",
            "Fold 2, Epoch 18900, Loss: 0.16164934635162354\n",
            "Fold 2, Epoch 19000, Loss: 0.16037587821483612\n",
            "Fold 2, Epoch 19100, Loss: 0.15800045430660248\n",
            "Fold 2, Epoch 19200, Loss: 0.1539667844772339\n",
            "Fold 2, Epoch 19300, Loss: 0.14826291799545288\n",
            "Fold 2, Epoch 19400, Loss: 0.14460046589374542\n",
            "Fold 2, Epoch 19500, Loss: 0.14172282814979553\n",
            "Fold 2, Epoch 19600, Loss: 0.13922438025474548\n",
            "Fold 2, Epoch 19700, Loss: 0.13744483888149261\n",
            "Fold 2, Epoch 19800, Loss: 0.1360025554895401\n",
            "Fold 2, Epoch 19900, Loss: 0.13478924334049225\n",
            "Fold 2, Epoch 20000, Loss: 0.1338416188955307\n",
            "Fold 2, Epoch 20100, Loss: 0.1330808401107788\n",
            "Fold 2, Epoch 20200, Loss: 0.1323338896036148\n",
            "Fold 2, Epoch 20300, Loss: 0.13165505230426788\n",
            "Fold 2, Epoch 20400, Loss: 0.13103295862674713\n",
            "Fold 2, Epoch 20500, Loss: 0.13052262365818024\n",
            "Fold 2, Epoch 20600, Loss: 0.1300559937953949\n",
            "Fold 2, Epoch 20700, Loss: 0.1296471655368805\n",
            "Fold 2, Epoch 20800, Loss: 0.12915518879890442\n",
            "Fold 2, Epoch 20900, Loss: 0.12869441509246826\n",
            "Fold 2, Epoch 21000, Loss: 0.12824508547782898\n",
            "Fold 2, Epoch 21100, Loss: 0.12785357236862183\n",
            "Fold 2, Epoch 21200, Loss: 0.12743331491947174\n",
            "Fold 2, Epoch 21300, Loss: 0.12703624367713928\n",
            "Fold 2, Epoch 21400, Loss: 0.12672966718673706\n",
            "Fold 2, Epoch 21500, Loss: 0.1264578402042389\n",
            "Fold 2, Epoch 21600, Loss: 0.12619934976100922\n",
            "Fold 2, Epoch 21700, Loss: 0.12596973776817322\n",
            "Fold 2, Epoch 21800, Loss: 0.12576358020305634\n",
            "Fold 2, Epoch 21900, Loss: 0.1255825310945511\n",
            "Fold 2, Epoch 22000, Loss: 0.12542042136192322\n",
            "Fold 2, Epoch 22100, Loss: 0.12524335086345673\n",
            "Fold 2, Epoch 22200, Loss: 0.12507860362529755\n",
            "Fold 2, Epoch 22300, Loss: 0.12495017796754837\n",
            "Fold 2, Epoch 22400, Loss: 0.12482132762670517\n",
            "Fold 2, Epoch 22500, Loss: 0.12469132244586945\n",
            "Fold 2, Epoch 22600, Loss: 0.12453950941562653\n",
            "Fold 2, Epoch 22700, Loss: 0.12439259141683578\n",
            "Fold 2, Epoch 22800, Loss: 0.12425710260868073\n",
            "Fold 2, Epoch 22900, Loss: 0.12412286549806595\n",
            "Fold 2, Epoch 23000, Loss: 0.12400688976049423\n",
            "Fold 2, Epoch 23100, Loss: 0.1238829493522644\n",
            "Fold 2, Epoch 23200, Loss: 0.12372341752052307\n",
            "Fold 2, Epoch 23300, Loss: 0.12358637154102325\n",
            "Fold 2, Epoch 23400, Loss: 0.12348046153783798\n",
            "Fold 2, Epoch 23500, Loss: 0.12339022010564804\n",
            "Fold 2, Epoch 23600, Loss: 0.12330125272274017\n",
            "Fold 2, Epoch 23700, Loss: 0.12321004271507263\n",
            "Fold 2, Epoch 23800, Loss: 0.12311681360006332\n",
            "Fold 2, Epoch 23900, Loss: 0.12303152680397034\n",
            "Fold 2, Epoch 24000, Loss: 0.12295034527778625\n",
            "Fold 2, Epoch 24100, Loss: 0.12286325544118881\n",
            "Fold 2, Epoch 24200, Loss: 0.12276154011487961\n",
            "Fold 2, Epoch 24300, Loss: 0.12265631556510925\n",
            "Fold 2, Epoch 24400, Loss: 0.1225627139210701\n",
            "Fold 2, Epoch 24500, Loss: 0.12247615307569504\n",
            "Fold 2, Epoch 24600, Loss: 0.12239774316549301\n",
            "Fold 2, Epoch 24700, Loss: 0.12231924384832382\n",
            "Fold 2, Epoch 24800, Loss: 0.12224242091178894\n",
            "Fold 2, Epoch 24900, Loss: 0.12215855717658997\n",
            "Fold 2, Loss: 0.12804348766803741\n",
            "Fold 2 saved\n",
            "Fold 3, Epoch 0, Loss: 1.0000008344650269\n",
            "Fold 3, Epoch 100, Loss: 0.9999968409538269\n",
            "Fold 3, Epoch 200, Loss: 0.9999854564666748\n",
            "Fold 3, Epoch 300, Loss: 0.9999542236328125\n",
            "Fold 3, Epoch 400, Loss: 0.9998681545257568\n",
            "Fold 3, Epoch 500, Loss: 0.9996002316474915\n",
            "Fold 3, Epoch 600, Loss: 0.9981309175491333\n",
            "Fold 3, Epoch 700, Loss: 0.9783562421798706\n",
            "Fold 3, Epoch 800, Loss: 0.8025785088539124\n",
            "Fold 3, Epoch 900, Loss: 0.6309329867362976\n",
            "Fold 3, Epoch 1000, Loss: 0.4560531973838806\n",
            "Fold 3, Epoch 1100, Loss: 0.3386511206626892\n",
            "Fold 3, Epoch 1200, Loss: 0.27573469281196594\n",
            "Fold 3, Epoch 1300, Loss: 0.24019178748130798\n",
            "Fold 3, Epoch 1400, Loss: 0.21972951292991638\n",
            "Fold 3, Epoch 1500, Loss: 0.20938730239868164\n",
            "Fold 3, Epoch 1600, Loss: 0.2039770483970642\n",
            "Fold 3, Epoch 1700, Loss: 0.20046260952949524\n",
            "Fold 3, Epoch 1800, Loss: 0.1977851390838623\n",
            "Fold 3, Epoch 1900, Loss: 0.19541732966899872\n",
            "Fold 3, Epoch 2000, Loss: 0.19338856637477875\n",
            "Fold 3, Epoch 2100, Loss: 0.191679447889328\n",
            "Fold 3, Epoch 2200, Loss: 0.19025510549545288\n",
            "Fold 3, Epoch 2300, Loss: 0.18899555504322052\n",
            "Fold 3, Epoch 2400, Loss: 0.18780778348445892\n",
            "Fold 3, Epoch 2500, Loss: 0.18666645884513855\n",
            "Fold 3, Epoch 2600, Loss: 0.1856216937303543\n",
            "Fold 3, Epoch 2700, Loss: 0.18463967740535736\n",
            "Fold 3, Epoch 2800, Loss: 0.18377311527729034\n",
            "Fold 3, Epoch 2900, Loss: 0.18300199508666992\n",
            "Fold 3, Epoch 3000, Loss: 0.18231390416622162\n",
            "Fold 3, Epoch 3100, Loss: 0.18165694177150726\n",
            "Fold 3, Epoch 3200, Loss: 0.1810145527124405\n",
            "Fold 3, Epoch 3300, Loss: 0.18041683733463287\n",
            "Fold 3, Epoch 3400, Loss: 0.17984794080257416\n",
            "Fold 3, Epoch 3500, Loss: 0.1793103665113449\n",
            "Fold 3, Epoch 3600, Loss: 0.17886492609977722\n",
            "Fold 3, Epoch 3700, Loss: 0.17847439646720886\n",
            "Fold 3, Epoch 3800, Loss: 0.17808224260807037\n",
            "Fold 3, Epoch 3900, Loss: 0.1777217984199524\n",
            "Fold 3, Epoch 4000, Loss: 0.17736057937145233\n",
            "Fold 3, Epoch 4100, Loss: 0.177007794380188\n",
            "Fold 3, Epoch 4200, Loss: 0.1766481250524521\n",
            "Fold 3, Epoch 4300, Loss: 0.17631830275058746\n",
            "Fold 3, Epoch 4400, Loss: 0.176031693816185\n",
            "Fold 3, Epoch 4500, Loss: 0.17577829957008362\n",
            "Fold 3, Epoch 4600, Loss: 0.17556047439575195\n",
            "Fold 3, Epoch 4700, Loss: 0.17535081505775452\n",
            "Fold 3, Epoch 4800, Loss: 0.1751403957605362\n",
            "Fold 3, Epoch 4900, Loss: 0.17491911351680756\n",
            "Fold 3, Epoch 5000, Loss: 0.17474128305912018\n",
            "Fold 3, Epoch 5100, Loss: 0.17459122836589813\n",
            "Fold 3, Epoch 5200, Loss: 0.17444497346878052\n",
            "Fold 3, Epoch 5300, Loss: 0.17429496347904205\n",
            "Fold 3, Epoch 5400, Loss: 0.17413391172885895\n",
            "Fold 3, Epoch 5500, Loss: 0.17395572364330292\n",
            "Fold 3, Epoch 5600, Loss: 0.17377446591854095\n",
            "Fold 3, Epoch 5700, Loss: 0.17358429729938507\n",
            "Fold 3, Epoch 5800, Loss: 0.1733873188495636\n",
            "Fold 3, Epoch 5900, Loss: 0.17315302789211273\n",
            "Fold 3, Epoch 6000, Loss: 0.1729459911584854\n",
            "Fold 3, Epoch 6100, Loss: 0.17278501391410828\n",
            "Fold 3, Epoch 6200, Loss: 0.1726352721452713\n",
            "Fold 3, Epoch 6300, Loss: 0.1724759042263031\n",
            "Fold 3, Epoch 6400, Loss: 0.17231164872646332\n",
            "Fold 3, Epoch 6500, Loss: 0.1721494197845459\n",
            "Fold 3, Epoch 6600, Loss: 0.1719786375761032\n",
            "Fold 3, Epoch 6700, Loss: 0.17178159952163696\n",
            "Fold 3, Epoch 6800, Loss: 0.17156323790550232\n",
            "Fold 3, Epoch 6900, Loss: 0.17133937776088715\n",
            "Fold 3, Epoch 7000, Loss: 0.17111261188983917\n",
            "Fold 3, Epoch 7100, Loss: 0.17088793218135834\n",
            "Fold 3, Epoch 7200, Loss: 0.17064501345157623\n",
            "Fold 3, Epoch 7300, Loss: 0.1704009622335434\n",
            "Fold 3, Epoch 7400, Loss: 0.17019060254096985\n",
            "Fold 3, Epoch 7500, Loss: 0.16998636722564697\n",
            "Fold 3, Epoch 7600, Loss: 0.16973771154880524\n",
            "Fold 3, Epoch 7700, Loss: 0.1694694459438324\n",
            "Fold 3, Epoch 7800, Loss: 0.16927911341190338\n",
            "Fold 3, Epoch 7900, Loss: 0.16909246146678925\n",
            "Fold 3, Epoch 8000, Loss: 0.168908953666687\n",
            "Fold 3, Epoch 8100, Loss: 0.16864867508411407\n",
            "Fold 3, Epoch 8200, Loss: 0.1683599352836609\n",
            "Fold 3, Epoch 8300, Loss: 0.16814249753952026\n",
            "Fold 3, Epoch 8400, Loss: 0.16791850328445435\n",
            "Fold 3, Epoch 8500, Loss: 0.16770082712173462\n",
            "Fold 3, Epoch 8600, Loss: 0.1674187183380127\n",
            "Fold 3, Epoch 8700, Loss: 0.1671556979417801\n",
            "Fold 3, Epoch 8800, Loss: 0.16690634191036224\n",
            "Fold 3, Epoch 8900, Loss: 0.16668997704982758\n",
            "Fold 3, Epoch 9000, Loss: 0.16652294993400574\n",
            "Fold 3, Epoch 9100, Loss: 0.16639478504657745\n",
            "Fold 3, Epoch 9200, Loss: 0.16624487936496735\n",
            "Fold 3, Epoch 9300, Loss: 0.16607584059238434\n",
            "Fold 3, Epoch 9400, Loss: 0.16588178277015686\n",
            "Fold 3, Epoch 9500, Loss: 0.16561904549598694\n",
            "Fold 3, Epoch 9600, Loss: 0.1652708798646927\n",
            "Fold 3, Epoch 9700, Loss: 0.16505971550941467\n",
            "Fold 3, Epoch 9800, Loss: 0.1649242341518402\n",
            "Fold 3, Epoch 9900, Loss: 0.16481170058250427\n",
            "Fold 3, Epoch 10000, Loss: 0.1647178828716278\n",
            "Fold 3, Epoch 10100, Loss: 0.1646522879600525\n",
            "Fold 3, Epoch 10200, Loss: 0.16458866000175476\n",
            "Fold 3, Epoch 10300, Loss: 0.1645159274339676\n",
            "Fold 3, Epoch 10400, Loss: 0.16446878015995026\n",
            "Fold 3, Epoch 10500, Loss: 0.1644289791584015\n",
            "Fold 3, Epoch 10600, Loss: 0.16439984738826752\n",
            "Fold 3, Epoch 10700, Loss: 0.16438156366348267\n",
            "Fold 3, Epoch 10800, Loss: 0.16436535120010376\n",
            "Fold 3, Epoch 10900, Loss: 0.16434575617313385\n",
            "Fold 3, Epoch 11000, Loss: 0.1643219292163849\n",
            "Fold 3, Epoch 11100, Loss: 0.16430748999118805\n",
            "Fold 3, Epoch 11200, Loss: 0.16428835690021515\n",
            "Fold 3, Epoch 11300, Loss: 0.16424736380577087\n",
            "Fold 3, Epoch 11400, Loss: 0.16422966122627258\n",
            "Fold 3, Epoch 11500, Loss: 0.1642168015241623\n",
            "Fold 3, Epoch 11600, Loss: 0.1642037034034729\n",
            "Fold 3, Epoch 11700, Loss: 0.16418813169002533\n",
            "Fold 3, Epoch 11800, Loss: 0.16416457295417786\n",
            "Fold 3, Epoch 11900, Loss: 0.1641516387462616\n",
            "Fold 3, Epoch 12000, Loss: 0.16414006054401398\n",
            "Fold 3, Epoch 12100, Loss: 0.16412697732448578\n",
            "Fold 3, Epoch 12200, Loss: 0.16411550343036652\n",
            "Fold 3, Epoch 12300, Loss: 0.1641058623790741\n",
            "Fold 3, Epoch 12400, Loss: 0.16409434378147125\n",
            "Fold 3, Epoch 12500, Loss: 0.16408731043338776\n",
            "Fold 3, Epoch 12600, Loss: 0.1640782356262207\n",
            "Fold 3, Epoch 12700, Loss: 0.16407224535942078\n",
            "Fold 3, Epoch 12800, Loss: 0.16406762599945068\n",
            "Fold 3, Epoch 12900, Loss: 0.1640637218952179\n",
            "Fold 3, Epoch 13000, Loss: 0.1640600562095642\n",
            "Fold 3, Epoch 13100, Loss: 0.16405697166919708\n",
            "Fold 3, Epoch 13200, Loss: 0.16405244171619415\n",
            "Fold 3, Epoch 13300, Loss: 0.1640448421239853\n",
            "Fold 3, Epoch 13400, Loss: 0.16404011845588684\n",
            "Fold 3, Epoch 13500, Loss: 0.1640320122241974\n",
            "Fold 3, Epoch 13600, Loss: 0.1640280783176422\n",
            "Fold 3, Epoch 13700, Loss: 0.16402320563793182\n",
            "Fold 3, Epoch 13800, Loss: 0.16401910781860352\n",
            "Fold 3, Epoch 13900, Loss: 0.1640150398015976\n",
            "Fold 3, Epoch 14000, Loss: 0.16401199996471405\n",
            "Fold 3, Epoch 14100, Loss: 0.16400742530822754\n",
            "Fold 3, Epoch 14200, Loss: 0.16400589048862457\n",
            "Fold 3, Epoch 14300, Loss: 0.1640026569366455\n",
            "Fold 3, Epoch 14400, Loss: 0.16400058567523956\n",
            "Fold 3, Epoch 14500, Loss: 0.16399827599525452\n",
            "Fold 3, Epoch 14600, Loss: 0.163995161652565\n",
            "Fold 3, Epoch 14700, Loss: 0.16399389505386353\n",
            "Fold 3, Epoch 14800, Loss: 0.16399182379245758\n",
            "Fold 3, Epoch 14900, Loss: 0.16398924589157104\n",
            "Fold 3, Epoch 15000, Loss: 0.16398684680461884\n",
            "Fold 3, Epoch 15100, Loss: 0.1639857143163681\n",
            "Fold 3, Epoch 15200, Loss: 0.16398362815380096\n",
            "Fold 3, Epoch 15300, Loss: 0.1639811247587204\n",
            "Fold 3, Epoch 15400, Loss: 0.16397862136363983\n",
            "Fold 3, Epoch 15500, Loss: 0.1639777421951294\n",
            "Fold 3, Epoch 15600, Loss: 0.16397517919540405\n",
            "Fold 3, Epoch 15700, Loss: 0.16397324204444885\n",
            "Fold 3, Epoch 15800, Loss: 0.16397187113761902\n",
            "Fold 3, Epoch 15900, Loss: 0.16396982967853546\n",
            "Fold 3, Epoch 16000, Loss: 0.16396841406822205\n",
            "Fold 3, Epoch 16100, Loss: 0.1639668196439743\n",
            "Fold 3, Epoch 16200, Loss: 0.1639653891324997\n",
            "Fold 3, Epoch 16300, Loss: 0.16396375000476837\n",
            "Fold 3, Epoch 16400, Loss: 0.16396227478981018\n",
            "Fold 3, Epoch 16500, Loss: 0.1639612764120102\n",
            "Fold 3, Epoch 16600, Loss: 0.16395853459835052\n",
            "Fold 3, Epoch 16700, Loss: 0.16395743191242218\n",
            "Fold 3, Epoch 16800, Loss: 0.16395507752895355\n",
            "Fold 3, Epoch 16900, Loss: 0.1639539748430252\n",
            "Fold 3, Epoch 17000, Loss: 0.16395071148872375\n",
            "Fold 3, Epoch 17100, Loss: 0.16394852101802826\n",
            "Fold 3, Epoch 17200, Loss: 0.16394607722759247\n",
            "Fold 3, Epoch 17300, Loss: 0.1639435738325119\n",
            "Fold 3, Epoch 17400, Loss: 0.16394087672233582\n",
            "Fold 3, Epoch 17500, Loss: 0.16393743455410004\n",
            "Fold 3, Epoch 17600, Loss: 0.16393506526947021\n",
            "Fold 3, Epoch 17700, Loss: 0.16393204033374786\n",
            "Fold 3, Epoch 17800, Loss: 0.16392995417118073\n",
            "Fold 3, Epoch 17900, Loss: 0.16392946243286133\n",
            "Fold 3, Epoch 18000, Loss: 0.1639263778924942\n",
            "Fold 3, Epoch 18100, Loss: 0.16392499208450317\n",
            "Fold 3, Epoch 18200, Loss: 0.16392284631729126\n",
            "Fold 3, Epoch 18300, Loss: 0.16392205655574799\n",
            "Fold 3, Epoch 18400, Loss: 0.16391955316066742\n",
            "Fold 3, Epoch 18500, Loss: 0.16391703486442566\n",
            "Fold 3, Epoch 18600, Loss: 0.16391193866729736\n",
            "Fold 3, Epoch 18700, Loss: 0.16390489041805267\n",
            "Fold 3, Epoch 18800, Loss: 0.16390101611614227\n",
            "Fold 3, Epoch 18900, Loss: 0.16389864683151245\n",
            "Fold 3, Epoch 19000, Loss: 0.163896381855011\n",
            "Fold 3, Epoch 19100, Loss: 0.16389483213424683\n",
            "Fold 3, Epoch 19200, Loss: 0.16389267146587372\n",
            "Fold 3, Epoch 19300, Loss: 0.1638910323381424\n",
            "Fold 3, Epoch 19400, Loss: 0.16388963162899017\n",
            "Fold 3, Epoch 19500, Loss: 0.16388839483261108\n",
            "Fold 3, Epoch 19600, Loss: 0.1638871282339096\n",
            "Fold 3, Epoch 19700, Loss: 0.16388261318206787\n",
            "Fold 3, Epoch 19800, Loss: 0.1638808250427246\n",
            "Fold 3, Epoch 19900, Loss: 0.1638777107000351\n",
            "Fold 3, Epoch 20000, Loss: 0.16387277841567993\n",
            "Fold 3, Epoch 20100, Loss: 0.16386954486370087\n",
            "Fold 3, Epoch 20200, Loss: 0.16386665403842926\n",
            "Fold 3, Epoch 20300, Loss: 0.16386283934116364\n",
            "Fold 3, Epoch 20400, Loss: 0.1638607233762741\n",
            "Fold 3, Epoch 20500, Loss: 0.16385887563228607\n",
            "Fold 3, Epoch 20600, Loss: 0.16385677456855774\n",
            "Fold 3, Epoch 20700, Loss: 0.1638549566268921\n",
            "Fold 3, Epoch 20800, Loss: 0.16385379433631897\n",
            "Fold 3, Epoch 20900, Loss: 0.16385166347026825\n",
            "Fold 3, Epoch 21000, Loss: 0.16385002434253693\n",
            "Fold 3, Epoch 21100, Loss: 0.16384847462177277\n",
            "Fold 3, Epoch 21200, Loss: 0.1638467013835907\n",
            "Fold 3, Epoch 21300, Loss: 0.16384409368038177\n",
            "Fold 3, Epoch 21400, Loss: 0.16384199261665344\n",
            "Fold 3, Epoch 21500, Loss: 0.16383971273899078\n",
            "Fold 3, Epoch 21600, Loss: 0.16384048759937286\n",
            "Fold 3, Epoch 21700, Loss: 0.16383667290210724\n",
            "Fold 3, Epoch 21800, Loss: 0.1638363152742386\n",
            "Fold 3, Epoch 21900, Loss: 0.16383451223373413\n",
            "Fold 3, Epoch 22000, Loss: 0.16383244097232819\n",
            "Fold 3, Epoch 22100, Loss: 0.16383031010627747\n",
            "Fold 3, Epoch 22200, Loss: 0.16382881999015808\n",
            "Fold 3, Epoch 22300, Loss: 0.16382703185081482\n",
            "Fold 3, Epoch 22400, Loss: 0.16382509469985962\n",
            "Fold 3, Epoch 22500, Loss: 0.16382429003715515\n",
            "Fold 3, Epoch 22600, Loss: 0.16382195055484772\n",
            "Fold 3, Epoch 22700, Loss: 0.16381995379924774\n",
            "Fold 3, Epoch 22800, Loss: 0.16381877660751343\n",
            "Fold 3, Epoch 22900, Loss: 0.16381697356700897\n",
            "Fold 3, Epoch 23000, Loss: 0.16381491720676422\n",
            "Fold 3, Epoch 23100, Loss: 0.1638127714395523\n",
            "Fold 3, Epoch 23200, Loss: 0.16381141543388367\n",
            "Fold 3, Epoch 23300, Loss: 0.16380880773067474\n",
            "Fold 3, Epoch 23400, Loss: 0.16380731761455536\n",
            "Fold 3, Epoch 23500, Loss: 0.16380473971366882\n",
            "Fold 3, Epoch 23600, Loss: 0.16380466520786285\n",
            "Fold 3, Epoch 23700, Loss: 0.1638011485338211\n",
            "Fold 3, Epoch 23800, Loss: 0.16380183398723602\n",
            "Fold 3, Epoch 23900, Loss: 0.1637977957725525\n",
            "Fold 3, Epoch 24000, Loss: 0.16379477083683014\n",
            "Fold 3, Epoch 24100, Loss: 0.1637905389070511\n",
            "Fold 3, Epoch 24200, Loss: 0.16378653049468994\n",
            "Fold 3, Epoch 24300, Loss: 0.16378526389598846\n",
            "Fold 3, Epoch 24400, Loss: 0.1637820154428482\n",
            "Fold 3, Epoch 24500, Loss: 0.16377969086170197\n",
            "Fold 3, Epoch 24600, Loss: 0.16377772390842438\n",
            "Fold 3, Epoch 24700, Loss: 0.16377614438533783\n",
            "Fold 3, Epoch 24800, Loss: 0.1637747883796692\n",
            "Fold 3, Epoch 24900, Loss: 0.1637738049030304\n",
            "Fold 3, Loss: 0.1673455685377121\n",
            "Fold 3 saved\n",
            "Fold 4, Epoch 0, Loss: 0.9999988675117493\n",
            "Fold 4, Epoch 100, Loss: 0.9999949336051941\n",
            "Fold 4, Epoch 200, Loss: 0.999982476234436\n",
            "Fold 4, Epoch 300, Loss: 0.9999467730522156\n",
            "Fold 4, Epoch 400, Loss: 0.9998003840446472\n",
            "Fold 4, Epoch 500, Loss: 0.9984126687049866\n",
            "Fold 4, Epoch 600, Loss: 0.9728653430938721\n",
            "Fold 4, Epoch 700, Loss: 0.7971373200416565\n",
            "Fold 4, Epoch 800, Loss: 0.6461388468742371\n",
            "Fold 4, Epoch 900, Loss: 0.48230409622192383\n",
            "Fold 4, Epoch 1000, Loss: 0.3771255314350128\n",
            "Fold 4, Epoch 1100, Loss: 0.31504666805267334\n",
            "Fold 4, Epoch 1200, Loss: 0.2710881531238556\n",
            "Fold 4, Epoch 1300, Loss: 0.23922179639339447\n",
            "Fold 4, Epoch 1400, Loss: 0.21884140372276306\n",
            "Fold 4, Epoch 1500, Loss: 0.2073446661233902\n",
            "Fold 4, Epoch 1600, Loss: 0.20103736221790314\n",
            "Fold 4, Epoch 1700, Loss: 0.197117418050766\n",
            "Fold 4, Epoch 1800, Loss: 0.19432270526885986\n",
            "Fold 4, Epoch 1900, Loss: 0.1921686977148056\n",
            "Fold 4, Epoch 2000, Loss: 0.19040347635746002\n",
            "Fold 4, Epoch 2100, Loss: 0.1887902170419693\n",
            "Fold 4, Epoch 2200, Loss: 0.18738079071044922\n",
            "Fold 4, Epoch 2300, Loss: 0.1861840933561325\n",
            "Fold 4, Epoch 2400, Loss: 0.18512798845767975\n",
            "Fold 4, Epoch 2500, Loss: 0.18416422605514526\n",
            "Fold 4, Epoch 2600, Loss: 0.18325945734977722\n",
            "Fold 4, Epoch 2700, Loss: 0.18243025243282318\n",
            "Fold 4, Epoch 2800, Loss: 0.18171454966068268\n",
            "Fold 4, Epoch 2900, Loss: 0.18107321858406067\n",
            "Fold 4, Epoch 3000, Loss: 0.18049059808254242\n",
            "Fold 4, Epoch 3100, Loss: 0.17995356023311615\n",
            "Fold 4, Epoch 3200, Loss: 0.1794329732656479\n",
            "Fold 4, Epoch 3300, Loss: 0.178926482796669\n",
            "Fold 4, Epoch 3400, Loss: 0.17843103408813477\n",
            "Fold 4, Epoch 3500, Loss: 0.17794190347194672\n",
            "Fold 4, Epoch 3600, Loss: 0.1774470955133438\n",
            "Fold 4, Epoch 3700, Loss: 0.17694927752017975\n",
            "Fold 4, Epoch 3800, Loss: 0.17644503712654114\n",
            "Fold 4, Epoch 3900, Loss: 0.17595244944095612\n",
            "Fold 4, Epoch 4000, Loss: 0.17550909519195557\n",
            "Fold 4, Epoch 4100, Loss: 0.17508842051029205\n",
            "Fold 4, Epoch 4200, Loss: 0.17468461394309998\n",
            "Fold 4, Epoch 4300, Loss: 0.1743178367614746\n",
            "Fold 4, Epoch 4400, Loss: 0.1739581674337387\n",
            "Fold 4, Epoch 4500, Loss: 0.17359808087348938\n",
            "Fold 4, Epoch 4600, Loss: 0.173232302069664\n",
            "Fold 4, Epoch 4700, Loss: 0.172836035490036\n",
            "Fold 4, Epoch 4800, Loss: 0.17243176698684692\n",
            "Fold 4, Epoch 4900, Loss: 0.17205342650413513\n",
            "Fold 4, Epoch 5000, Loss: 0.1716785877943039\n",
            "Fold 4, Epoch 5100, Loss: 0.17129868268966675\n",
            "Fold 4, Epoch 5200, Loss: 0.17091026902198792\n",
            "Fold 4, Epoch 5300, Loss: 0.17053014039993286\n",
            "Fold 4, Epoch 5400, Loss: 0.17017555236816406\n",
            "Fold 4, Epoch 5500, Loss: 0.16983896493911743\n",
            "Fold 4, Epoch 5600, Loss: 0.16950064897537231\n",
            "Fold 4, Epoch 5700, Loss: 0.16915340721607208\n",
            "Fold 4, Epoch 5800, Loss: 0.16879263520240784\n",
            "Fold 4, Epoch 5900, Loss: 0.168389230966568\n",
            "Fold 4, Epoch 6000, Loss: 0.16774065792560577\n",
            "Fold 4, Epoch 6100, Loss: 0.16636762022972107\n",
            "Fold 4, Epoch 6200, Loss: 0.16482913494110107\n",
            "Fold 4, Epoch 6300, Loss: 0.1633889526128769\n",
            "Fold 4, Epoch 6400, Loss: 0.16147419810295105\n",
            "Fold 4, Epoch 6500, Loss: 0.15926018357276917\n",
            "Fold 4, Epoch 6600, Loss: 0.15699715912342072\n",
            "Fold 4, Epoch 6700, Loss: 0.15471304953098297\n",
            "Fold 4, Epoch 6800, Loss: 0.15255875885486603\n",
            "Fold 4, Epoch 6900, Loss: 0.15048156678676605\n",
            "Fold 4, Epoch 7000, Loss: 0.14846277236938477\n",
            "Fold 4, Epoch 7100, Loss: 0.14662301540374756\n",
            "Fold 4, Epoch 7200, Loss: 0.14495421946048737\n",
            "Fold 4, Epoch 7300, Loss: 0.1435757726430893\n",
            "Fold 4, Epoch 7400, Loss: 0.1423187106847763\n",
            "Fold 4, Epoch 7500, Loss: 0.14096520841121674\n",
            "Fold 4, Epoch 7600, Loss: 0.13986381888389587\n",
            "Fold 4, Epoch 7700, Loss: 0.13888075947761536\n",
            "Fold 4, Epoch 7800, Loss: 0.13798680901527405\n",
            "Fold 4, Epoch 7900, Loss: 0.1372244507074356\n",
            "Fold 4, Epoch 8000, Loss: 0.1366109699010849\n",
            "Fold 4, Epoch 8100, Loss: 0.13603553175926208\n",
            "Fold 4, Epoch 8200, Loss: 0.13548439741134644\n",
            "Fold 4, Epoch 8300, Loss: 0.13496235013008118\n",
            "Fold 4, Epoch 8400, Loss: 0.13452747464179993\n",
            "Fold 4, Epoch 8500, Loss: 0.1341497153043747\n",
            "Fold 4, Epoch 8600, Loss: 0.13378185033798218\n",
            "Fold 4, Epoch 8700, Loss: 0.13334040343761444\n",
            "Fold 4, Epoch 8800, Loss: 0.13286978006362915\n",
            "Fold 4, Epoch 8900, Loss: 0.13238640129566193\n",
            "Fold 4, Epoch 9000, Loss: 0.13192041218280792\n",
            "Fold 4, Epoch 9100, Loss: 0.13153348863124847\n",
            "Fold 4, Epoch 9200, Loss: 0.13115333020687103\n",
            "Fold 4, Epoch 9300, Loss: 0.13083107769489288\n",
            "Fold 4, Epoch 9400, Loss: 0.13055284321308136\n",
            "Fold 4, Epoch 9500, Loss: 0.13030298054218292\n",
            "Fold 4, Epoch 9600, Loss: 0.13011860847473145\n",
            "Fold 4, Epoch 9700, Loss: 0.12995806336402893\n",
            "Fold 4, Epoch 9800, Loss: 0.12981176376342773\n",
            "Fold 4, Epoch 9900, Loss: 0.1296529322862625\n",
            "Fold 4, Epoch 10000, Loss: 0.12948963046073914\n",
            "Fold 4, Epoch 10100, Loss: 0.1293218582868576\n",
            "Fold 4, Epoch 10200, Loss: 0.12913170456886292\n",
            "Fold 4, Epoch 10300, Loss: 0.12890388071537018\n",
            "Fold 4, Epoch 10400, Loss: 0.12868036329746246\n",
            "Fold 4, Epoch 10500, Loss: 0.12852932512760162\n",
            "Fold 4, Epoch 10600, Loss: 0.12838245928287506\n",
            "Fold 4, Epoch 10700, Loss: 0.1282428652048111\n",
            "Fold 4, Epoch 10800, Loss: 0.12812121212482452\n",
            "Fold 4, Epoch 10900, Loss: 0.12799520790576935\n",
            "Fold 4, Epoch 11000, Loss: 0.1278485357761383\n",
            "Fold 4, Epoch 11100, Loss: 0.12769880890846252\n",
            "Fold 4, Epoch 11200, Loss: 0.12757335603237152\n",
            "Fold 4, Epoch 11300, Loss: 0.12744277715682983\n",
            "Fold 4, Epoch 11400, Loss: 0.12734004855155945\n",
            "Fold 4, Epoch 11500, Loss: 0.12725698947906494\n",
            "Fold 4, Epoch 11600, Loss: 0.12717300653457642\n",
            "Fold 4, Epoch 11700, Loss: 0.12708406150341034\n",
            "Fold 4, Epoch 11800, Loss: 0.12699861824512482\n",
            "Fold 4, Epoch 11900, Loss: 0.12691399455070496\n",
            "Fold 4, Epoch 12000, Loss: 0.12683254480361938\n",
            "Fold 4, Epoch 12100, Loss: 0.12676361203193665\n",
            "Fold 4, Epoch 12200, Loss: 0.1266724318265915\n",
            "Fold 4, Epoch 12300, Loss: 0.12661157548427582\n",
            "Fold 4, Epoch 12400, Loss: 0.12653684616088867\n",
            "Fold 4, Epoch 12500, Loss: 0.12646779417991638\n",
            "Fold 4, Epoch 12600, Loss: 0.12641017138957977\n",
            "Fold 4, Epoch 12700, Loss: 0.12635238468647003\n",
            "Fold 4, Epoch 12800, Loss: 0.12630300223827362\n",
            "Fold 4, Epoch 12900, Loss: 0.12626178562641144\n",
            "Fold 4, Epoch 13000, Loss: 0.12621761858463287\n",
            "Fold 4, Epoch 13100, Loss: 0.12617145478725433\n",
            "Fold 4, Epoch 13200, Loss: 0.12612029910087585\n",
            "Fold 4, Epoch 13300, Loss: 0.1260751634836197\n",
            "Fold 4, Epoch 13400, Loss: 0.12603524327278137\n",
            "Fold 4, Epoch 13500, Loss: 0.12599757313728333\n",
            "Fold 4, Epoch 13600, Loss: 0.1259707361459732\n",
            "Fold 4, Epoch 13700, Loss: 0.12594406306743622\n",
            "Fold 4, Epoch 13800, Loss: 0.12592308223247528\n",
            "Fold 4, Epoch 13900, Loss: 0.12589707970619202\n",
            "Fold 4, Epoch 14000, Loss: 0.12587223947048187\n",
            "Fold 4, Epoch 14100, Loss: 0.12584686279296875\n",
            "Fold 4, Epoch 14200, Loss: 0.12581899762153625\n",
            "Fold 4, Epoch 14300, Loss: 0.12579412758350372\n",
            "Fold 4, Epoch 14400, Loss: 0.12576071918010712\n",
            "Fold 4, Epoch 14500, Loss: 0.12572522461414337\n",
            "Fold 4, Epoch 14600, Loss: 0.12568844854831696\n",
            "Fold 4, Epoch 14700, Loss: 0.12565015256404877\n",
            "Fold 4, Epoch 14800, Loss: 0.12561672925949097\n",
            "Fold 4, Epoch 14900, Loss: 0.12558519840240479\n",
            "Fold 4, Epoch 15000, Loss: 0.12554478645324707\n",
            "Fold 4, Epoch 15100, Loss: 0.12550538778305054\n",
            "Fold 4, Epoch 15200, Loss: 0.12546752393245697\n",
            "Fold 4, Epoch 15300, Loss: 0.12543758749961853\n",
            "Fold 4, Epoch 15400, Loss: 0.12541480362415314\n",
            "Fold 4, Epoch 15500, Loss: 0.12539227306842804\n",
            "Fold 4, Epoch 15600, Loss: 0.12537367641925812\n",
            "Fold 4, Epoch 15700, Loss: 0.1253529191017151\n",
            "Fold 4, Epoch 15800, Loss: 0.12533561885356903\n",
            "Fold 4, Epoch 15900, Loss: 0.12531821429729462\n",
            "Fold 4, Epoch 16000, Loss: 0.1253029704093933\n",
            "Fold 4, Epoch 16100, Loss: 0.125288724899292\n",
            "Fold 4, Epoch 16200, Loss: 0.12527473270893097\n",
            "Fold 4, Epoch 16300, Loss: 0.12525783479213715\n",
            "Fold 4, Epoch 16400, Loss: 0.12524227797985077\n",
            "Fold 4, Epoch 16500, Loss: 0.12522557377815247\n",
            "Fold 4, Epoch 16600, Loss: 0.12520885467529297\n",
            "Fold 4, Epoch 16700, Loss: 0.1251908838748932\n",
            "Fold 4, Epoch 16800, Loss: 0.1251760870218277\n",
            "Fold 4, Epoch 16900, Loss: 0.12516027688980103\n",
            "Fold 4, Epoch 17000, Loss: 0.1251423954963684\n",
            "Fold 4, Epoch 17100, Loss: 0.12512221932411194\n",
            "Fold 4, Epoch 17200, Loss: 0.12510526180267334\n",
            "Fold 4, Epoch 17300, Loss: 0.12508586049079895\n",
            "Fold 4, Epoch 17400, Loss: 0.1250610500574112\n",
            "Fold 4, Epoch 17500, Loss: 0.12504112720489502\n",
            "Fold 4, Epoch 17600, Loss: 0.12502551078796387\n",
            "Fold 4, Epoch 17700, Loss: 0.12501254677772522\n",
            "Fold 4, Epoch 17800, Loss: 0.12499193847179413\n",
            "Fold 4, Epoch 17900, Loss: 0.1249786764383316\n",
            "Fold 4, Epoch 18000, Loss: 0.12496492266654968\n",
            "Fold 4, Epoch 18100, Loss: 0.12495128065347672\n",
            "Fold 4, Epoch 18200, Loss: 0.12493567913770676\n",
            "Fold 4, Epoch 18300, Loss: 0.12492292374372482\n",
            "Fold 4, Epoch 18400, Loss: 0.1249118521809578\n",
            "Fold 4, Epoch 18500, Loss: 0.12490089982748032\n",
            "Fold 4, Epoch 18600, Loss: 0.12489283084869385\n",
            "Fold 4, Epoch 18700, Loss: 0.12488580495119095\n",
            "Fold 4, Epoch 18800, Loss: 0.12488189339637756\n",
            "Fold 4, Epoch 18900, Loss: 0.12487276643514633\n",
            "Fold 4, Epoch 19000, Loss: 0.12486262619495392\n",
            "Fold 4, Epoch 19100, Loss: 0.12485606223344803\n",
            "Fold 4, Epoch 19200, Loss: 0.1248450055718422\n",
            "Fold 4, Epoch 19300, Loss: 0.1248386949300766\n",
            "Fold 4, Epoch 19400, Loss: 0.12481901049613953\n",
            "Fold 4, Epoch 19500, Loss: 0.1248110979795456\n",
            "Fold 4, Epoch 19600, Loss: 0.12480106204748154\n",
            "Fold 4, Epoch 19700, Loss: 0.1247912347316742\n",
            "Fold 4, Epoch 19800, Loss: 0.12477931380271912\n",
            "Fold 4, Epoch 19900, Loss: 0.12476644665002823\n",
            "Fold 4, Epoch 20000, Loss: 0.12475153803825378\n",
            "Fold 4, Epoch 20100, Loss: 0.1247430220246315\n",
            "Fold 4, Epoch 20200, Loss: 0.12473418563604355\n",
            "Fold 4, Epoch 20300, Loss: 0.12472371757030487\n",
            "Fold 4, Epoch 20400, Loss: 0.12471308559179306\n",
            "Fold 4, Epoch 20500, Loss: 0.12470389157533646\n",
            "Fold 4, Epoch 20600, Loss: 0.12469159066677094\n",
            "Fold 4, Epoch 20700, Loss: 0.12468255311250687\n",
            "Fold 4, Epoch 20800, Loss: 0.12467505782842636\n",
            "Fold 4, Epoch 20900, Loss: 0.12466340512037277\n",
            "Fold 4, Epoch 21000, Loss: 0.1246563196182251\n",
            "Fold 4, Epoch 21100, Loss: 0.12464802712202072\n",
            "Fold 4, Epoch 21200, Loss: 0.12464054673910141\n",
            "Fold 4, Epoch 21300, Loss: 0.12463239580392838\n",
            "Fold 4, Epoch 21400, Loss: 0.12462562322616577\n",
            "Fold 4, Epoch 21500, Loss: 0.12461815029382706\n",
            "Fold 4, Epoch 21600, Loss: 0.12461169809103012\n",
            "Fold 4, Epoch 21700, Loss: 0.1246040016412735\n",
            "Fold 4, Epoch 21800, Loss: 0.12459807097911835\n",
            "Fold 4, Epoch 21900, Loss: 0.12459404766559601\n",
            "Fold 4, Epoch 22000, Loss: 0.12458872050046921\n",
            "Fold 4, Epoch 22100, Loss: 0.12458482384681702\n",
            "Fold 4, Epoch 22200, Loss: 0.12458310276269913\n",
            "Fold 4, Epoch 22300, Loss: 0.1245766207575798\n",
            "Fold 4, Epoch 22400, Loss: 0.12457332760095596\n",
            "Fold 4, Epoch 22500, Loss: 0.1245688796043396\n",
            "Fold 4, Epoch 22600, Loss: 0.12456687539815903\n",
            "Fold 4, Epoch 22700, Loss: 0.12456148117780685\n",
            "Fold 4, Epoch 22800, Loss: 0.12455926835536957\n",
            "Fold 4, Epoch 22900, Loss: 0.12455514073371887\n",
            "Fold 4, Epoch 23000, Loss: 0.12454941868782043\n",
            "Fold 4, Epoch 23100, Loss: 0.12454673647880554\n",
            "Fold 4, Epoch 23200, Loss: 0.12453962117433548\n",
            "Fold 4, Epoch 23300, Loss: 0.12453794479370117\n",
            "Fold 4, Epoch 23400, Loss: 0.12453299760818481\n",
            "Fold 4, Epoch 23500, Loss: 0.12452962249517441\n",
            "Fold 4, Epoch 23600, Loss: 0.12452534586191177\n",
            "Fold 4, Epoch 23700, Loss: 0.12452279031276703\n",
            "Fold 4, Epoch 23800, Loss: 0.12451976537704468\n",
            "Fold 4, Epoch 23900, Loss: 0.1245131865143776\n",
            "Fold 4, Epoch 24000, Loss: 0.12451033294200897\n",
            "Fold 4, Epoch 24100, Loss: 0.1245034709572792\n",
            "Fold 4, Epoch 24200, Loss: 0.12450078874826431\n",
            "Fold 4, Epoch 24300, Loss: 0.12449802458286285\n",
            "Fold 4, Epoch 24400, Loss: 0.1244926005601883\n",
            "Fold 4, Epoch 24500, Loss: 0.12448939681053162\n",
            "Fold 4, Epoch 24600, Loss: 0.12448679655790329\n",
            "Fold 4, Epoch 24700, Loss: 0.12448541074991226\n",
            "Fold 4, Epoch 24800, Loss: 0.12448202073574066\n",
            "Fold 4, Epoch 24900, Loss: 0.12447966635227203\n",
            "Fold 4, Loss: 0.13085778057575226\n",
            "Fold 4 saved\n"
          ]
        }
      ],
      "source": [
        "model.apply(reset_weights)\n",
        "# Loop pelos folds\n",
        "for fold, (train_index, val_index) in enumerate(KFold().split(X, y)):\n",
        "    # Separar os dados em treino e teste\n",
        "    X_train, y_train = X.loc[train_index,:].values, y.loc[train_index].values\n",
        "    X_test, y_test = X.loc[val_index,:].values, y.loc[val_index].values\n",
        "\n",
        "    X_train = torch.from_numpy(X_train).to(device)\n",
        "    y_train = torch.from_numpy(y_train).to(device)\n",
        "    X_test = torch.from_numpy(X_test).to(device)\n",
        "    y_test = torch.from_numpy(y_test).to(device)\n",
        "\n",
        "    # Treinar o modelo\n",
        "    for epoch in range(25000):\n",
        "        # Forward pass\n",
        "        X_train = X_train.float()\n",
        "        y_pred = model(X_train)\n",
        "        # Calcular a perda\n",
        "        loss = loss_fn(y_pred.squeeze(), y_train)\n",
        "\n",
        "        # Backward pass e atualização dos pesos\n",
        "        optimizer.zero_grad()\n",
        "        loss.backward()\n",
        "        optimizer.step()\n",
        "\n",
        "        # Imprimir a perda a cada 100 épocas\n",
        "        if epoch % 100 == 0:\n",
        "            print('Fold {}, Epoch {}, Loss: {}'.format(fold, epoch, loss.item()))\n",
        "\n",
        "    #Testando\n",
        "    X_test = X_test.float()\n",
        "    print('Fold {}, Loss: {}'.format(fold, loss_fn(model(X_test).squeeze() ,y_test)))\n",
        "    #Salvando o modelo\n",
        "    torch.save(model.state_dict(), '/content/drive/MyDrive/FILIPE_DA_SILVA_ARAUJO_RNA_FOLD_{}.pth'.format(fold))\n",
        "    torch.save(model.state_dict(), '/content/FILIPE_DA_SILVA_ARAUJO_RNA_FOLD_{}.pth'.format(fold))\n",
        "    print('Fold {} saved'.format(fold))\n",
        "\n",
        "    #Reiniciando o modelo para o próximo Fold\n",
        "    model.apply(reset_weights)"
      ]
    },
    {
      "cell_type": "code",
      "execution_count": null,
      "metadata": {
        "id": "pHVtqBWtr4hd"
      },
      "outputs": [],
      "source": [
        "predicted_prices = []\n",
        "for fold, (train_index, val_index) in enumerate(KFold().split(X, y)):\n",
        "    X_test, y_test = X.loc[val_index,:].values, y.loc[val_index].values\n",
        "    X_test = torch.from_numpy(X_test).to(device)\n",
        "    y_test = torch.from_numpy(y_test).to(device)\n",
        "\n",
        "    model.load_state_dict(torch.load(\"/content/drive/MyDrive/FILIPE_DA_SILVA_ARAUJO_RNA_FOLD_{}.pth\".format(fold)))\n",
        "\n",
        "    X_test = X_test.float()\n",
        "    model.eval()\n",
        "    with torch.no_grad():\n",
        "        pred = model(X_test)\n",
        "\n",
        "    pred = pred.detach().cpu().numpy().squeeze()\n",
        "    predicted_prices.append(pred)"
      ]
    },
    {
      "cell_type": "code",
      "execution_count": null,
      "metadata": {
        "id": "tZJdFRKd-9W8"
      },
      "outputs": [],
      "source": [
        "predicted_prices = pd.DataFrame(predicted_prices)"
      ]
    },
    {
      "cell_type": "code",
      "execution_count": null,
      "metadata": {
        "id": "gRvSK5Qh_dRL"
      },
      "outputs": [],
      "source": [
        "predicted_prices = pd.concat([predicted_prices.loc[0], predicted_prices.loc[1], predicted_prices.loc[2], predicted_prices.loc[3], predicted_prices.loc[4]], axis=0)"
      ]
    },
    {
      "cell_type": "code",
      "execution_count": null,
      "metadata": {
        "id": "W0fpB9nsBGsb",
        "colab": {
          "base_uri": "https://localhost:8080/"
        },
        "outputId": "801a1e97-59cd-4826-e58b-01ce632551d7"
      },
      "outputs": [
        {
          "output_type": "execute_result",
          "data": {
            "text/plain": [
              "0       492437.781250\n",
              "1       630468.875000\n",
              "2       247024.140625\n",
              "3       331984.343750\n",
              "4       429305.125000\n",
              "            ...      \n",
              "4318    568245.250000\n",
              "4319    398543.125000\n",
              "4320    488314.531250\n",
              "4321    297528.125000\n",
              "4322              NaN\n",
              "Length: 21615, dtype: float64"
            ]
          },
          "metadata": {},
          "execution_count": 25
        }
      ],
      "source": [
        "predicted_prices"
      ]
    },
    {
      "cell_type": "code",
      "execution_count": null,
      "metadata": {
        "id": "QPIwvOp-3UyR"
      },
      "outputs": [],
      "source": [
        "predicted_prices = predicted_prices.squeeze()"
      ]
    },
    {
      "cell_type": "code",
      "execution_count": null,
      "metadata": {
        "id": "O538RRKW-nhj",
        "colab": {
          "base_uri": "https://localhost:8080/"
        },
        "outputId": "737e4b8d-dacd-4039-d12b-d53dcc501401"
      },
      "outputs": [
        {
          "output_type": "execute_result",
          "data": {
            "text/plain": [
              "0       492437.781250\n",
              "1       630468.875000\n",
              "2       247024.140625\n",
              "3       331984.343750\n",
              "4       429305.125000\n",
              "            ...      \n",
              "4318    568245.250000\n",
              "4319    398543.125000\n",
              "4320    488314.531250\n",
              "4321    297528.125000\n",
              "4322              NaN\n",
              "Length: 21615, dtype: float64"
            ]
          },
          "metadata": {},
          "execution_count": 27
        }
      ],
      "source": [
        "predicted_prices"
      ]
    },
    {
      "cell_type": "code",
      "execution_count": null,
      "metadata": {
        "id": "twnk7n573DE-",
        "colab": {
          "base_uri": "https://localhost:8080/"
        },
        "outputId": "f88abff7-0fc9-4dee-ca28-a3d95c498557"
      },
      "outputs": [
        {
          "output_type": "execute_result",
          "data": {
            "text/plain": [
              "0        492437.781250\n",
              "1        630468.875000\n",
              "2        247024.140625\n",
              "3        331984.343750\n",
              "4        429305.125000\n",
              "             ...      \n",
              "21610    568245.250000\n",
              "21611    398543.125000\n",
              "21612    488314.531250\n",
              "21613    297528.125000\n",
              "21614              NaN\n",
              "Length: 21615, dtype: float64"
            ]
          },
          "metadata": {},
          "execution_count": 28
        }
      ],
      "source": [
        "predicted_prices.reset_index(drop=True)"
      ]
    },
    {
      "cell_type": "code",
      "execution_count": null,
      "metadata": {
        "id": "jx8QIDxoCTng",
        "colab": {
          "base_uri": "https://localhost:8080/"
        },
        "outputId": "d243d9d5-ff50-4499-d34f-6fc68f5e5c23"
      },
      "outputs": [
        {
          "output_type": "execute_result",
          "data": {
            "text/plain": [
              "4"
            ]
          },
          "metadata": {},
          "execution_count": 29
        }
      ],
      "source": [
        "predicted_prices.isnull().sum()"
      ]
    },
    {
      "cell_type": "code",
      "execution_count": null,
      "metadata": {
        "id": "93--o_H0DI-c",
        "colab": {
          "base_uri": "https://localhost:8080/"
        },
        "outputId": "ab52ebce-72e8-4dcd-f78b-49a3c85e6abe"
      },
      "outputs": [
        {
          "output_type": "execute_result",
          "data": {
            "text/plain": [
              "(array([ 8645, 12968, 17291, 21614]),)"
            ]
          },
          "metadata": {},
          "execution_count": 30
        }
      ],
      "source": [
        "np.where(predicted_prices.isnull().values==True)"
      ]
    },
    {
      "cell_type": "code",
      "execution_count": null,
      "metadata": {
        "id": "gqvIaohHGEtt",
        "colab": {
          "base_uri": "https://localhost:8080/"
        },
        "outputId": "86e18e59-8b65-4e74-e6ce-f648b54fc7f8"
      },
      "outputs": [
        {
          "output_type": "execute_result",
          "data": {
            "text/plain": [
              "pandas.core.series.Series"
            ]
          },
          "metadata": {},
          "execution_count": 31
        }
      ],
      "source": [
        "type(predicted_prices)"
      ]
    },
    {
      "cell_type": "code",
      "execution_count": null,
      "metadata": {
        "id": "DIUl7Q0ACTqp"
      },
      "outputs": [],
      "source": [
        "predicted_prices = predicted_prices.values.tolist()"
      ]
    },
    {
      "cell_type": "code",
      "execution_count": null,
      "metadata": {
        "id": "S9FFAGSXGZnX",
        "colab": {
          "base_uri": "https://localhost:8080/"
        },
        "outputId": "ef2a7de7-e92e-45bb-d503-1da03e40489f"
      },
      "outputs": [
        {
          "output_type": "execute_result",
          "data": {
            "text/plain": [
              "list"
            ]
          },
          "metadata": {},
          "execution_count": 33
        }
      ],
      "source": [
        "type(predicted_prices)"
      ]
    },
    {
      "cell_type": "code",
      "execution_count": null,
      "metadata": {
        "id": "yfsuxW98CTwT"
      },
      "outputs": [],
      "source": [
        "del predicted_prices[8645]\n",
        "del predicted_prices[12968]\n",
        "del predicted_prices[12968]\n",
        "del predicted_prices[12968]"
      ]
    },
    {
      "cell_type": "code",
      "execution_count": null,
      "metadata": {
        "id": "dwFh6cKoIz6e",
        "colab": {
          "base_uri": "https://localhost:8080/"
        },
        "outputId": "47cafc20-94c6-4def-e07d-24a713503728"
      },
      "outputs": [
        {
          "output_type": "stream",
          "name": "stdout",
          "text": [
            "21611\n"
          ]
        }
      ],
      "source": [
        "print(len(predicted_prices))"
      ]
    },
    {
      "cell_type": "code",
      "execution_count": null,
      "metadata": {
        "id": "CmuhYjPGDKXq",
        "colab": {
          "base_uri": "https://localhost:8080/",
          "height": 406
        },
        "outputId": "eb237414-6858-41d9-8dce-2069d9fded0a"
      },
      "outputs": [
        {
          "output_type": "display_data",
          "data": {
            "text/plain": [
              "<Figure size 640x480 with 1 Axes>"
            ],
            "image/png": "[encoded data removed]"
          },
          "metadata": {}
        }
      ],
      "source": [
        "import matplotlib.pyplot as plt\n",
        "plt.scatter(y, predicted_prices, color='black', )\n",
        "plt.plot(np.arange(np.min(y), np.max(y)), np.arange(np.min(y), np.max(y)), color=\"red\", linewidth=3)\n",
        "\n",
        "plt.xticks(())\n",
        "plt.yticks(())\n",
        "\n",
        "plt.show()"
      ]
    },
    {
      "cell_type": "code",
      "execution_count": null,
      "metadata": {
        "id": "todAunknD3ci"
      },
      "outputs": [],
      "source": []
    },
    {
      "cell_type": "code",
      "execution_count": null,
      "metadata": {
        "id": "pETug_GhD3ep"
      },
      "outputs": [],
      "source": []
    },
    {
      "cell_type": "code",
      "execution_count": null,
      "metadata": {
        "id": "om7pI0LgFC_G"
      },
      "outputs": [],
      "source": []
    },
    {
      "cell_type": "code",
      "execution_count": null,
      "metadata": {
        "id": "KpK7DHc5Lwo8"
      },
      "outputs": [],
      "source": [
        "heat = abs(np.divide(predicted_prices-y, y))\n",
        "heatM = []"
      ]
    },
    {
      "cell_type": "code",
      "execution_count": null,
      "metadata": {
        "id": "fcQnn2EbWgJp"
      },
      "outputs": [],
      "source": [
        "import folium\n",
        "m = folium.Map(location=[47.605687, -122.328773], zoom_start=8)"
      ]
    },
    {
      "cell_type": "code",
      "execution_count": null,
      "metadata": {
        "id": "IYLiXm82vyxG"
      },
      "outputs": [],
      "source": [
        "pophtml = \"\"\"\n",
        "<b>Price:</b> {}<br>\n",
        "<b>Predicted Price:</b> {}<br>\n",
        "<b>Bedrooms:</b> {}<br>\n",
        "<b>Bathrooms:</b> {}<br>\n",
        "<b>Sqft living:</b> {}<br>\n",
        "<b>Sqft lot:</b> {}<br>\n",
        "<b>Floors:</b> {}<br>\n",
        "<b>Waterfront:</b> {}<br>\n",
        "<b>View:</b> {}<br>\n",
        "<b>Condition:</b> {}<br>\n",
        "<b>Grade:</b> {}<br>\n",
        "<b>Sqft above:</b> {}<br>\n",
        "<b>Sqft basement:</b> {}<br>\n",
        "<b>Year built:</b> {}<br>\n",
        "<b>Year renovated:</b> {}<br>\n",
        "<b>Zipcode:</b> {}<br>\n",
        "<b>Latitude:</b> {}<br>\n",
        "<b>Longitude:</b> {}<br>\n",
        "<b>Sqft living15:</b> {}<br>\n",
        "<b>Sqft lot15:</b> {}\n",
        "\"\"\"\n",
        "\n",
        "popup_html = []\n",
        "for i in range(21611):\n",
        "  popup_html.append(pophtml.format(dataRaw.loc[i, 'price'], predicted_prices[i], dataRaw.loc[i, 'bedrooms'], dataRaw.loc[i, 'bathrooms'], dataRaw.loc[i, 'sqft_living'], dataRaw.loc[i, 'sqft_lot'], dataRaw.loc[i, 'floors'], dataRaw.loc[i, 'waterfront'], dataRaw.loc[i, 'view'], \n",
        "                                dataRaw.loc[i, 'condition'], dataRaw.loc[i, 'grade'], dataRaw.loc[i, 'sqft_above'], dataRaw.loc[i, 'sqft_basement'], dataRaw.loc[i, 'yr_built'], dataRaw.loc[i, 'yr_renovated'], dataRaw.loc[i, 'zipcode'], \n",
        "                                dataRaw.loc[i, 'lat'], dataRaw.loc[i, 'long'], dataRaw.loc[i, 'sqft_living15'], dataRaw.loc[i, 'sqft_lot15']))\n",
        "  \n",
        "  hp = [dataRaw.loc[i, 'lat'], dataRaw.loc[i, 'long'], heat[i]]\n",
        "  heatM.append(hp)"
      ]
    },
    {
      "cell_type": "code",
      "execution_count": null,
      "metadata": {
        "id": "iLxPqdwQGR-n"
      },
      "outputs": [],
      "source": [
        "heatM = pd.DataFrame(heatM)"
      ]
    },
    {
      "cell_type": "code",
      "execution_count": null,
      "metadata": {
        "id": "VXgUOFmpGuof",
        "colab": {
          "base_uri": "https://localhost:8080/"
        },
        "outputId": "e5fb005b-9567-4cee-c214-db64c2a49b70"
      },
      "outputs": [
        {
          "output_type": "execute_result",
          "data": {
            "text/plain": [
              "(array([12967, 17287, 21610]), array([2, 2, 2]))"
            ]
          },
          "metadata": {},
          "execution_count": 41
        }
      ],
      "source": [
        "np.where(heatM.isnull().values==True)"
      ]
    },
    {
      "cell_type": "code",
      "execution_count": null,
      "metadata": {
        "id": "TDZGvgqWHgYM"
      },
      "outputs": [],
      "source": [
        "heatM = heatM.drop(np.where(heatM.isnull().values==True)[0])\n",
        "heatM = heatM.drop(np.where(heatM.isnull().values==True)[1])"
      ]
    },
    {
      "cell_type": "code",
      "execution_count": null,
      "metadata": {
        "id": "KmBOLRMQbmxa"
      },
      "outputs": [],
      "source": [
        "from folium.plugins import MarkerCluster\n",
        "cluster_marcadores = MarkerCluster().add_to(m)\n",
        "\n",
        "for i in range(21611):\n",
        "    folium.Marker(location=[dataRaw.loc[i, 'lat'], dataRaw.loc[i, 'long']], popup=popup_html[i]).add_to(cluster_marcadores)"
      ]
    },
    {
      "cell_type": "code",
      "execution_count": null,
      "metadata": {
        "id": "hrCyRsfgF_i1",
        "colab": {
          "base_uri": "https://localhost:8080/"
        },
        "outputId": "5404c23e-6106-4cbd-c664-6540a902fd1d"
      },
      "outputs": [
        {
          "output_type": "execute_result",
          "data": {
            "text/plain": [
              "<folium.plugins.heat_map.HeatMap at 0x7fdbfc25a970>"
            ]
          },
          "metadata": {},
          "execution_count": 44
        }
      ],
      "source": [
        "from folium.plugins import HeatMap\n",
        "#mais vermelho melhor a predição\n",
        "HeatMap(heatM, min_opacity=0, blur = 40,gradient = {0.2: 'red', 0.4: 'lime', 0.6: 'blue'}).add_to(m)"
      ]
    },
    {
      "cell_type": "code",
      "execution_count": null,
      "metadata": {
        "id": "1YJvzf9bXnOC"
      },
      "outputs": [],
      "source": [
        "m.save('/content/map.html')\n",
        "m.save('/content/drive/MyDrive/map.html')"
      ]
    }
  ],
  "metadata": {
    "accelerator": "GPU",
    "colab": {
      "provenance": [],
      "gpuType": "T4"
    },
    "gpuClass": "standard",
    "kernelspec": {
      "display_name": "Python 3",
      "name": "python3"
    },
    "language_info": {
      "name": "python"
    }
  },
  "nbformat": 4,
  "nbformat_minor": 0
}